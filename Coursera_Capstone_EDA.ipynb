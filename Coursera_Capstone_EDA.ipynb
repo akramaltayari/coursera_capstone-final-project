{
 "cells": [
  {
   "cell_type": "markdown",
   "metadata": {
    "nbpresent": {
     "id": "9a756d59-eaac-4096-9072-3b2d0b4e33ae"
    }
   },
   "source": [
    "# EDA"
   ]
  },
  {
   "cell_type": "markdown",
   "metadata": {
    "nbpresent": {
     "id": "232f182a-5024-4d1a-bbf9-43b27a942cad"
    }
   },
   "source": [
    "This notebook contains all the exploratory work done for the project.\n",
    "\n",
    "First, we will sanitize and clean by doing a thorough exploration of  the dataset. Looking into each feature –specially the categorical ones– and their respective values. Here, our goal will be to understand how the possible values for each feature are distributed, what does an empty or null value represent for each feature and how should we treat it. As a result, we might end up filling in the missing values, removing the samples in conflict or even dropping the feature altogether.\n",
    "\n",
    "Then, we will explore the possible correlations between feature, if any.\n",
    "\n",
    "Finally, we will implement a quick version of PCA to see if there's any latent feature we could leverage for the classification of crashes\n",
    "\n",
    "All these steps will lead us t a curated dataset suitable for the classifiers we will build on another notebook."
   ]
  },
  {
   "cell_type": "markdown",
   "metadata": {
    "heading_collapsed": true,
    "nbpresent": {
     "id": "e700f989-0b2b-4cc6-9614-77476c23e0c4"
    }
   },
   "source": [
    "## 1. Initialization and Data Loading"
   ]
  },
  {
   "cell_type": "markdown",
   "metadata": {
    "hidden": true,
    "nbpresent": {
     "id": "d1c8ebd4-351a-4db1-8807-431498a82836"
    }
   },
   "source": [
    "First, lets import all the libraries we will use in this notebook and define some utility functions."
   ]
  },
  {
   "cell_type": "code",
   "execution_count": 1,
   "metadata": {
    "ExecuteTime": {
     "end_time": "2018-10-10T22:39:06.632110Z",
     "start_time": "2018-10-10T22:39:05.454897Z"
    },
    "hidden": true
   },
   "outputs": [],
   "source": [
    "# Imports and initial setup\n",
    "\n",
    "import numpy as np\n",
    "import pandas as pd\n",
    "from scipy.stats import chi2_contingency\n",
    "from sklearn.decomposition import PCA\n",
    "from sklearn.preprocessing import MinMaxScaler\n",
    "from imblearn.under_sampling import RandomUnderSampler\n",
    "\n",
    "from utils import *\n",
    "\n",
    "%matplotlib inline"
   ]
  },
  {
   "cell_type": "code",
   "execution_count": 2,
   "metadata": {
    "ExecuteTime": {
     "end_time": "2018-10-10T22:39:12.761964Z",
     "start_time": "2018-10-10T22:39:06.633673Z"
    },
    "hidden": true
   },
   "outputs": [],
   "source": [
    "# Read original dataset\n",
    "crash_data = pd.read_csv('data/Crash_Analysis_System_CAS_data.csv')"
   ]
  },
  {
   "cell_type": "code",
   "execution_count": 3,
   "metadata": {
    "ExecuteTime": {
     "end_time": "2018-10-10T22:39:12.768152Z",
     "start_time": "2018-10-10T22:39:12.764315Z"
    },
    "hidden": true,
    "nbpresent": {
     "id": "df59dd72-ae6b-4123-a863-9b4997199aff"
    }
   },
   "outputs": [
    {
     "name": "stdout",
     "output_type": "stream",
     "text": [
      "The dataset has 655,697 samples and 89 features\n"
     ]
    }
   ],
   "source": [
    "print('The dataset has {:3,d} samples and {} features'.format(*crash_data.shape))"
   ]
  },
  {
   "cell_type": "markdown",
   "metadata": {
    "heading_collapsed": true,
    "nbpresent": {
     "id": "88e9e187-c14a-4176-b038-e0c197435dd5"
    }
   },
   "source": [
    "## 2 Removal of Non Relevant Features"
   ]
  },
  {
   "cell_type": "markdown",
   "metadata": {
    "hidden": true,
    "nbpresent": {
     "id": "7cfc30f6-b19a-4b49-a5b2-74ba650688b6"
    }
   },
   "source": [
    "Our dataset is quite big, but still manageable without resorting to the cloud or parallel computing techniques. It contains 655,697 samples. Each with 89 features, including the target one we want to predict. However, not all these features will be useful or relevant towards our goal. The file *Crash_Analysis_System_CAS_data.pdf* –available in the root of the project's repository– contains a description of each feature and is provided by the New Zealand Transport Agency. By reading it, we are able to identifiy some features that we can disregard from the outset. You are encouraged to do a quick read of the document to better understand all the features in the dataset and specifically the ones we are removing in this section."
   ]
  },
  {
   "cell_type": "markdown",
   "metadata": {
    "ExecuteTime": {
     "end_time": "2018-08-25T14:56:38.779489Z",
     "start_time": "2018-08-25T14:56:38.773695Z"
    },
    "hidden": true,
    "nbpresent": {
     "id": "36b1466d-1480-442b-9756-640192fb668c"
    }
   },
   "source": [
    "The following features will be removed. Either because they aren't relevant to our problem or because they are derived from other features making them redundant and producing colinearity problem. For each feature, we specify the corresponding reason:\n",
    "\n",
    "* **_X_**, **_Y_**, **_OBJECTID_**: although these features are useful to uniquely identify a crash and we will use them in a Tableau workbook (more on this below), they are not of much use when it comes to the final model.\n",
    "* **_crashYear_** and **_crashFinancialYear_**: these features could be of value for a historical analysis and for data exploration but again, they're not relevant to the final model. We want the model to be able to analyze and predict the severity of a crash regardless of when it happened. We should also bear in mind the use case for the model. If its purpose is to be  a tool for emergency agencies towards a quicker and better response, the feature vector that the model receives would correspond to crashes that have just happened. Following this logic, the year of the crash becomes irrelevant.\n",
    "* **_tlaID_**: this is the ID of the *Territorial Local Authority*. Since we will use the feature *tlaName* for a better understanding of the data, we will disregard this one as it becomes redundant.\n",
    "* **_areaUnitID_**: by reading the definition of this feature, it’s not clear enough what it represents or how it might be relevant towards our goal. Therefore, we will also disregard it in the name of data sanity.\n",
    "* **_meshblockID_**, **_easting_**, **_northing_**, **_crashRSRP_**, **_crashDirectionDescription_**, **_crashDistance_**, **_crashRPDescription_**, **_crashRPNewsDescription_** **__crashRPDirectionDescription__** **_outdatedLocationDescription_**: although each of these features have value for different purposes, they correspond mainly to reference data used by the NZ Transport Agency for reporting and other administrative purposes. But they do not correspond to data from the crash itself.\n",
    "* **_fatalCount_**, **_seriousInjuryCount_**, **_minorInjuryCount_**: this features are provided by the NZTA after the crash has been processed. Their values are not available at the time of the crah. At the same time, their values are almost completely correlated to our target variable, naturally. So we remove them to avoid data leakage.\n",
    "* **_darkLight_**: this features is used to group values from another feature *light*. Therefore it is highly correlated and we shouldn't use it."
   ]
  },
  {
   "cell_type": "code",
   "execution_count": 4,
   "metadata": {
    "ExecuteTime": {
     "end_time": "2018-10-10T22:39:13.107822Z",
     "start_time": "2018-10-10T22:39:12.770296Z"
    },
    "hidden": true
   },
   "outputs": [],
   "source": [
    "drop = ['X', 'Y', 'OBJECTID', 'crashYear', 'crashFinancialYear', 'tlaID', 'areaUnitID', 'meshblockID',\n",
    "        'easting', 'northing', 'crashRSRP', 'crashDirectionDescription', 'crashDistance', 'crashRPDescription',\n",
    "        'crashRPNewsDescription', 'crashRPDirectionDescription', 'outdatedLocationDescription', 'fatalCount',\n",
    "        'seriousInjuryCount', 'minorInjuryCount', 'darkLight']\n",
    "crash_data.drop(drop, axis=1, inplace=True)"
   ]
  },
  {
   "cell_type": "markdown",
   "metadata": {
    "heading_collapsed": true,
    "nbpresent": {
     "id": "6dbc48a4-51d2-4ffd-9a11-31691c809b54"
    }
   },
   "source": [
    "## 3 Data Sanitization & Feature Distribution"
   ]
  },
  {
   "cell_type": "markdown",
   "metadata": {
    "hidden": true,
    "nbpresent": {
     "id": "003baad5-c9fc-4522-b8b8-7069384c3662"
    }
   },
   "source": [
    "First, we will start by filling al missing values with the placeholder `###`. As we explore each feature individually, we might decide to leave this value. We could also decide to infer a more suitable value by considering the meaning and relevance of the feature. Or we could also decide to remove samples that have this value as they could be inconsistent with the feature's definition."
   ]
  },
  {
   "cell_type": "code",
   "execution_count": 5,
   "metadata": {
    "ExecuteTime": {
     "end_time": "2018-10-10T22:39:14.524402Z",
     "start_time": "2018-10-10T22:39:13.109617Z"
    },
    "hidden": true
   },
   "outputs": [],
   "source": [
    "crash_data.fillna('###', inplace=True)"
   ]
  },
  {
   "cell_type": "markdown",
   "metadata": {
    "heading_collapsed": true,
    "hidden": true
   },
   "source": [
    "### 3.1 Categorical Features"
   ]
  },
  {
   "cell_type": "markdown",
   "metadata": {
    "ExecuteTime": {
     "end_time": "2018-08-26T20:28:27.584360Z",
     "start_time": "2018-08-26T20:28:27.530492Z"
    },
    "heading_collapsed": true,
    "hidden": true,
    "nbpresent": {
     "id": "56886c6a-d017-4cfd-837e-158044bc5a4d"
    }
   },
   "source": [
    "#### crashSeverity"
   ]
  },
  {
   "cell_type": "markdown",
   "metadata": {
    "hidden": true,
    "nbpresent": {
     "id": "86a8d758-93af-4adc-9367-dfce63aaef6e"
    }
   },
   "source": [
    "This is our target feature. So we'll start with it."
   ]
  },
  {
   "cell_type": "code",
   "execution_count": 6,
   "metadata": {
    "ExecuteTime": {
     "end_time": "2018-10-10T22:39:14.894581Z",
     "start_time": "2018-10-10T22:39:14.526096Z"
    },
    "hidden": true,
    "nbpresent": {
     "id": "9a9797c6-3bf8-415b-bf6e-48eec22b81f8"
    },
    "scrolled": false
   },
   "outputs": [
    {
     "data": {
      "image/png": "[encoded data removed]",
      "text/plain": [
       "<matplotlib.figure.Figure at 0x1a101ef438>"
      ]
     },
     "metadata": {},
     "output_type": "display_data"
    }
   ],
   "source": [
    "plot_data = create_plot_data(crash_data, 'crashSeverity')\n",
    "plot_and_annotate(plot_data, color='green')"
   ]
  },
  {
   "cell_type": "markdown",
   "metadata": {
    "hidden": true,
    "nbpresent": {
     "id": "b7f339b5-cc95-4972-b745-82d1738ea6fc"
    }
   },
   "source": [
    "The first thing that we notice is the astonishing small number of fatal crashes there has been; considering this is data going back to the year 2000. We should also mention that New Zealand has had a consistent policy with regard to transportation and road safety.\n",
    "\n",
    "Also, it is important to note here –as the NZ Transport Agency warns– that the reporting of crashes increses with their severity. Meaning that all *fatal* crashes have been reported most likely, but at the same time there will be *Non Injury* and *Minor* crashes that weren't reported. This decision falls somewhat to the person in charge of responding to the crash and reporting it.\n",
    "\n",
    "However, the most important thing to notice is how these classes are distributed and the imbalance between them. Since we want to predict these classes, and because the dispatched response would be very different depending on our prediction, we definitely need to be very careful about how we measure the performance of our model.\n",
    "\n",
    "To this end, and considering we will be trying different algorithms, we will rely on an array of performance metrics that will help us evaluate and chose the best algorithm for the task. Namely, for each algorithm, we will analyze the following performance metrics:\n",
    "* Precision\n",
    "* Recall\n",
    "* F-Score"
   ]
  },
  {
   "cell_type": "markdown",
   "metadata": {
    "heading_collapsed": true,
    "hidden": true,
    "nbpresent": {
     "id": "45435375-2890-4578-ac52-273ac788ab7a"
    }
   },
   "source": [
    "#### multiVehicle"
   ]
  },
  {
   "cell_type": "code",
   "execution_count": 7,
   "metadata": {
    "ExecuteTime": {
     "end_time": "2018-10-10T22:39:15.107526Z",
     "start_time": "2018-10-10T22:39:14.897003Z"
    },
    "hidden": true,
    "nbpresent": {
     "id": "3e2f2c78-85c3-4ad5-885c-141e1c207833"
    }
   },
   "outputs": [
    {
     "data": {
      "image/png": "[encoded data removed]",
      "text/plain": [
       "<matplotlib.figure.Figure at 0x1a0f3f21d0>"
      ]
     },
     "metadata": {},
     "output_type": "display_data"
    }
   ],
   "source": [
    "plot_data = create_plot_data(crash_data, 'multiVehicle')\n",
    "plot_and_annotate(plot_data, color='green')"
   ]
  },
  {
   "cell_type": "markdown",
   "metadata": {
    "hidden": true,
    "nbpresent": {
     "id": "35382387-de71-47a2-af1b-4154a4e3883c"
    }
   },
   "source": [
    "This feature doesn't raise any alarm or suspitions with regard to its values. But we do take notice of its distribution."
   ]
  },
  {
   "cell_type": "markdown",
   "metadata": {
    "heading_collapsed": true,
    "hidden": true,
    "nbpresent": {
     "id": "9effcfed-9177-4b53-86cb-7314a4d98507"
    }
   },
   "source": [
    "#### holiday"
   ]
  },
  {
   "cell_type": "code",
   "execution_count": 8,
   "metadata": {
    "ExecuteTime": {
     "end_time": "2018-10-10T22:39:15.275932Z",
     "start_time": "2018-10-10T22:39:15.109857Z"
    },
    "hidden": true,
    "nbpresent": {
     "id": "69e744fb-0e54-4f53-8565-57a0739dc9de"
    }
   },
   "outputs": [
    {
     "data": {
      "image/png": "[encoded data removed]",
      "text/plain": [
       "<matplotlib.figure.Figure at 0x1a0f276cf8>"
      ]
     },
     "metadata": {},
     "output_type": "display_data"
    }
   ],
   "source": [
    "plot_data = create_plot_data(crash_data, 'holiday')\n",
    "plot_and_annotate(plot_data, color='green')"
   ]
  },
  {
   "cell_type": "markdown",
   "metadata": {
    "hidden": true
   },
   "source": [
    "Here we see that almost all crashes happened on a regular day. One could have assumed this would be different since alcohol consumption levels tend to be higher during any of these holidays."
   ]
  },
  {
   "cell_type": "markdown",
   "metadata": {
    "heading_collapsed": true,
    "hidden": true
   },
   "source": [
    "#### regionDesc"
   ]
  },
  {
   "cell_type": "code",
   "execution_count": 9,
   "metadata": {
    "ExecuteTime": {
     "end_time": "2018-10-10T22:39:15.524476Z",
     "start_time": "2018-10-10T22:39:15.278252Z"
    },
    "hidden": true
   },
   "outputs": [
    {
     "data": {
      "image/png": "[encoded data removed]",
      "text/plain": [
       "<matplotlib.figure.Figure at 0x1a2fe058d0>"
      ]
     },
     "metadata": {},
     "output_type": "display_data"
    }
   ],
   "source": [
    "plot_data = create_plot_data(crash_data, 'regionDesc')\n",
    "plot_and_annotate(plot_data, color='green')"
   ]
  },
  {
   "cell_type": "markdown",
   "metadata": {
    "hidden": true
   },
   "source": [
    "The distribution of values for this features is consistent with population density throughout the country. It will be interesting to see how the other features behave with regard to this one."
   ]
  },
  {
   "cell_type": "markdown",
   "metadata": {
    "heading_collapsed": true,
    "hidden": true
   },
   "source": [
    "#### tlaName"
   ]
  },
  {
   "cell_type": "markdown",
   "metadata": {
    "hidden": true
   },
   "source": [
    "As the catalog describes, this feature indicates the local authority that oversaw the crash and the following procedures. Therefore, for almost every case, the tlaName will be a district withing the region of the crash.\n",
    "\n",
    "However, for some cases, the tlaName will be a distrcit that doesn't belong to the region indicated for the crash. We understand that these cases correspond to crashes that happened close to the border between two regions and for some unknown reason, the TLA that responded to the crash was from another region from where the crash happened.\n",
    "\n",
    "In this instance we will consider this as of no consequence. However, it could be necesary to consider treating or removing this feature to reduce the *noise* it might generate."
   ]
  },
  {
   "cell_type": "markdown",
   "metadata": {
    "heading_collapsed": true,
    "hidden": true
   },
   "source": [
    "#### intersection"
   ]
  },
  {
   "cell_type": "code",
   "execution_count": 10,
   "metadata": {
    "ExecuteTime": {
     "end_time": "2018-10-10T22:39:15.681928Z",
     "start_time": "2018-10-10T22:39:15.526884Z"
    },
    "hidden": true,
    "scrolled": true
   },
   "outputs": [
    {
     "data": {
      "image/png": "[encoded data removed]",
      "text/plain": [
       "<matplotlib.figure.Figure at 0x1a2fe00e80>"
      ]
     },
     "metadata": {},
     "output_type": "display_data"
    }
   ],
   "source": [
    "plot_data = create_plot_data(crash_data, 'intersection')\n",
    "plot_and_annotate(plot_data, color='green')"
   ]
  },
  {
   "cell_type": "markdown",
   "metadata": {
    "hidden": true
   },
   "source": [
    "This feature doesn't present anything strange or special. One could argue though that the value *Unknown* deserves some special treatment. However, the NZ Transport Agency has defined it in the PDF as a proper value, giving it complete legitamecy."
   ]
  },
  {
   "cell_type": "markdown",
   "metadata": {
    "heading_collapsed": true,
    "hidden": true
   },
   "source": [
    "#### junctionType"
   ]
  },
  {
   "cell_type": "code",
   "execution_count": 11,
   "metadata": {
    "ExecuteTime": {
     "end_time": "2018-10-10T22:39:15.868237Z",
     "start_time": "2018-10-10T22:39:15.684176Z"
    },
    "hidden": true
   },
   "outputs": [
    {
     "data": {
      "image/png": "[encoded data removed]",
      "text/plain": [
       "<matplotlib.figure.Figure at 0x1a2fcef208>"
      ]
     },
     "metadata": {},
     "output_type": "display_data"
    }
   ],
   "source": [
    "plot_data = create_plot_data(crash_data, 'junctionType')\n",
    "plot_and_annotate(plot_data, color='green')"
   ]
  },
  {
   "cell_type": "markdown",
   "metadata": {
    "hidden": true
   },
   "source": [
    "Again, as with *intersection*, the value *Unknown* is completely legitimate."
   ]
  },
  {
   "cell_type": "markdown",
   "metadata": {
    "heading_collapsed": true,
    "hidden": true
   },
   "source": [
    "#### cornerRoadSideRoad"
   ]
  },
  {
   "cell_type": "code",
   "execution_count": 12,
   "metadata": {
    "ExecuteTime": {
     "end_time": "2018-10-10T22:39:16.005964Z",
     "start_time": "2018-10-10T22:39:15.870493Z"
    },
    "hidden": true
   },
   "outputs": [
    {
     "data": {
      "image/png": "[encoded data removed]",
      "text/plain": [
       "<matplotlib.figure.Figure at 0x1a2fc6e940>"
      ]
     },
     "metadata": {},
     "output_type": "display_data"
    }
   ],
   "source": [
    "plot_data = create_plot_data(crash_data, 'cornerRoadSideRoad')\n",
    "plot_and_annotate(plot_data, color='green')"
   ]
  },
  {
   "cell_type": "markdown",
   "metadata": {
    "hidden": true
   },
   "source": [
    "Here we finally see something that required our attention. First, let us clarify that the name of this feature in the dataset corresponds to the feature refered to as Crash *Road Side Road (CR_RD_SIDE_RD)* from the PDF. In the PDF, it says that the possible values are either `1`or `2`. But here we find that there are some samples with values `0` –which comes directly from the dataset– and with `###` –which was our way to denote missing values. In any case, these are samples with values that are not included in the feature's definition.\n",
    "\n",
    "By looking at the plot above, we see that these two strange values occur on a very small number of samples:"
   ]
  },
  {
   "cell_type": "code",
   "execution_count": 13,
   "metadata": {
    "ExecuteTime": {
     "end_time": "2018-10-10T22:39:16.019095Z",
     "start_time": "2018-10-10T22:39:16.008392Z"
    },
    "hidden": true
   },
   "outputs": [
    {
     "data": {
      "text/html": [
       "<div>\n",
       "<style scoped>\n",
       "    .dataframe tbody tr th:only-of-type {\n",
       "        vertical-align: middle;\n",
       "    }\n",
       "\n",
       "    .dataframe tbody tr th {\n",
       "        vertical-align: top;\n",
       "    }\n",
       "\n",
       "    .dataframe thead th {\n",
       "        text-align: right;\n",
       "    }\n",
       "</style>\n",
       "<table border=\"1\" class=\"dataframe\">\n",
       "  <thead>\n",
       "    <tr style=\"text-align: right;\">\n",
       "      <th></th>\n",
       "      <th>cornerRoadSideRoad</th>\n",
       "      <th>percent</th>\n",
       "    </tr>\n",
       "  </thead>\n",
       "  <tbody>\n",
       "    <tr>\n",
       "      <th>1.0</th>\n",
       "      <td>610996</td>\n",
       "      <td>93.182674</td>\n",
       "    </tr>\n",
       "    <tr>\n",
       "      <th>2.0</th>\n",
       "      <td>44696</td>\n",
       "      <td>6.816563</td>\n",
       "    </tr>\n",
       "    <tr>\n",
       "      <th>0.0</th>\n",
       "      <td>3</td>\n",
       "      <td>0.000458</td>\n",
       "    </tr>\n",
       "    <tr>\n",
       "      <th>###</th>\n",
       "      <td>2</td>\n",
       "      <td>0.000305</td>\n",
       "    </tr>\n",
       "  </tbody>\n",
       "</table>\n",
       "</div>"
      ],
      "text/plain": [
       "     cornerRoadSideRoad    percent\n",
       "1.0              610996  93.182674\n",
       "2.0               44696   6.816563\n",
       "0.0                   3   0.000458\n",
       "###                   2   0.000305"
      ]
     },
     "execution_count": 13,
     "metadata": {},
     "output_type": "execute_result"
    }
   ],
   "source": [
    "plot_data"
   ]
  },
  {
   "cell_type": "markdown",
   "metadata": {
    "hidden": true
   },
   "source": [
    "One option would be to remove these five samples from the dataset. Another options would be to fill these cases with an appropriate value. However, we have no criteria to choose such a value. Besides these few cases only represent an infinitesimal portion of the dataset.\n",
    "\n",
    "As a final check before removing them, let us see what is the creash severity for these cases."
   ]
  },
  {
   "cell_type": "code",
   "execution_count": 14,
   "metadata": {
    "ExecuteTime": {
     "end_time": "2018-10-10T22:39:16.047353Z",
     "start_time": "2018-10-10T22:39:16.021921Z"
    },
    "hidden": true
   },
   "outputs": [
    {
     "data": {
      "text/html": [
       "<div>\n",
       "<style scoped>\n",
       "    .dataframe tbody tr th:only-of-type {\n",
       "        vertical-align: middle;\n",
       "    }\n",
       "\n",
       "    .dataframe tbody tr th {\n",
       "        vertical-align: top;\n",
       "    }\n",
       "\n",
       "    .dataframe thead th {\n",
       "        text-align: right;\n",
       "    }\n",
       "</style>\n",
       "<table border=\"1\" class=\"dataframe\">\n",
       "  <thead>\n",
       "    <tr style=\"text-align: right;\">\n",
       "      <th></th>\n",
       "      <th>cornerRoadSideRoad</th>\n",
       "      <th>crashSeverity</th>\n",
       "    </tr>\n",
       "  </thead>\n",
       "  <tbody>\n",
       "    <tr>\n",
       "      <th>21021</th>\n",
       "      <td>0</td>\n",
       "      <td>N</td>\n",
       "    </tr>\n",
       "    <tr>\n",
       "      <th>26595</th>\n",
       "      <td>0</td>\n",
       "      <td>N</td>\n",
       "    </tr>\n",
       "    <tr>\n",
       "      <th>547028</th>\n",
       "      <td>###</td>\n",
       "      <td>N</td>\n",
       "    </tr>\n",
       "    <tr>\n",
       "      <th>583837</th>\n",
       "      <td>###</td>\n",
       "      <td>N</td>\n",
       "    </tr>\n",
       "    <tr>\n",
       "      <th>630452</th>\n",
       "      <td>0</td>\n",
       "      <td>N</td>\n",
       "    </tr>\n",
       "  </tbody>\n",
       "</table>\n",
       "</div>"
      ],
      "text/plain": [
       "       cornerRoadSideRoad crashSeverity\n",
       "21021                   0             N\n",
       "26595                   0             N\n",
       "547028                ###             N\n",
       "583837                ###             N\n",
       "630452                  0             N"
      ]
     },
     "execution_count": 14,
     "metadata": {},
     "output_type": "execute_result"
    }
   ],
   "source": [
    "mask = crash_data[crash_data['cornerRoadSideRoad'].isin([0, '###'])]\n",
    "mask[['cornerRoadSideRoad', 'crashSeverity']]"
   ]
  },
  {
   "cell_type": "markdown",
   "metadata": {
    "hidden": true
   },
   "source": [
    "Great. They all correspond to *non-injury* cases. Since this is the class that has the most cases and is responsable for most of the imbalance between classes, we can go ahead and remove them without any significant loss of information."
   ]
  },
  {
   "cell_type": "code",
   "execution_count": 15,
   "metadata": {
    "ExecuteTime": {
     "end_time": "2018-10-10T22:39:16.414852Z",
     "start_time": "2018-10-10T22:39:16.049759Z"
    },
    "hidden": true
   },
   "outputs": [],
   "source": [
    "crash_data.drop(mask.index, inplace=True)"
   ]
  },
  {
   "cell_type": "markdown",
   "metadata": {
    "heading_collapsed": true,
    "hidden": true
   },
   "source": [
    "#### directionRoleDescription"
   ]
  },
  {
   "cell_type": "code",
   "execution_count": 16,
   "metadata": {
    "ExecuteTime": {
     "end_time": "2018-10-10T22:39:16.587043Z",
     "start_time": "2018-10-10T22:39:16.416786Z"
    },
    "hidden": true,
    "scrolled": false
   },
   "outputs": [
    {
     "data": {
      "image/png": "[encoded data removed]",
      "text/plain": [
       "<matplotlib.figure.Figure at 0x10b5db668>"
      ]
     },
     "metadata": {},
     "output_type": "display_data"
    }
   ],
   "source": [
    "plot_data = create_plot_data(crash_data, 'directionRoleDescription')\n",
    "plot_and_annotate(plot_data, color='green')"
   ]
  },
  {
   "cell_type": "markdown",
   "metadata": {
    "hidden": true
   },
   "source": [
    "Once again, wee see a value that is not mentioned in the feature's definition: `Unknown`. Also, like before, this value occurs on a very small number of samples. So we repeat the same procedure we followed for the previous feature.\n",
    "\n",
    "Lets see precisely how many samples are there for this value:"
   ]
  },
  {
   "cell_type": "code",
   "execution_count": 17,
   "metadata": {
    "ExecuteTime": {
     "end_time": "2018-10-10T22:39:16.596268Z",
     "start_time": "2018-10-10T22:39:16.589515Z"
    },
    "hidden": true,
    "scrolled": true
   },
   "outputs": [
    {
     "data": {
      "text/html": [
       "<div>\n",
       "<style scoped>\n",
       "    .dataframe tbody tr th:only-of-type {\n",
       "        vertical-align: middle;\n",
       "    }\n",
       "\n",
       "    .dataframe tbody tr th {\n",
       "        vertical-align: top;\n",
       "    }\n",
       "\n",
       "    .dataframe thead th {\n",
       "        text-align: right;\n",
       "    }\n",
       "</style>\n",
       "<table border=\"1\" class=\"dataframe\">\n",
       "  <thead>\n",
       "    <tr style=\"text-align: right;\">\n",
       "      <th></th>\n",
       "      <th>directionRoleDescription</th>\n",
       "      <th>percent</th>\n",
       "    </tr>\n",
       "  </thead>\n",
       "  <tbody>\n",
       "    <tr>\n",
       "      <th>North</th>\n",
       "      <td>201212</td>\n",
       "      <td>30.686969</td>\n",
       "    </tr>\n",
       "    <tr>\n",
       "      <th>South</th>\n",
       "      <td>190989</td>\n",
       "      <td>29.127853</td>\n",
       "    </tr>\n",
       "    <tr>\n",
       "      <th>East</th>\n",
       "      <td>132506</td>\n",
       "      <td>20.208574</td>\n",
       "    </tr>\n",
       "    <tr>\n",
       "      <th>West</th>\n",
       "      <td>130979</td>\n",
       "      <td>19.975690</td>\n",
       "    </tr>\n",
       "    <tr>\n",
       "      <th>Unknown</th>\n",
       "      <td>6</td>\n",
       "      <td>0.000915</td>\n",
       "    </tr>\n",
       "  </tbody>\n",
       "</table>\n",
       "</div>"
      ],
      "text/plain": [
       "         directionRoleDescription    percent\n",
       "North                      201212  30.686969\n",
       "South                      190989  29.127853\n",
       "East                       132506  20.208574\n",
       "West                       130979  19.975690\n",
       "Unknown                         6   0.000915"
      ]
     },
     "execution_count": 17,
     "metadata": {},
     "output_type": "execute_result"
    }
   ],
   "source": [
    "plot_data"
   ]
  },
  {
   "cell_type": "markdown",
   "metadata": {
    "hidden": true
   },
   "source": [
    "Lets check the crash severity for these cases."
   ]
  },
  {
   "cell_type": "code",
   "execution_count": 18,
   "metadata": {
    "ExecuteTime": {
     "end_time": "2018-10-10T22:39:16.641735Z",
     "start_time": "2018-10-10T22:39:16.598833Z"
    },
    "hidden": true
   },
   "outputs": [
    {
     "data": {
      "text/html": [
       "<div>\n",
       "<style scoped>\n",
       "    .dataframe tbody tr th:only-of-type {\n",
       "        vertical-align: middle;\n",
       "    }\n",
       "\n",
       "    .dataframe tbody tr th {\n",
       "        vertical-align: top;\n",
       "    }\n",
       "\n",
       "    .dataframe thead th {\n",
       "        text-align: right;\n",
       "    }\n",
       "</style>\n",
       "<table border=\"1\" class=\"dataframe\">\n",
       "  <thead>\n",
       "    <tr style=\"text-align: right;\">\n",
       "      <th></th>\n",
       "      <th>directionRoleDescription</th>\n",
       "      <th>crashSeverity</th>\n",
       "    </tr>\n",
       "  </thead>\n",
       "  <tbody>\n",
       "    <tr>\n",
       "      <th>8023</th>\n",
       "      <td>Unknown</td>\n",
       "      <td>M</td>\n",
       "    </tr>\n",
       "    <tr>\n",
       "      <th>12792</th>\n",
       "      <td>Unknown</td>\n",
       "      <td>M</td>\n",
       "    </tr>\n",
       "    <tr>\n",
       "      <th>27911</th>\n",
       "      <td>Unknown</td>\n",
       "      <td>N</td>\n",
       "    </tr>\n",
       "    <tr>\n",
       "      <th>34749</th>\n",
       "      <td>Unknown</td>\n",
       "      <td>N</td>\n",
       "    </tr>\n",
       "    <tr>\n",
       "      <th>38166</th>\n",
       "      <td>Unknown</td>\n",
       "      <td>N</td>\n",
       "    </tr>\n",
       "    <tr>\n",
       "      <th>67192</th>\n",
       "      <td>Unknown</td>\n",
       "      <td>N</td>\n",
       "    </tr>\n",
       "  </tbody>\n",
       "</table>\n",
       "</div>"
      ],
      "text/plain": [
       "      directionRoleDescription crashSeverity\n",
       "8023                   Unknown             M\n",
       "12792                  Unknown             M\n",
       "27911                  Unknown             N\n",
       "34749                  Unknown             N\n",
       "38166                  Unknown             N\n",
       "67192                  Unknown             N"
      ]
     },
     "execution_count": 18,
     "metadata": {},
     "output_type": "execute_result"
    }
   ],
   "source": [
    "mask = crash_data[crash_data['directionRoleDescription'] == 'Unknown']\n",
    "mask[['directionRoleDescription', 'crashSeverity']]"
   ]
  },
  {
   "cell_type": "markdown",
   "metadata": {
    "hidden": true
   },
   "source": [
    "In this case, the samples are split between *non-injury* and *Minor* crashes. Which are the two majority classes. So again, we can go ahead and remove them."
   ]
  },
  {
   "cell_type": "code",
   "execution_count": 19,
   "metadata": {
    "ExecuteTime": {
     "end_time": "2018-10-10T22:39:16.985549Z",
     "start_time": "2018-10-10T22:39:16.643581Z"
    },
    "hidden": true
   },
   "outputs": [],
   "source": [
    "crash_data.drop(mask.index, inplace=True)"
   ]
  },
  {
   "cell_type": "markdown",
   "metadata": {
    "heading_collapsed": true,
    "hidden": true
   },
   "source": [
    "#### crashSHDescription"
   ]
  },
  {
   "cell_type": "code",
   "execution_count": 20,
   "metadata": {
    "ExecuteTime": {
     "end_time": "2018-10-10T22:39:17.139869Z",
     "start_time": "2018-10-10T22:39:16.987572Z"
    },
    "hidden": true
   },
   "outputs": [
    {
     "data": {
      "image/png": "[encoded data removed]",
      "text/plain": [
       "<matplotlib.figure.Figure at 0x1a2fe00470>"
      ]
     },
     "metadata": {},
     "output_type": "display_data"
    }
   ],
   "source": [
    "plot_data = create_plot_data(crash_data, 'crashSHDescription')\n",
    "plot_and_annotate(plot_data, color='green')"
   ]
  },
  {
   "cell_type": "markdown",
   "metadata": {
    "hidden": true
   },
   "source": [
    "This feature doesn't present any strange behaviour."
   ]
  },
  {
   "cell_type": "markdown",
   "metadata": {
    "heading_collapsed": true,
    "hidden": true
   },
   "source": [
    "#### crashRPSH"
   ]
  },
  {
   "cell_type": "markdown",
   "metadata": {
    "hidden": true
   },
   "source": [
    "This feature has so many possible values that plotting them leaves the plot unreadable. Instead, we show the number on samples for each possible value."
   ]
  },
  {
   "cell_type": "code",
   "execution_count": 21,
   "metadata": {
    "ExecuteTime": {
     "end_time": "2018-10-10T22:39:17.197346Z",
     "start_time": "2018-10-10T22:39:17.141486Z"
    },
    "hidden": true,
    "scrolled": true
   },
   "outputs": [
    {
     "data": {
      "text/html": [
       "<div>\n",
       "<style scoped>\n",
       "    .dataframe tbody tr th:only-of-type {\n",
       "        vertical-align: middle;\n",
       "    }\n",
       "\n",
       "    .dataframe tbody tr th {\n",
       "        vertical-align: top;\n",
       "    }\n",
       "\n",
       "    .dataframe thead th {\n",
       "        text-align: right;\n",
       "    }\n",
       "</style>\n",
       "<table border=\"1\" class=\"dataframe\">\n",
       "  <thead>\n",
       "    <tr style=\"text-align: right;\">\n",
       "      <th></th>\n",
       "      <th>crashRPSH</th>\n",
       "      <th>percent</th>\n",
       "    </tr>\n",
       "  </thead>\n",
       "  <tbody>\n",
       "    <tr>\n",
       "      <th>0.0</th>\n",
       "      <td>468584</td>\n",
       "      <td>71.464695</td>\n",
       "    </tr>\n",
       "    <tr>\n",
       "      <th>###</th>\n",
       "      <td>79452</td>\n",
       "      <td>12.117385</td>\n",
       "    </tr>\n",
       "    <tr>\n",
       "      <th>2.0</th>\n",
       "      <td>20114</td>\n",
       "      <td>3.067627</td>\n",
       "    </tr>\n",
       "    <tr>\n",
       "      <th>3.0</th>\n",
       "      <td>11243</td>\n",
       "      <td>1.714693</td>\n",
       "    </tr>\n",
       "    <tr>\n",
       "      <th>6.0</th>\n",
       "      <td>9721</td>\n",
       "      <td>1.482569</td>\n",
       "    </tr>\n",
       "    <tr>\n",
       "      <th>16.0</th>\n",
       "      <td>7908</td>\n",
       "      <td>1.206065</td>\n",
       "    </tr>\n",
       "    <tr>\n",
       "      <th>5.0</th>\n",
       "      <td>4017</td>\n",
       "      <td>0.612641</td>\n",
       "    </tr>\n",
       "    <tr>\n",
       "      <th>20.0</th>\n",
       "      <td>2864</td>\n",
       "      <td>0.436794</td>\n",
       "    </tr>\n",
       "    <tr>\n",
       "      <th>73.0</th>\n",
       "      <td>2760</td>\n",
       "      <td>0.420933</td>\n",
       "    </tr>\n",
       "    <tr>\n",
       "      <th>30.0</th>\n",
       "      <td>2598</td>\n",
       "      <td>0.396226</td>\n",
       "    </tr>\n",
       "    <tr>\n",
       "      <th>8.0</th>\n",
       "      <td>2458</td>\n",
       "      <td>0.374875</td>\n",
       "    </tr>\n",
       "    <tr>\n",
       "      <th>25.0</th>\n",
       "      <td>2269</td>\n",
       "      <td>0.346050</td>\n",
       "    </tr>\n",
       "    <tr>\n",
       "      <th>29.0</th>\n",
       "      <td>2228</td>\n",
       "      <td>0.339797</td>\n",
       "    </tr>\n",
       "    <tr>\n",
       "      <th>4.0</th>\n",
       "      <td>2128</td>\n",
       "      <td>0.324546</td>\n",
       "    </tr>\n",
       "    <tr>\n",
       "      <th>45.0</th>\n",
       "      <td>2101</td>\n",
       "      <td>0.320428</td>\n",
       "    </tr>\n",
       "    <tr>\n",
       "      <th>35.0</th>\n",
       "      <td>1754</td>\n",
       "      <td>0.267506</td>\n",
       "    </tr>\n",
       "    <tr>\n",
       "      <th>12.0</th>\n",
       "      <td>1704</td>\n",
       "      <td>0.259880</td>\n",
       "    </tr>\n",
       "    <tr>\n",
       "      <th>74.0</th>\n",
       "      <td>1670</td>\n",
       "      <td>0.254695</td>\n",
       "    </tr>\n",
       "    <tr>\n",
       "      <th>7.0</th>\n",
       "      <td>1498</td>\n",
       "      <td>0.228463</td>\n",
       "    </tr>\n",
       "    <tr>\n",
       "      <th>26.0</th>\n",
       "      <td>1485</td>\n",
       "      <td>0.226480</td>\n",
       "    </tr>\n",
       "    <tr>\n",
       "      <th>10.0</th>\n",
       "      <td>1422</td>\n",
       "      <td>0.216872</td>\n",
       "    </tr>\n",
       "    <tr>\n",
       "      <th>60.0</th>\n",
       "      <td>1391</td>\n",
       "      <td>0.212144</td>\n",
       "    </tr>\n",
       "    <tr>\n",
       "      <th>27.0</th>\n",
       "      <td>1391</td>\n",
       "      <td>0.212144</td>\n",
       "    </tr>\n",
       "    <tr>\n",
       "      <th>50.0</th>\n",
       "      <td>1391</td>\n",
       "      <td>0.212144</td>\n",
       "    </tr>\n",
       "    <tr>\n",
       "      <th>94.0</th>\n",
       "      <td>1240</td>\n",
       "      <td>0.189115</td>\n",
       "    </tr>\n",
       "    <tr>\n",
       "      <th>57.0</th>\n",
       "      <td>1158</td>\n",
       "      <td>0.176609</td>\n",
       "    </tr>\n",
       "    <tr>\n",
       "      <th>23.0</th>\n",
       "      <td>1061</td>\n",
       "      <td>0.161815</td>\n",
       "    </tr>\n",
       "    <tr>\n",
       "      <th>58.0</th>\n",
       "      <td>914</td>\n",
       "      <td>0.139396</td>\n",
       "    </tr>\n",
       "    <tr>\n",
       "      <th>75.0</th>\n",
       "      <td>910</td>\n",
       "      <td>0.138786</td>\n",
       "    </tr>\n",
       "    <tr>\n",
       "      <th>14.0</th>\n",
       "      <td>844</td>\n",
       "      <td>0.128720</td>\n",
       "    </tr>\n",
       "    <tr>\n",
       "      <th>...</th>\n",
       "      <td>...</td>\n",
       "      <td>...</td>\n",
       "    </tr>\n",
       "    <tr>\n",
       "      <th>93.0</th>\n",
       "      <td>290</td>\n",
       "      <td>0.044228</td>\n",
       "    </tr>\n",
       "    <tr>\n",
       "      <th>41.0</th>\n",
       "      <td>282</td>\n",
       "      <td>0.043008</td>\n",
       "    </tr>\n",
       "    <tr>\n",
       "      <th>38.0</th>\n",
       "      <td>279</td>\n",
       "      <td>0.042551</td>\n",
       "    </tr>\n",
       "    <tr>\n",
       "      <th>24.0</th>\n",
       "      <td>265</td>\n",
       "      <td>0.040416</td>\n",
       "    </tr>\n",
       "    <tr>\n",
       "      <th>63.0</th>\n",
       "      <td>253</td>\n",
       "      <td>0.038586</td>\n",
       "    </tr>\n",
       "    <tr>\n",
       "      <th>43.0</th>\n",
       "      <td>235</td>\n",
       "      <td>0.035840</td>\n",
       "    </tr>\n",
       "    <tr>\n",
       "      <th>67.0</th>\n",
       "      <td>228</td>\n",
       "      <td>0.034773</td>\n",
       "    </tr>\n",
       "    <tr>\n",
       "      <th>34.0</th>\n",
       "      <td>226</td>\n",
       "      <td>0.034468</td>\n",
       "    </tr>\n",
       "    <tr>\n",
       "      <th>83.0</th>\n",
       "      <td>225</td>\n",
       "      <td>0.034315</td>\n",
       "    </tr>\n",
       "    <tr>\n",
       "      <th>82.0</th>\n",
       "      <td>217</td>\n",
       "      <td>0.033095</td>\n",
       "    </tr>\n",
       "    <tr>\n",
       "      <th>47.0</th>\n",
       "      <td>211</td>\n",
       "      <td>0.032180</td>\n",
       "    </tr>\n",
       "    <tr>\n",
       "      <th>49.0</th>\n",
       "      <td>189</td>\n",
       "      <td>0.028825</td>\n",
       "    </tr>\n",
       "    <tr>\n",
       "      <th>28.0</th>\n",
       "      <td>181</td>\n",
       "      <td>0.027605</td>\n",
       "    </tr>\n",
       "    <tr>\n",
       "      <th>90.0</th>\n",
       "      <td>163</td>\n",
       "      <td>0.024859</td>\n",
       "    </tr>\n",
       "    <tr>\n",
       "      <th>71.0</th>\n",
       "      <td>156</td>\n",
       "      <td>0.023792</td>\n",
       "    </tr>\n",
       "    <tr>\n",
       "      <th>21.0</th>\n",
       "      <td>132</td>\n",
       "      <td>0.020132</td>\n",
       "    </tr>\n",
       "    <tr>\n",
       "      <th>53.0</th>\n",
       "      <td>130</td>\n",
       "      <td>0.019827</td>\n",
       "    </tr>\n",
       "    <tr>\n",
       "      <th>62.0</th>\n",
       "      <td>121</td>\n",
       "      <td>0.018454</td>\n",
       "    </tr>\n",
       "    <tr>\n",
       "      <th>80.0</th>\n",
       "      <td>111</td>\n",
       "      <td>0.016929</td>\n",
       "    </tr>\n",
       "    <tr>\n",
       "      <th>84.0</th>\n",
       "      <td>89</td>\n",
       "      <td>0.013574</td>\n",
       "    </tr>\n",
       "    <tr>\n",
       "      <th>69.0</th>\n",
       "      <td>88</td>\n",
       "      <td>0.013421</td>\n",
       "    </tr>\n",
       "    <tr>\n",
       "      <th>37.0</th>\n",
       "      <td>86</td>\n",
       "      <td>0.013116</td>\n",
       "    </tr>\n",
       "    <tr>\n",
       "      <th>98.0</th>\n",
       "      <td>77</td>\n",
       "      <td>0.011743</td>\n",
       "    </tr>\n",
       "    <tr>\n",
       "      <th>97.0</th>\n",
       "      <td>57</td>\n",
       "      <td>0.008693</td>\n",
       "    </tr>\n",
       "    <tr>\n",
       "      <th>86.0</th>\n",
       "      <td>57</td>\n",
       "      <td>0.008693</td>\n",
       "    </tr>\n",
       "    <tr>\n",
       "      <th>95.0</th>\n",
       "      <td>56</td>\n",
       "      <td>0.008541</td>\n",
       "    </tr>\n",
       "    <tr>\n",
       "      <th>17.0</th>\n",
       "      <td>39</td>\n",
       "      <td>0.005948</td>\n",
       "    </tr>\n",
       "    <tr>\n",
       "      <th>78.0</th>\n",
       "      <td>33</td>\n",
       "      <td>0.005033</td>\n",
       "    </tr>\n",
       "    <tr>\n",
       "      <th>48.0</th>\n",
       "      <td>30</td>\n",
       "      <td>0.004575</td>\n",
       "    </tr>\n",
       "    <tr>\n",
       "      <th>46.0</th>\n",
       "      <td>17</td>\n",
       "      <td>0.002593</td>\n",
       "    </tr>\n",
       "  </tbody>\n",
       "</table>\n",
       "<p>81 rows × 2 columns</p>\n",
       "</div>"
      ],
      "text/plain": [
       "      crashRPSH    percent\n",
       "0.0      468584  71.464695\n",
       "###       79452  12.117385\n",
       "2.0       20114   3.067627\n",
       "3.0       11243   1.714693\n",
       "6.0        9721   1.482569\n",
       "16.0       7908   1.206065\n",
       "5.0        4017   0.612641\n",
       "20.0       2864   0.436794\n",
       "73.0       2760   0.420933\n",
       "30.0       2598   0.396226\n",
       "8.0        2458   0.374875\n",
       "25.0       2269   0.346050\n",
       "29.0       2228   0.339797\n",
       "4.0        2128   0.324546\n",
       "45.0       2101   0.320428\n",
       "35.0       1754   0.267506\n",
       "12.0       1704   0.259880\n",
       "74.0       1670   0.254695\n",
       "7.0        1498   0.228463\n",
       "26.0       1485   0.226480\n",
       "10.0       1422   0.216872\n",
       "60.0       1391   0.212144\n",
       "27.0       1391   0.212144\n",
       "50.0       1391   0.212144\n",
       "94.0       1240   0.189115\n",
       "57.0       1158   0.176609\n",
       "23.0       1061   0.161815\n",
       "58.0        914   0.139396\n",
       "75.0        910   0.138786\n",
       "14.0        844   0.128720\n",
       "...         ...        ...\n",
       "93.0        290   0.044228\n",
       "41.0        282   0.043008\n",
       "38.0        279   0.042551\n",
       "24.0        265   0.040416\n",
       "63.0        253   0.038586\n",
       "43.0        235   0.035840\n",
       "67.0        228   0.034773\n",
       "34.0        226   0.034468\n",
       "83.0        225   0.034315\n",
       "82.0        217   0.033095\n",
       "47.0        211   0.032180\n",
       "49.0        189   0.028825\n",
       "28.0        181   0.027605\n",
       "90.0        163   0.024859\n",
       "71.0        156   0.023792\n",
       "21.0        132   0.020132\n",
       "53.0        130   0.019827\n",
       "62.0        121   0.018454\n",
       "80.0        111   0.016929\n",
       "84.0         89   0.013574\n",
       "69.0         88   0.013421\n",
       "37.0         86   0.013116\n",
       "98.0         77   0.011743\n",
       "97.0         57   0.008693\n",
       "86.0         57   0.008693\n",
       "95.0         56   0.008541\n",
       "17.0         39   0.005948\n",
       "78.0         33   0.005033\n",
       "48.0         30   0.004575\n",
       "46.0         17   0.002593\n",
       "\n",
       "[81 rows x 2 columns]"
      ]
     },
     "execution_count": 21,
     "metadata": {},
     "output_type": "execute_result"
    }
   ],
   "source": [
    "plot_data = create_plot_data(crash_data, 'crashRPSH')\n",
    "plot_data"
   ]
  },
  {
   "cell_type": "markdown",
   "metadata": {
    "hidden": true
   },
   "source": [
    "The first thing to notice here, is that 71.5% of all samples have a value of `0`, followed by another 12% that have a value of `### `. Together, these two values account for 83% of the dataset. If we expect to get any value from this feature, we will need to treat these two values.\n",
    "\n",
    "In doing so, lets remember that this feture is intended to indicate the State Highway where the crash happened; that is for crashes that happened on a SH, of course. So for crashes with `crashSHDescription=No`, it wouldn't make sense to see anything different than our missing value `###` or `0`.\n",
    "\n",
    "We will first verify this assumption before we focus on samples with `crashSHDescription=Yes`."
   ]
  },
  {
   "cell_type": "code",
   "execution_count": 22,
   "metadata": {
    "ExecuteTime": {
     "end_time": "2018-10-10T22:39:17.449882Z",
     "start_time": "2018-10-10T22:39:17.199725Z"
    },
    "hidden": true,
    "scrolled": true
   },
   "outputs": [
    {
     "data": {
      "text/html": [
       "<div>\n",
       "<style scoped>\n",
       "    .dataframe tbody tr th:only-of-type {\n",
       "        vertical-align: middle;\n",
       "    }\n",
       "\n",
       "    .dataframe tbody tr th {\n",
       "        vertical-align: top;\n",
       "    }\n",
       "\n",
       "    .dataframe thead th {\n",
       "        text-align: right;\n",
       "    }\n",
       "</style>\n",
       "<table border=\"1\" class=\"dataframe\">\n",
       "  <thead>\n",
       "    <tr style=\"text-align: right;\">\n",
       "      <th></th>\n",
       "      <th>crashRPSH</th>\n",
       "      <th>percent</th>\n",
       "    </tr>\n",
       "  </thead>\n",
       "  <tbody>\n",
       "    <tr>\n",
       "      <th>0.0</th>\n",
       "      <td>461987</td>\n",
       "      <td>99.834900</td>\n",
       "    </tr>\n",
       "    <tr>\n",
       "      <th>###</th>\n",
       "      <td>276</td>\n",
       "      <td>0.059643</td>\n",
       "    </tr>\n",
       "    <tr>\n",
       "      <th>2.0</th>\n",
       "      <td>88</td>\n",
       "      <td>0.019017</td>\n",
       "    </tr>\n",
       "    <tr>\n",
       "      <th>3.0</th>\n",
       "      <td>70</td>\n",
       "      <td>0.015127</td>\n",
       "    </tr>\n",
       "    <tr>\n",
       "      <th>74.0</th>\n",
       "      <td>35</td>\n",
       "      <td>0.007563</td>\n",
       "    </tr>\n",
       "    <tr>\n",
       "      <th>6.0</th>\n",
       "      <td>31</td>\n",
       "      <td>0.006699</td>\n",
       "    </tr>\n",
       "    <tr>\n",
       "      <th>18.0</th>\n",
       "      <td>29</td>\n",
       "      <td>0.006267</td>\n",
       "    </tr>\n",
       "    <tr>\n",
       "      <th>16.0</th>\n",
       "      <td>27</td>\n",
       "      <td>0.005835</td>\n",
       "    </tr>\n",
       "    <tr>\n",
       "      <th>73.0</th>\n",
       "      <td>24</td>\n",
       "      <td>0.005186</td>\n",
       "    </tr>\n",
       "    <tr>\n",
       "      <th>29.0</th>\n",
       "      <td>23</td>\n",
       "      <td>0.004970</td>\n",
       "    </tr>\n",
       "    <tr>\n",
       "      <th>35.0</th>\n",
       "      <td>16</td>\n",
       "      <td>0.003458</td>\n",
       "    </tr>\n",
       "    <tr>\n",
       "      <th>76.0</th>\n",
       "      <td>14</td>\n",
       "      <td>0.003025</td>\n",
       "    </tr>\n",
       "    <tr>\n",
       "      <th>5.0</th>\n",
       "      <td>14</td>\n",
       "      <td>0.003025</td>\n",
       "    </tr>\n",
       "    <tr>\n",
       "      <th>50.0</th>\n",
       "      <td>11</td>\n",
       "      <td>0.002377</td>\n",
       "    </tr>\n",
       "    <tr>\n",
       "      <th>45.0</th>\n",
       "      <td>10</td>\n",
       "      <td>0.002161</td>\n",
       "    </tr>\n",
       "    <tr>\n",
       "      <th>54.0</th>\n",
       "      <td>10</td>\n",
       "      <td>0.002161</td>\n",
       "    </tr>\n",
       "    <tr>\n",
       "      <th>26.0</th>\n",
       "      <td>9</td>\n",
       "      <td>0.001945</td>\n",
       "    </tr>\n",
       "    <tr>\n",
       "      <th>22.0</th>\n",
       "      <td>9</td>\n",
       "      <td>0.001945</td>\n",
       "    </tr>\n",
       "    <tr>\n",
       "      <th>25.0</th>\n",
       "      <td>9</td>\n",
       "      <td>0.001945</td>\n",
       "    </tr>\n",
       "    <tr>\n",
       "      <th>87.0</th>\n",
       "      <td>5</td>\n",
       "      <td>0.001080</td>\n",
       "    </tr>\n",
       "    <tr>\n",
       "      <th>30.0</th>\n",
       "      <td>5</td>\n",
       "      <td>0.001080</td>\n",
       "    </tr>\n",
       "    <tr>\n",
       "      <th>57.0</th>\n",
       "      <td>4</td>\n",
       "      <td>0.000864</td>\n",
       "    </tr>\n",
       "    <tr>\n",
       "      <th>44.0</th>\n",
       "      <td>3</td>\n",
       "      <td>0.000648</td>\n",
       "    </tr>\n",
       "    <tr>\n",
       "      <th>56.0</th>\n",
       "      <td>3</td>\n",
       "      <td>0.000648</td>\n",
       "    </tr>\n",
       "    <tr>\n",
       "      <th>10.0</th>\n",
       "      <td>3</td>\n",
       "      <td>0.000648</td>\n",
       "    </tr>\n",
       "    <tr>\n",
       "      <th>60.0</th>\n",
       "      <td>3</td>\n",
       "      <td>0.000648</td>\n",
       "    </tr>\n",
       "    <tr>\n",
       "      <th>75.0</th>\n",
       "      <td>3</td>\n",
       "      <td>0.000648</td>\n",
       "    </tr>\n",
       "    <tr>\n",
       "      <th>88.0</th>\n",
       "      <td>3</td>\n",
       "      <td>0.000648</td>\n",
       "    </tr>\n",
       "    <tr>\n",
       "      <th>23.0</th>\n",
       "      <td>3</td>\n",
       "      <td>0.000648</td>\n",
       "    </tr>\n",
       "    <tr>\n",
       "      <th>12.0</th>\n",
       "      <td>2</td>\n",
       "      <td>0.000432</td>\n",
       "    </tr>\n",
       "    <tr>\n",
       "      <th>20.0</th>\n",
       "      <td>2</td>\n",
       "      <td>0.000432</td>\n",
       "    </tr>\n",
       "    <tr>\n",
       "      <th>32.0</th>\n",
       "      <td>2</td>\n",
       "      <td>0.000432</td>\n",
       "    </tr>\n",
       "    <tr>\n",
       "      <th>27.0</th>\n",
       "      <td>2</td>\n",
       "      <td>0.000432</td>\n",
       "    </tr>\n",
       "    <tr>\n",
       "      <th>94.0</th>\n",
       "      <td>2</td>\n",
       "      <td>0.000432</td>\n",
       "    </tr>\n",
       "    <tr>\n",
       "      <th>21.0</th>\n",
       "      <td>1</td>\n",
       "      <td>0.000216</td>\n",
       "    </tr>\n",
       "    <tr>\n",
       "      <th>17.0</th>\n",
       "      <td>1</td>\n",
       "      <td>0.000216</td>\n",
       "    </tr>\n",
       "    <tr>\n",
       "      <th>98.0</th>\n",
       "      <td>1</td>\n",
       "      <td>0.000216</td>\n",
       "    </tr>\n",
       "    <tr>\n",
       "      <th>15.0</th>\n",
       "      <td>1</td>\n",
       "      <td>0.000216</td>\n",
       "    </tr>\n",
       "    <tr>\n",
       "      <th>49.0</th>\n",
       "      <td>1</td>\n",
       "      <td>0.000216</td>\n",
       "    </tr>\n",
       "    <tr>\n",
       "      <th>11.0</th>\n",
       "      <td>1</td>\n",
       "      <td>0.000216</td>\n",
       "    </tr>\n",
       "    <tr>\n",
       "      <th>58.0</th>\n",
       "      <td>1</td>\n",
       "      <td>0.000216</td>\n",
       "    </tr>\n",
       "    <tr>\n",
       "      <th>7.0</th>\n",
       "      <td>1</td>\n",
       "      <td>0.000216</td>\n",
       "    </tr>\n",
       "    <tr>\n",
       "      <th>63.0</th>\n",
       "      <td>1</td>\n",
       "      <td>0.000216</td>\n",
       "    </tr>\n",
       "    <tr>\n",
       "      <th>77.0</th>\n",
       "      <td>1</td>\n",
       "      <td>0.000216</td>\n",
       "    </tr>\n",
       "    <tr>\n",
       "      <th>4.0</th>\n",
       "      <td>1</td>\n",
       "      <td>0.000216</td>\n",
       "    </tr>\n",
       "    <tr>\n",
       "      <th>79.0</th>\n",
       "      <td>1</td>\n",
       "      <td>0.000216</td>\n",
       "    </tr>\n",
       "    <tr>\n",
       "      <th>86.0</th>\n",
       "      <td>1</td>\n",
       "      <td>0.000216</td>\n",
       "    </tr>\n",
       "    <tr>\n",
       "      <th>95.0</th>\n",
       "      <td>1</td>\n",
       "      <td>0.000216</td>\n",
       "    </tr>\n",
       "  </tbody>\n",
       "</table>\n",
       "</div>"
      ],
      "text/plain": [
       "      crashRPSH    percent\n",
       "0.0      461987  99.834900\n",
       "###         276   0.059643\n",
       "2.0          88   0.019017\n",
       "3.0          70   0.015127\n",
       "74.0         35   0.007563\n",
       "6.0          31   0.006699\n",
       "18.0         29   0.006267\n",
       "16.0         27   0.005835\n",
       "73.0         24   0.005186\n",
       "29.0         23   0.004970\n",
       "35.0         16   0.003458\n",
       "76.0         14   0.003025\n",
       "5.0          14   0.003025\n",
       "50.0         11   0.002377\n",
       "45.0         10   0.002161\n",
       "54.0         10   0.002161\n",
       "26.0          9   0.001945\n",
       "22.0          9   0.001945\n",
       "25.0          9   0.001945\n",
       "87.0          5   0.001080\n",
       "30.0          5   0.001080\n",
       "57.0          4   0.000864\n",
       "44.0          3   0.000648\n",
       "56.0          3   0.000648\n",
       "10.0          3   0.000648\n",
       "60.0          3   0.000648\n",
       "75.0          3   0.000648\n",
       "88.0          3   0.000648\n",
       "23.0          3   0.000648\n",
       "12.0          2   0.000432\n",
       "20.0          2   0.000432\n",
       "32.0          2   0.000432\n",
       "27.0          2   0.000432\n",
       "94.0          2   0.000432\n",
       "21.0          1   0.000216\n",
       "17.0          1   0.000216\n",
       "98.0          1   0.000216\n",
       "15.0          1   0.000216\n",
       "49.0          1   0.000216\n",
       "11.0          1   0.000216\n",
       "58.0          1   0.000216\n",
       "7.0           1   0.000216\n",
       "63.0          1   0.000216\n",
       "77.0          1   0.000216\n",
       "4.0           1   0.000216\n",
       "79.0          1   0.000216\n",
       "86.0          1   0.000216\n",
       "95.0          1   0.000216"
      ]
     },
     "execution_count": 22,
     "metadata": {},
     "output_type": "execute_result"
    }
   ],
   "source": [
    "sh_crashes = crash_data[crash_data['crashSHDescription'] == 'No']\n",
    "sh_crash_values = create_count_percentages(sh_crashes['crashRPSH'])\n",
    "sh_crash_values"
   ]
  },
  {
   "cell_type": "markdown",
   "metadata": {
    "hidden": true
   },
   "source": [
    "Excellent, 99.88% of samples with *crashSHDescription*=`No` have *crashRPSH* equal to `###`or `0`.\n",
    "\n",
    "We will infer that the samples that do have a specific SH value correspond to the nearest SH from the site of the crash. In any case, we will set a value of `###` for all sample that have `crashSHDescription=NO`, as we want it to carry no relevance for those cases."
   ]
  },
  {
   "cell_type": "code",
   "execution_count": 23,
   "metadata": {
    "ExecuteTime": {
     "end_time": "2018-10-10T22:39:27.156807Z",
     "start_time": "2018-10-10T22:39:17.452196Z"
    },
    "hidden": true
   },
   "outputs": [],
   "source": [
    "crash_data['crashRPSH'] = crash_data.apply(\n",
    "    lambda row: 'N/A' if row['crashSHDescription'] == 'No' else row['crashRPSH'],\n",
    "    axis=1)"
   ]
  },
  {
   "cell_type": "markdown",
   "metadata": {
    "hidden": true
   },
   "source": [
    "With that case covered, lets focus now on crashes that did happen on an SH"
   ]
  },
  {
   "cell_type": "code",
   "execution_count": 24,
   "metadata": {
    "ExecuteTime": {
     "end_time": "2018-10-10T22:39:27.385859Z",
     "start_time": "2018-10-10T22:39:27.158494Z"
    },
    "hidden": true,
    "scrolled": true
   },
   "outputs": [
    {
     "data": {
      "text/html": [
       "<div>\n",
       "<style scoped>\n",
       "    .dataframe tbody tr th:only-of-type {\n",
       "        vertical-align: middle;\n",
       "    }\n",
       "\n",
       "    .dataframe tbody tr th {\n",
       "        vertical-align: top;\n",
       "    }\n",
       "\n",
       "    .dataframe thead th {\n",
       "        text-align: right;\n",
       "    }\n",
       "</style>\n",
       "<table border=\"1\" class=\"dataframe\">\n",
       "  <thead>\n",
       "    <tr style=\"text-align: right;\">\n",
       "      <th></th>\n",
       "      <th>crashRPSH</th>\n",
       "      <th>percent</th>\n",
       "    </tr>\n",
       "  </thead>\n",
       "  <tbody>\n",
       "    <tr>\n",
       "      <th>###</th>\n",
       "      <td>79176</td>\n",
       "      <td>41.037655</td>\n",
       "    </tr>\n",
       "    <tr>\n",
       "      <th>2.0</th>\n",
       "      <td>20026</td>\n",
       "      <td>10.379662</td>\n",
       "    </tr>\n",
       "    <tr>\n",
       "      <th>3.0</th>\n",
       "      <td>11173</td>\n",
       "      <td>5.791070</td>\n",
       "    </tr>\n",
       "    <tr>\n",
       "      <th>6.0</th>\n",
       "      <td>9690</td>\n",
       "      <td>5.022417</td>\n",
       "    </tr>\n",
       "    <tr>\n",
       "      <th>16.0</th>\n",
       "      <td>7881</td>\n",
       "      <td>4.084795</td>\n",
       "    </tr>\n",
       "    <tr>\n",
       "      <th>0.0</th>\n",
       "      <td>6597</td>\n",
       "      <td>3.419286</td>\n",
       "    </tr>\n",
       "    <tr>\n",
       "      <th>5.0</th>\n",
       "      <td>4003</td>\n",
       "      <td>2.074792</td>\n",
       "    </tr>\n",
       "    <tr>\n",
       "      <th>20.0</th>\n",
       "      <td>2862</td>\n",
       "      <td>1.483401</td>\n",
       "    </tr>\n",
       "    <tr>\n",
       "      <th>73.0</th>\n",
       "      <td>2736</td>\n",
       "      <td>1.418094</td>\n",
       "    </tr>\n",
       "    <tr>\n",
       "      <th>30.0</th>\n",
       "      <td>2593</td>\n",
       "      <td>1.343976</td>\n",
       "    </tr>\n",
       "    <tr>\n",
       "      <th>8.0</th>\n",
       "      <td>2458</td>\n",
       "      <td>1.274004</td>\n",
       "    </tr>\n",
       "    <tr>\n",
       "      <th>25.0</th>\n",
       "      <td>2260</td>\n",
       "      <td>1.171379</td>\n",
       "    </tr>\n",
       "    <tr>\n",
       "      <th>29.0</th>\n",
       "      <td>2205</td>\n",
       "      <td>1.142872</td>\n",
       "    </tr>\n",
       "    <tr>\n",
       "      <th>4.0</th>\n",
       "      <td>2127</td>\n",
       "      <td>1.102444</td>\n",
       "    </tr>\n",
       "    <tr>\n",
       "      <th>45.0</th>\n",
       "      <td>2091</td>\n",
       "      <td>1.083785</td>\n",
       "    </tr>\n",
       "    <tr>\n",
       "      <th>35.0</th>\n",
       "      <td>1738</td>\n",
       "      <td>0.900822</td>\n",
       "    </tr>\n",
       "    <tr>\n",
       "      <th>12.0</th>\n",
       "      <td>1702</td>\n",
       "      <td>0.882162</td>\n",
       "    </tr>\n",
       "    <tr>\n",
       "      <th>74.0</th>\n",
       "      <td>1635</td>\n",
       "      <td>0.847436</td>\n",
       "    </tr>\n",
       "    <tr>\n",
       "      <th>7.0</th>\n",
       "      <td>1497</td>\n",
       "      <td>0.775909</td>\n",
       "    </tr>\n",
       "    <tr>\n",
       "      <th>26.0</th>\n",
       "      <td>1476</td>\n",
       "      <td>0.765024</td>\n",
       "    </tr>\n",
       "    <tr>\n",
       "      <th>10.0</th>\n",
       "      <td>1419</td>\n",
       "      <td>0.735481</td>\n",
       "    </tr>\n",
       "    <tr>\n",
       "      <th>27.0</th>\n",
       "      <td>1389</td>\n",
       "      <td>0.719932</td>\n",
       "    </tr>\n",
       "    <tr>\n",
       "      <th>60.0</th>\n",
       "      <td>1388</td>\n",
       "      <td>0.719413</td>\n",
       "    </tr>\n",
       "    <tr>\n",
       "      <th>50.0</th>\n",
       "      <td>1380</td>\n",
       "      <td>0.715267</td>\n",
       "    </tr>\n",
       "    <tr>\n",
       "      <th>94.0</th>\n",
       "      <td>1238</td>\n",
       "      <td>0.641667</td>\n",
       "    </tr>\n",
       "    <tr>\n",
       "      <th>57.0</th>\n",
       "      <td>1154</td>\n",
       "      <td>0.598129</td>\n",
       "    </tr>\n",
       "    <tr>\n",
       "      <th>23.0</th>\n",
       "      <td>1058</td>\n",
       "      <td>0.548371</td>\n",
       "    </tr>\n",
       "    <tr>\n",
       "      <th>58.0</th>\n",
       "      <td>913</td>\n",
       "      <td>0.473216</td>\n",
       "    </tr>\n",
       "    <tr>\n",
       "      <th>75.0</th>\n",
       "      <td>907</td>\n",
       "      <td>0.470107</td>\n",
       "    </tr>\n",
       "    <tr>\n",
       "      <th>14.0</th>\n",
       "      <td>844</td>\n",
       "      <td>0.437453</td>\n",
       "    </tr>\n",
       "    <tr>\n",
       "      <th>...</th>\n",
       "      <td>...</td>\n",
       "      <td>...</td>\n",
       "    </tr>\n",
       "    <tr>\n",
       "      <th>93.0</th>\n",
       "      <td>290</td>\n",
       "      <td>0.150310</td>\n",
       "    </tr>\n",
       "    <tr>\n",
       "      <th>41.0</th>\n",
       "      <td>282</td>\n",
       "      <td>0.146163</td>\n",
       "    </tr>\n",
       "    <tr>\n",
       "      <th>38.0</th>\n",
       "      <td>279</td>\n",
       "      <td>0.144608</td>\n",
       "    </tr>\n",
       "    <tr>\n",
       "      <th>24.0</th>\n",
       "      <td>265</td>\n",
       "      <td>0.137352</td>\n",
       "    </tr>\n",
       "    <tr>\n",
       "      <th>63.0</th>\n",
       "      <td>252</td>\n",
       "      <td>0.130614</td>\n",
       "    </tr>\n",
       "    <tr>\n",
       "      <th>43.0</th>\n",
       "      <td>235</td>\n",
       "      <td>0.121803</td>\n",
       "    </tr>\n",
       "    <tr>\n",
       "      <th>67.0</th>\n",
       "      <td>228</td>\n",
       "      <td>0.118175</td>\n",
       "    </tr>\n",
       "    <tr>\n",
       "      <th>34.0</th>\n",
       "      <td>226</td>\n",
       "      <td>0.117138</td>\n",
       "    </tr>\n",
       "    <tr>\n",
       "      <th>83.0</th>\n",
       "      <td>225</td>\n",
       "      <td>0.116620</td>\n",
       "    </tr>\n",
       "    <tr>\n",
       "      <th>82.0</th>\n",
       "      <td>217</td>\n",
       "      <td>0.112473</td>\n",
       "    </tr>\n",
       "    <tr>\n",
       "      <th>47.0</th>\n",
       "      <td>211</td>\n",
       "      <td>0.109363</td>\n",
       "    </tr>\n",
       "    <tr>\n",
       "      <th>49.0</th>\n",
       "      <td>188</td>\n",
       "      <td>0.097442</td>\n",
       "    </tr>\n",
       "    <tr>\n",
       "      <th>28.0</th>\n",
       "      <td>181</td>\n",
       "      <td>0.093814</td>\n",
       "    </tr>\n",
       "    <tr>\n",
       "      <th>90.0</th>\n",
       "      <td>163</td>\n",
       "      <td>0.084484</td>\n",
       "    </tr>\n",
       "    <tr>\n",
       "      <th>71.0</th>\n",
       "      <td>156</td>\n",
       "      <td>0.080856</td>\n",
       "    </tr>\n",
       "    <tr>\n",
       "      <th>21.0</th>\n",
       "      <td>131</td>\n",
       "      <td>0.067899</td>\n",
       "    </tr>\n",
       "    <tr>\n",
       "      <th>53.0</th>\n",
       "      <td>130</td>\n",
       "      <td>0.067380</td>\n",
       "    </tr>\n",
       "    <tr>\n",
       "      <th>62.0</th>\n",
       "      <td>121</td>\n",
       "      <td>0.062715</td>\n",
       "    </tr>\n",
       "    <tr>\n",
       "      <th>80.0</th>\n",
       "      <td>111</td>\n",
       "      <td>0.057532</td>\n",
       "    </tr>\n",
       "    <tr>\n",
       "      <th>84.0</th>\n",
       "      <td>89</td>\n",
       "      <td>0.046130</td>\n",
       "    </tr>\n",
       "    <tr>\n",
       "      <th>69.0</th>\n",
       "      <td>88</td>\n",
       "      <td>0.045611</td>\n",
       "    </tr>\n",
       "    <tr>\n",
       "      <th>37.0</th>\n",
       "      <td>86</td>\n",
       "      <td>0.044575</td>\n",
       "    </tr>\n",
       "    <tr>\n",
       "      <th>98.0</th>\n",
       "      <td>76</td>\n",
       "      <td>0.039392</td>\n",
       "    </tr>\n",
       "    <tr>\n",
       "      <th>97.0</th>\n",
       "      <td>57</td>\n",
       "      <td>0.029544</td>\n",
       "    </tr>\n",
       "    <tr>\n",
       "      <th>86.0</th>\n",
       "      <td>56</td>\n",
       "      <td>0.029025</td>\n",
       "    </tr>\n",
       "    <tr>\n",
       "      <th>95.0</th>\n",
       "      <td>55</td>\n",
       "      <td>0.028507</td>\n",
       "    </tr>\n",
       "    <tr>\n",
       "      <th>17.0</th>\n",
       "      <td>38</td>\n",
       "      <td>0.019696</td>\n",
       "    </tr>\n",
       "    <tr>\n",
       "      <th>78.0</th>\n",
       "      <td>33</td>\n",
       "      <td>0.017104</td>\n",
       "    </tr>\n",
       "    <tr>\n",
       "      <th>48.0</th>\n",
       "      <td>30</td>\n",
       "      <td>0.015549</td>\n",
       "    </tr>\n",
       "    <tr>\n",
       "      <th>46.0</th>\n",
       "      <td>17</td>\n",
       "      <td>0.008811</td>\n",
       "    </tr>\n",
       "  </tbody>\n",
       "</table>\n",
       "<p>81 rows × 2 columns</p>\n",
       "</div>"
      ],
      "text/plain": [
       "      crashRPSH    percent\n",
       "###       79176  41.037655\n",
       "2.0       20026  10.379662\n",
       "3.0       11173   5.791070\n",
       "6.0        9690   5.022417\n",
       "16.0       7881   4.084795\n",
       "0.0        6597   3.419286\n",
       "5.0        4003   2.074792\n",
       "20.0       2862   1.483401\n",
       "73.0       2736   1.418094\n",
       "30.0       2593   1.343976\n",
       "8.0        2458   1.274004\n",
       "25.0       2260   1.171379\n",
       "29.0       2205   1.142872\n",
       "4.0        2127   1.102444\n",
       "45.0       2091   1.083785\n",
       "35.0       1738   0.900822\n",
       "12.0       1702   0.882162\n",
       "74.0       1635   0.847436\n",
       "7.0        1497   0.775909\n",
       "26.0       1476   0.765024\n",
       "10.0       1419   0.735481\n",
       "27.0       1389   0.719932\n",
       "60.0       1388   0.719413\n",
       "50.0       1380   0.715267\n",
       "94.0       1238   0.641667\n",
       "57.0       1154   0.598129\n",
       "23.0       1058   0.548371\n",
       "58.0        913   0.473216\n",
       "75.0        907   0.470107\n",
       "14.0        844   0.437453\n",
       "...         ...        ...\n",
       "93.0        290   0.150310\n",
       "41.0        282   0.146163\n",
       "38.0        279   0.144608\n",
       "24.0        265   0.137352\n",
       "63.0        252   0.130614\n",
       "43.0        235   0.121803\n",
       "67.0        228   0.118175\n",
       "34.0        226   0.117138\n",
       "83.0        225   0.116620\n",
       "82.0        217   0.112473\n",
       "47.0        211   0.109363\n",
       "49.0        188   0.097442\n",
       "28.0        181   0.093814\n",
       "90.0        163   0.084484\n",
       "71.0        156   0.080856\n",
       "21.0        131   0.067899\n",
       "53.0        130   0.067380\n",
       "62.0        121   0.062715\n",
       "80.0        111   0.057532\n",
       "84.0         89   0.046130\n",
       "69.0         88   0.045611\n",
       "37.0         86   0.044575\n",
       "98.0         76   0.039392\n",
       "97.0         57   0.029544\n",
       "86.0         56   0.029025\n",
       "95.0         55   0.028507\n",
       "17.0         38   0.019696\n",
       "78.0         33   0.017104\n",
       "48.0         30   0.015549\n",
       "46.0         17   0.008811\n",
       "\n",
       "[81 rows x 2 columns]"
      ]
     },
     "execution_count": 24,
     "metadata": {},
     "output_type": "execute_result"
    }
   ],
   "source": [
    "sh_crashes = crash_data[crash_data['crashSHDescription'] == 'Yes']\n",
    "sh_crash_values = create_count_percentages(sh_crashes['crashRPSH'])\n",
    "sh_crash_values"
   ]
  },
  {
   "cell_type": "markdown",
   "metadata": {
    "hidden": true
   },
   "source": [
    "Ok, 41% of crashes that happened on an SH don't say on which one. So lets see if we can shed some light on this cases and infer their missing values by looking at `crashLocation1`:"
   ]
  },
  {
   "cell_type": "code",
   "execution_count": 25,
   "metadata": {
    "ExecuteTime": {
     "end_time": "2018-10-10T22:39:27.459950Z",
     "start_time": "2018-10-10T22:39:27.387568Z"
    },
    "hidden": true,
    "scrolled": true
   },
   "outputs": [
    {
     "data": {
      "text/html": [
       "<div>\n",
       "<style scoped>\n",
       "    .dataframe tbody tr th:only-of-type {\n",
       "        vertical-align: middle;\n",
       "    }\n",
       "\n",
       "    .dataframe tbody tr th {\n",
       "        vertical-align: top;\n",
       "    }\n",
       "\n",
       "    .dataframe thead th {\n",
       "        text-align: right;\n",
       "    }\n",
       "</style>\n",
       "<table border=\"1\" class=\"dataframe\">\n",
       "  <thead>\n",
       "    <tr style=\"text-align: right;\">\n",
       "      <th></th>\n",
       "      <th>crashLocation1</th>\n",
       "      <th>percent</th>\n",
       "    </tr>\n",
       "  </thead>\n",
       "  <tbody>\n",
       "    <tr>\n",
       "      <th>SH 1N</th>\n",
       "      <td>52737</td>\n",
       "      <td>66.607305</td>\n",
       "    </tr>\n",
       "    <tr>\n",
       "      <th>SH 1S</th>\n",
       "      <td>16953</td>\n",
       "      <td>21.411791</td>\n",
       "    </tr>\n",
       "    <tr>\n",
       "      <th>SH 6A</th>\n",
       "      <td>610</td>\n",
       "      <td>0.770435</td>\n",
       "    </tr>\n",
       "    <tr>\n",
       "      <th>SH 30A</th>\n",
       "      <td>547</td>\n",
       "      <td>0.690866</td>\n",
       "    </tr>\n",
       "    <tr>\n",
       "      <th>SH 1B</th>\n",
       "      <td>516</td>\n",
       "      <td>0.651713</td>\n",
       "    </tr>\n",
       "    <tr>\n",
       "      <th>SH 25A</th>\n",
       "      <td>473</td>\n",
       "      <td>0.597403</td>\n",
       "    </tr>\n",
       "    <tr>\n",
       "      <th>SH 50A</th>\n",
       "      <td>428</td>\n",
       "      <td>0.540568</td>\n",
       "    </tr>\n",
       "    <tr>\n",
       "      <th>SH 2A</th>\n",
       "      <td>424</td>\n",
       "      <td>0.535516</td>\n",
       "    </tr>\n",
       "    <tr>\n",
       "      <th>SH 20A</th>\n",
       "      <td>402</td>\n",
       "      <td>0.507730</td>\n",
       "    </tr>\n",
       "    <tr>\n",
       "      <th>SH 1N VIVIAN</th>\n",
       "      <td>222</td>\n",
       "      <td>0.280388</td>\n",
       "    </tr>\n",
       "    <tr>\n",
       "      <th>SH 1S MAIN SOUTH</th>\n",
       "      <td>192</td>\n",
       "      <td>0.242498</td>\n",
       "    </tr>\n",
       "    <tr>\n",
       "      <th>SH 29A</th>\n",
       "      <td>184</td>\n",
       "      <td>0.232394</td>\n",
       "    </tr>\n",
       "    <tr>\n",
       "      <th>SH 20B</th>\n",
       "      <td>171</td>\n",
       "      <td>0.215975</td>\n",
       "    </tr>\n",
       "    <tr>\n",
       "      <th>SH 3A</th>\n",
       "      <td>135</td>\n",
       "      <td>0.170506</td>\n",
       "    </tr>\n",
       "    <tr>\n",
       "      <th>SH 1N COBHAM</th>\n",
       "      <td>127</td>\n",
       "      <td>0.160402</td>\n",
       "    </tr>\n",
       "    <tr>\n",
       "      <th>SH 1S CARMEN</th>\n",
       "      <td>127</td>\n",
       "      <td>0.160402</td>\n",
       "    </tr>\n",
       "    <tr>\n",
       "      <th>SH 1S RUSSLEY</th>\n",
       "      <td>125</td>\n",
       "      <td>0.157876</td>\n",
       "    </tr>\n",
       "    <tr>\n",
       "      <th>SH 2B</th>\n",
       "      <td>121</td>\n",
       "      <td>0.152824</td>\n",
       "    </tr>\n",
       "    <tr>\n",
       "      <th>SH 1N RUGBY</th>\n",
       "      <td>115</td>\n",
       "      <td>0.145246</td>\n",
       "    </tr>\n",
       "    <tr>\n",
       "      <th>SH 1S JOHNS</th>\n",
       "      <td>94</td>\n",
       "      <td>0.118723</td>\n",
       "    </tr>\n",
       "    <tr>\n",
       "      <th>SH 1N VICTORIA</th>\n",
       "      <td>71</td>\n",
       "      <td>0.089674</td>\n",
       "    </tr>\n",
       "    <tr>\n",
       "      <th>SH 1N RUAHINE</th>\n",
       "      <td>68</td>\n",
       "      <td>0.085885</td>\n",
       "    </tr>\n",
       "    <tr>\n",
       "      <th>SH 1N CALABAR</th>\n",
       "      <td>67</td>\n",
       "      <td>0.084622</td>\n",
       "    </tr>\n",
       "    <tr>\n",
       "      <th>SH 1N WELLINGTON</th>\n",
       "      <td>65</td>\n",
       "      <td>0.082096</td>\n",
       "    </tr>\n",
       "    <tr>\n",
       "      <th>SH 74A</th>\n",
       "      <td>63</td>\n",
       "      <td>0.079570</td>\n",
       "    </tr>\n",
       "    <tr>\n",
       "      <th>SH 1N GREAT SOUTH</th>\n",
       "      <td>61</td>\n",
       "      <td>0.077044</td>\n",
       "    </tr>\n",
       "    <tr>\n",
       "      <th>SH 1N KARO</th>\n",
       "      <td>58</td>\n",
       "      <td>0.073255</td>\n",
       "    </tr>\n",
       "    <tr>\n",
       "      <th>SH 1N SUSSEX</th>\n",
       "      <td>57</td>\n",
       "      <td>0.071992</td>\n",
       "    </tr>\n",
       "    <tr>\n",
       "      <th>SH 1S MAIN NORTH</th>\n",
       "      <td>55</td>\n",
       "      <td>0.069465</td>\n",
       "    </tr>\n",
       "    <tr>\n",
       "      <th>SH 7A</th>\n",
       "      <td>52</td>\n",
       "      <td>0.065676</td>\n",
       "    </tr>\n",
       "    <tr>\n",
       "      <th>...</th>\n",
       "      <td>...</td>\n",
       "      <td>...</td>\n",
       "    </tr>\n",
       "    <tr>\n",
       "      <th>ACCESS ROAD</th>\n",
       "      <td>1</td>\n",
       "      <td>0.001263</td>\n",
       "    </tr>\n",
       "    <tr>\n",
       "      <th>EVANS ST</th>\n",
       "      <td>1</td>\n",
       "      <td>0.001263</td>\n",
       "    </tr>\n",
       "    <tr>\n",
       "      <th>WILSON ROAD</th>\n",
       "      <td>1</td>\n",
       "      <td>0.001263</td>\n",
       "    </tr>\n",
       "    <tr>\n",
       "      <th>KOPUTAROA ROAD</th>\n",
       "      <td>1</td>\n",
       "      <td>0.001263</td>\n",
       "    </tr>\n",
       "    <tr>\n",
       "      <th>SH 1N TAURIMA ST</th>\n",
       "      <td>1</td>\n",
       "      <td>0.001263</td>\n",
       "    </tr>\n",
       "    <tr>\n",
       "      <th>SH 1N VIVICAN ST</th>\n",
       "      <td>1</td>\n",
       "      <td>0.001263</td>\n",
       "    </tr>\n",
       "    <tr>\n",
       "      <th>KILLARNEY ST</th>\n",
       "      <td>1</td>\n",
       "      <td>0.001263</td>\n",
       "    </tr>\n",
       "    <tr>\n",
       "      <th>SH 1S BRIDGE</th>\n",
       "      <td>1</td>\n",
       "      <td>0.001263</td>\n",
       "    </tr>\n",
       "    <tr>\n",
       "      <th>ABBOTS WAY</th>\n",
       "      <td>1</td>\n",
       "      <td>0.001263</td>\n",
       "    </tr>\n",
       "    <tr>\n",
       "      <th>FLETCHER ST</th>\n",
       "      <td>1</td>\n",
       "      <td>0.001263</td>\n",
       "    </tr>\n",
       "    <tr>\n",
       "      <th>FENTON ST S</th>\n",
       "      <td>1</td>\n",
       "      <td>0.001263</td>\n",
       "    </tr>\n",
       "    <tr>\n",
       "      <th>HAUTAPU ST</th>\n",
       "      <td>1</td>\n",
       "      <td>0.001263</td>\n",
       "    </tr>\n",
       "    <tr>\n",
       "      <th>SH 1N COBHAH</th>\n",
       "      <td>1</td>\n",
       "      <td>0.001263</td>\n",
       "    </tr>\n",
       "    <tr>\n",
       "      <th>ASHWORTH ST</th>\n",
       "      <td>1</td>\n",
       "      <td>0.001263</td>\n",
       "    </tr>\n",
       "    <tr>\n",
       "      <th>MURDOCH CRESCENT N</th>\n",
       "      <td>1</td>\n",
       "      <td>0.001263</td>\n",
       "    </tr>\n",
       "    <tr>\n",
       "      <th>ALBANY HIGHWAY OFF WBD</th>\n",
       "      <td>1</td>\n",
       "      <td>0.001263</td>\n",
       "    </tr>\n",
       "    <tr>\n",
       "      <th>SH 1S ASHWORTHS</th>\n",
       "      <td>1</td>\n",
       "      <td>0.001263</td>\n",
       "    </tr>\n",
       "    <tr>\n",
       "      <th>EAST ST N</th>\n",
       "      <td>1</td>\n",
       "      <td>0.001263</td>\n",
       "    </tr>\n",
       "    <tr>\n",
       "      <th>WEEDONS ROAD</th>\n",
       "      <td>1</td>\n",
       "      <td>0.001263</td>\n",
       "    </tr>\n",
       "    <tr>\n",
       "      <th>GREVILLE OFF NBD</th>\n",
       "      <td>1</td>\n",
       "      <td>0.001263</td>\n",
       "    </tr>\n",
       "    <tr>\n",
       "      <th>CARMEN ROAD</th>\n",
       "      <td>1</td>\n",
       "      <td>0.001263</td>\n",
       "    </tr>\n",
       "    <tr>\n",
       "      <th>SH 1S WAIHOLA HIGHWAY</th>\n",
       "      <td>1</td>\n",
       "      <td>0.001263</td>\n",
       "    </tr>\n",
       "    <tr>\n",
       "      <th>TAURIMA ST</th>\n",
       "      <td>1</td>\n",
       "      <td>0.001263</td>\n",
       "    </tr>\n",
       "    <tr>\n",
       "      <th>MILL ON NBD</th>\n",
       "      <td>1</td>\n",
       "      <td>0.001263</td>\n",
       "    </tr>\n",
       "    <tr>\n",
       "      <th>WELLINGTON ON NBD</th>\n",
       "      <td>1</td>\n",
       "      <td>0.001263</td>\n",
       "    </tr>\n",
       "    <tr>\n",
       "      <th>OTARA ON SBD</th>\n",
       "      <td>1</td>\n",
       "      <td>0.001263</td>\n",
       "    </tr>\n",
       "    <tr>\n",
       "      <th>SH 1B TAYLOR GORDONTON</th>\n",
       "      <td>1</td>\n",
       "      <td>0.001263</td>\n",
       "    </tr>\n",
       "    <tr>\n",
       "      <th>OTEHA VALLEY ON SBD</th>\n",
       "      <td>1</td>\n",
       "      <td>0.001263</td>\n",
       "    </tr>\n",
       "    <tr>\n",
       "      <th>DAVIES ROAD</th>\n",
       "      <td>1</td>\n",
       "      <td>0.001263</td>\n",
       "    </tr>\n",
       "    <tr>\n",
       "      <th>GREENLEA LANE</th>\n",
       "      <td>1</td>\n",
       "      <td>0.001263</td>\n",
       "    </tr>\n",
       "  </tbody>\n",
       "</table>\n",
       "<p>901 rows × 2 columns</p>\n",
       "</div>"
      ],
      "text/plain": [
       "                        crashLocation1    percent\n",
       "SH 1N                            52737  66.607305\n",
       "SH 1S                            16953  21.411791\n",
       "SH 6A                              610   0.770435\n",
       "SH 30A                             547   0.690866\n",
       "SH 1B                              516   0.651713\n",
       "SH 25A                             473   0.597403\n",
       "SH 50A                             428   0.540568\n",
       "SH 2A                              424   0.535516\n",
       "SH 20A                             402   0.507730\n",
       "SH 1N VIVIAN                       222   0.280388\n",
       "SH 1S MAIN SOUTH                   192   0.242498\n",
       "SH 29A                             184   0.232394\n",
       "SH 20B                             171   0.215975\n",
       "SH 3A                              135   0.170506\n",
       "SH 1N COBHAM                       127   0.160402\n",
       "SH 1S CARMEN                       127   0.160402\n",
       "SH 1S RUSSLEY                      125   0.157876\n",
       "SH 2B                              121   0.152824\n",
       "SH 1N RUGBY                        115   0.145246\n",
       "SH 1S JOHNS                         94   0.118723\n",
       "SH 1N VICTORIA                      71   0.089674\n",
       "SH 1N RUAHINE                       68   0.085885\n",
       "SH 1N CALABAR                       67   0.084622\n",
       "SH 1N WELLINGTON                    65   0.082096\n",
       "SH 74A                              63   0.079570\n",
       "SH 1N GREAT SOUTH                   61   0.077044\n",
       "SH 1N KARO                          58   0.073255\n",
       "SH 1N SUSSEX                        57   0.071992\n",
       "SH 1S MAIN NORTH                    55   0.069465\n",
       "SH 7A                               52   0.065676\n",
       "...                                ...        ...\n",
       "ACCESS ROAD                          1   0.001263\n",
       "EVANS ST                             1   0.001263\n",
       "WILSON ROAD                          1   0.001263\n",
       "KOPUTAROA ROAD                       1   0.001263\n",
       "SH 1N TAURIMA ST                     1   0.001263\n",
       "SH 1N VIVICAN ST                     1   0.001263\n",
       "KILLARNEY ST                         1   0.001263\n",
       "SH 1S BRIDGE                         1   0.001263\n",
       "ABBOTS WAY                           1   0.001263\n",
       "FLETCHER ST                          1   0.001263\n",
       "FENTON ST S                          1   0.001263\n",
       "HAUTAPU ST                           1   0.001263\n",
       "SH 1N COBHAH                         1   0.001263\n",
       "ASHWORTH ST                          1   0.001263\n",
       "MURDOCH CRESCENT N                   1   0.001263\n",
       "ALBANY HIGHWAY OFF WBD               1   0.001263\n",
       "SH 1S ASHWORTHS                      1   0.001263\n",
       "EAST ST N                            1   0.001263\n",
       "WEEDONS ROAD                         1   0.001263\n",
       "GREVILLE OFF NBD                     1   0.001263\n",
       "CARMEN ROAD                          1   0.001263\n",
       "SH 1S WAIHOLA HIGHWAY                1   0.001263\n",
       "TAURIMA ST                           1   0.001263\n",
       "MILL ON NBD                          1   0.001263\n",
       "WELLINGTON ON NBD                    1   0.001263\n",
       "OTARA ON SBD                         1   0.001263\n",
       "SH 1B TAYLOR GORDONTON               1   0.001263\n",
       "OTEHA VALLEY ON SBD                  1   0.001263\n",
       "DAVIES ROAD                          1   0.001263\n",
       "GREENLEA LANE                        1   0.001263\n",
       "\n",
       "[901 rows x 2 columns]"
      ]
     },
     "execution_count": 25,
     "metadata": {},
     "output_type": "execute_result"
    }
   ],
   "source": [
    "na_samples = sh_crashes[sh_crashes['crashRPSH'] == '###']\n",
    "na_samples_values = create_count_percentages(na_samples['crashLocation1'])\n",
    "na_samples_values"
   ]
  },
  {
   "cell_type": "markdown",
   "metadata": {
    "hidden": true
   },
   "source": [
    "This is great, almost 90% of all `###` crashes actually happened on SH1 (either nort or south). So lets go ahead and insert this value:"
   ]
  },
  {
   "cell_type": "code",
   "execution_count": 26,
   "metadata": {
    "ExecuteTime": {
     "end_time": "2018-10-10T22:39:40.190367Z",
     "start_time": "2018-10-10T22:39:27.462070Z"
    },
    "hidden": true
   },
   "outputs": [],
   "source": [
    "crash_data['crashRPSH'] = crash_data.apply(\n",
    "    lambda row: 1 if row['crashSHDescription'] == 'Yes' and row['crashLocation1'] in ('SH 1N', 'SH 1S') else row['crashRPSH'],\n",
    "    axis=1\n",
    ")"
   ]
  },
  {
   "cell_type": "markdown",
   "metadata": {
    "ExecuteTime": {
     "end_time": "2018-09-02T02:15:05.068056Z",
     "start_time": "2018-09-02T02:15:05.063967Z"
    },
    "hidden": true
   },
   "source": [
    "Now we need to compute again the data from above to update our picture of the missing values"
   ]
  },
  {
   "cell_type": "code",
   "execution_count": 27,
   "metadata": {
    "ExecuteTime": {
     "end_time": "2018-10-10T22:39:40.388616Z",
     "start_time": "2018-10-10T22:39:40.192207Z"
    },
    "hidden": true,
    "scrolled": true
   },
   "outputs": [
    {
     "data": {
      "text/html": [
       "<div>\n",
       "<style scoped>\n",
       "    .dataframe tbody tr th:only-of-type {\n",
       "        vertical-align: middle;\n",
       "    }\n",
       "\n",
       "    .dataframe tbody tr th {\n",
       "        vertical-align: top;\n",
       "    }\n",
       "\n",
       "    .dataframe thead th {\n",
       "        text-align: right;\n",
       "    }\n",
       "</style>\n",
       "<table border=\"1\" class=\"dataframe\">\n",
       "  <thead>\n",
       "    <tr style=\"text-align: right;\">\n",
       "      <th></th>\n",
       "      <th>crashRPSH</th>\n",
       "      <th>percent</th>\n",
       "    </tr>\n",
       "  </thead>\n",
       "  <tbody>\n",
       "    <tr>\n",
       "      <th>1</th>\n",
       "      <td>69932</td>\n",
       "      <td>36.246404</td>\n",
       "    </tr>\n",
       "    <tr>\n",
       "      <th>2.0</th>\n",
       "      <td>20024</td>\n",
       "      <td>10.378625</td>\n",
       "    </tr>\n",
       "    <tr>\n",
       "      <th>3.0</th>\n",
       "      <td>11154</td>\n",
       "      <td>5.781222</td>\n",
       "    </tr>\n",
       "    <tr>\n",
       "      <th>6.0</th>\n",
       "      <td>9677</td>\n",
       "      <td>5.015679</td>\n",
       "    </tr>\n",
       "    <tr>\n",
       "      <th>###</th>\n",
       "      <td>9486</td>\n",
       "      <td>4.916682</td>\n",
       "    </tr>\n",
       "    <tr>\n",
       "      <th>16.0</th>\n",
       "      <td>7881</td>\n",
       "      <td>4.084795</td>\n",
       "    </tr>\n",
       "    <tr>\n",
       "      <th>0.0</th>\n",
       "      <td>6517</td>\n",
       "      <td>3.377822</td>\n",
       "    </tr>\n",
       "    <tr>\n",
       "      <th>5.0</th>\n",
       "      <td>3988</td>\n",
       "      <td>2.067017</td>\n",
       "    </tr>\n",
       "    <tr>\n",
       "      <th>20.0</th>\n",
       "      <td>2862</td>\n",
       "      <td>1.483401</td>\n",
       "    </tr>\n",
       "    <tr>\n",
       "      <th>73.0</th>\n",
       "      <td>2735</td>\n",
       "      <td>1.417576</td>\n",
       "    </tr>\n",
       "    <tr>\n",
       "      <th>30.0</th>\n",
       "      <td>2592</td>\n",
       "      <td>1.343458</td>\n",
       "    </tr>\n",
       "    <tr>\n",
       "      <th>8.0</th>\n",
       "      <td>2454</td>\n",
       "      <td>1.271931</td>\n",
       "    </tr>\n",
       "    <tr>\n",
       "      <th>25.0</th>\n",
       "      <td>2260</td>\n",
       "      <td>1.171379</td>\n",
       "    </tr>\n",
       "    <tr>\n",
       "      <th>29.0</th>\n",
       "      <td>2201</td>\n",
       "      <td>1.140799</td>\n",
       "    </tr>\n",
       "    <tr>\n",
       "      <th>4.0</th>\n",
       "      <td>2127</td>\n",
       "      <td>1.102444</td>\n",
       "    </tr>\n",
       "    <tr>\n",
       "      <th>45.0</th>\n",
       "      <td>2091</td>\n",
       "      <td>1.083785</td>\n",
       "    </tr>\n",
       "    <tr>\n",
       "      <th>35.0</th>\n",
       "      <td>1738</td>\n",
       "      <td>0.900822</td>\n",
       "    </tr>\n",
       "    <tr>\n",
       "      <th>12.0</th>\n",
       "      <td>1699</td>\n",
       "      <td>0.880607</td>\n",
       "    </tr>\n",
       "    <tr>\n",
       "      <th>74.0</th>\n",
       "      <td>1635</td>\n",
       "      <td>0.847436</td>\n",
       "    </tr>\n",
       "    <tr>\n",
       "      <th>7.0</th>\n",
       "      <td>1495</td>\n",
       "      <td>0.774872</td>\n",
       "    </tr>\n",
       "    <tr>\n",
       "      <th>26.0</th>\n",
       "      <td>1469</td>\n",
       "      <td>0.761396</td>\n",
       "    </tr>\n",
       "    <tr>\n",
       "      <th>10.0</th>\n",
       "      <td>1414</td>\n",
       "      <td>0.732889</td>\n",
       "    </tr>\n",
       "    <tr>\n",
       "      <th>27.0</th>\n",
       "      <td>1389</td>\n",
       "      <td>0.719932</td>\n",
       "    </tr>\n",
       "    <tr>\n",
       "      <th>60.0</th>\n",
       "      <td>1388</td>\n",
       "      <td>0.719413</td>\n",
       "    </tr>\n",
       "    <tr>\n",
       "      <th>50.0</th>\n",
       "      <td>1380</td>\n",
       "      <td>0.715267</td>\n",
       "    </tr>\n",
       "    <tr>\n",
       "      <th>94.0</th>\n",
       "      <td>1238</td>\n",
       "      <td>0.641667</td>\n",
       "    </tr>\n",
       "    <tr>\n",
       "      <th>57.0</th>\n",
       "      <td>1154</td>\n",
       "      <td>0.598129</td>\n",
       "    </tr>\n",
       "    <tr>\n",
       "      <th>23.0</th>\n",
       "      <td>1051</td>\n",
       "      <td>0.544743</td>\n",
       "    </tr>\n",
       "    <tr>\n",
       "      <th>75.0</th>\n",
       "      <td>907</td>\n",
       "      <td>0.470107</td>\n",
       "    </tr>\n",
       "    <tr>\n",
       "      <th>58.0</th>\n",
       "      <td>898</td>\n",
       "      <td>0.465442</td>\n",
       "    </tr>\n",
       "    <tr>\n",
       "      <th>...</th>\n",
       "      <td>...</td>\n",
       "      <td>...</td>\n",
       "    </tr>\n",
       "    <tr>\n",
       "      <th>93.0</th>\n",
       "      <td>288</td>\n",
       "      <td>0.149273</td>\n",
       "    </tr>\n",
       "    <tr>\n",
       "      <th>41.0</th>\n",
       "      <td>282</td>\n",
       "      <td>0.146163</td>\n",
       "    </tr>\n",
       "    <tr>\n",
       "      <th>38.0</th>\n",
       "      <td>279</td>\n",
       "      <td>0.144608</td>\n",
       "    </tr>\n",
       "    <tr>\n",
       "      <th>24.0</th>\n",
       "      <td>265</td>\n",
       "      <td>0.137352</td>\n",
       "    </tr>\n",
       "    <tr>\n",
       "      <th>63.0</th>\n",
       "      <td>252</td>\n",
       "      <td>0.130614</td>\n",
       "    </tr>\n",
       "    <tr>\n",
       "      <th>43.0</th>\n",
       "      <td>235</td>\n",
       "      <td>0.121803</td>\n",
       "    </tr>\n",
       "    <tr>\n",
       "      <th>67.0</th>\n",
       "      <td>228</td>\n",
       "      <td>0.118175</td>\n",
       "    </tr>\n",
       "    <tr>\n",
       "      <th>34.0</th>\n",
       "      <td>226</td>\n",
       "      <td>0.117138</td>\n",
       "    </tr>\n",
       "    <tr>\n",
       "      <th>83.0</th>\n",
       "      <td>222</td>\n",
       "      <td>0.115065</td>\n",
       "    </tr>\n",
       "    <tr>\n",
       "      <th>82.0</th>\n",
       "      <td>217</td>\n",
       "      <td>0.112473</td>\n",
       "    </tr>\n",
       "    <tr>\n",
       "      <th>47.0</th>\n",
       "      <td>211</td>\n",
       "      <td>0.109363</td>\n",
       "    </tr>\n",
       "    <tr>\n",
       "      <th>49.0</th>\n",
       "      <td>188</td>\n",
       "      <td>0.097442</td>\n",
       "    </tr>\n",
       "    <tr>\n",
       "      <th>28.0</th>\n",
       "      <td>181</td>\n",
       "      <td>0.093814</td>\n",
       "    </tr>\n",
       "    <tr>\n",
       "      <th>90.0</th>\n",
       "      <td>162</td>\n",
       "      <td>0.083966</td>\n",
       "    </tr>\n",
       "    <tr>\n",
       "      <th>71.0</th>\n",
       "      <td>156</td>\n",
       "      <td>0.080856</td>\n",
       "    </tr>\n",
       "    <tr>\n",
       "      <th>21.0</th>\n",
       "      <td>131</td>\n",
       "      <td>0.067899</td>\n",
       "    </tr>\n",
       "    <tr>\n",
       "      <th>53.0</th>\n",
       "      <td>130</td>\n",
       "      <td>0.067380</td>\n",
       "    </tr>\n",
       "    <tr>\n",
       "      <th>62.0</th>\n",
       "      <td>113</td>\n",
       "      <td>0.058569</td>\n",
       "    </tr>\n",
       "    <tr>\n",
       "      <th>80.0</th>\n",
       "      <td>111</td>\n",
       "      <td>0.057532</td>\n",
       "    </tr>\n",
       "    <tr>\n",
       "      <th>84.0</th>\n",
       "      <td>89</td>\n",
       "      <td>0.046130</td>\n",
       "    </tr>\n",
       "    <tr>\n",
       "      <th>69.0</th>\n",
       "      <td>88</td>\n",
       "      <td>0.045611</td>\n",
       "    </tr>\n",
       "    <tr>\n",
       "      <th>37.0</th>\n",
       "      <td>86</td>\n",
       "      <td>0.044575</td>\n",
       "    </tr>\n",
       "    <tr>\n",
       "      <th>98.0</th>\n",
       "      <td>76</td>\n",
       "      <td>0.039392</td>\n",
       "    </tr>\n",
       "    <tr>\n",
       "      <th>97.0</th>\n",
       "      <td>57</td>\n",
       "      <td>0.029544</td>\n",
       "    </tr>\n",
       "    <tr>\n",
       "      <th>95.0</th>\n",
       "      <td>55</td>\n",
       "      <td>0.028507</td>\n",
       "    </tr>\n",
       "    <tr>\n",
       "      <th>86.0</th>\n",
       "      <td>55</td>\n",
       "      <td>0.028507</td>\n",
       "    </tr>\n",
       "    <tr>\n",
       "      <th>17.0</th>\n",
       "      <td>30</td>\n",
       "      <td>0.015549</td>\n",
       "    </tr>\n",
       "    <tr>\n",
       "      <th>48.0</th>\n",
       "      <td>30</td>\n",
       "      <td>0.015549</td>\n",
       "    </tr>\n",
       "    <tr>\n",
       "      <th>78.0</th>\n",
       "      <td>29</td>\n",
       "      <td>0.015031</td>\n",
       "    </tr>\n",
       "    <tr>\n",
       "      <th>46.0</th>\n",
       "      <td>16</td>\n",
       "      <td>0.008293</td>\n",
       "    </tr>\n",
       "  </tbody>\n",
       "</table>\n",
       "<p>82 rows × 2 columns</p>\n",
       "</div>"
      ],
      "text/plain": [
       "      crashRPSH    percent\n",
       "1         69932  36.246404\n",
       "2.0       20024  10.378625\n",
       "3.0       11154   5.781222\n",
       "6.0        9677   5.015679\n",
       "###        9486   4.916682\n",
       "16.0       7881   4.084795\n",
       "0.0        6517   3.377822\n",
       "5.0        3988   2.067017\n",
       "20.0       2862   1.483401\n",
       "73.0       2735   1.417576\n",
       "30.0       2592   1.343458\n",
       "8.0        2454   1.271931\n",
       "25.0       2260   1.171379\n",
       "29.0       2201   1.140799\n",
       "4.0        2127   1.102444\n",
       "45.0       2091   1.083785\n",
       "35.0       1738   0.900822\n",
       "12.0       1699   0.880607\n",
       "74.0       1635   0.847436\n",
       "7.0        1495   0.774872\n",
       "26.0       1469   0.761396\n",
       "10.0       1414   0.732889\n",
       "27.0       1389   0.719932\n",
       "60.0       1388   0.719413\n",
       "50.0       1380   0.715267\n",
       "94.0       1238   0.641667\n",
       "57.0       1154   0.598129\n",
       "23.0       1051   0.544743\n",
       "75.0        907   0.470107\n",
       "58.0        898   0.465442\n",
       "...         ...        ...\n",
       "93.0        288   0.149273\n",
       "41.0        282   0.146163\n",
       "38.0        279   0.144608\n",
       "24.0        265   0.137352\n",
       "63.0        252   0.130614\n",
       "43.0        235   0.121803\n",
       "67.0        228   0.118175\n",
       "34.0        226   0.117138\n",
       "83.0        222   0.115065\n",
       "82.0        217   0.112473\n",
       "47.0        211   0.109363\n",
       "49.0        188   0.097442\n",
       "28.0        181   0.093814\n",
       "90.0        162   0.083966\n",
       "71.0        156   0.080856\n",
       "21.0        131   0.067899\n",
       "53.0        130   0.067380\n",
       "62.0        113   0.058569\n",
       "80.0        111   0.057532\n",
       "84.0         89   0.046130\n",
       "69.0         88   0.045611\n",
       "37.0         86   0.044575\n",
       "98.0         76   0.039392\n",
       "97.0         57   0.029544\n",
       "95.0         55   0.028507\n",
       "86.0         55   0.028507\n",
       "17.0         30   0.015549\n",
       "48.0         30   0.015549\n",
       "78.0         29   0.015031\n",
       "46.0         16   0.008293\n",
       "\n",
       "[82 rows x 2 columns]"
      ]
     },
     "execution_count": 27,
     "metadata": {},
     "output_type": "execute_result"
    }
   ],
   "source": [
    "sh_crashes = crash_data[crash_data['crashSHDescription'] == 'Yes']\n",
    "sh_crash_values = create_count_percentages(sh_crashes['crashRPSH'])\n",
    "sh_crash_values"
   ]
  },
  {
   "cell_type": "markdown",
   "metadata": {
    "hidden": true
   },
   "source": [
    "We still have some cases that need our attention. From all crshes with `crashSHDescription=Yes`, there are still 4.9% of samples with `crashRPSH=###` and another 3.4% with `crashRPSH=0`. \n",
    "\n",
    "In fact, lets check if we see any other strange value."
   ]
  },
  {
   "cell_type": "code",
   "execution_count": 28,
   "metadata": {
    "ExecuteTime": {
     "end_time": "2018-10-10T22:39:40.395921Z",
     "start_time": "2018-10-10T22:39:40.390566Z"
    },
    "hidden": true,
    "scrolled": true
   },
   "outputs": [
    {
     "data": {
      "text/plain": [
       "Index([    1,   2.0,   3.0,   6.0, '###',  16.0,   0.0,   5.0,  20.0,  73.0,\n",
       "        30.0,   8.0,  25.0,  29.0,   4.0,  45.0,  35.0,  12.0,  74.0,   7.0,\n",
       "        26.0,  10.0,  27.0,  60.0,  50.0,  94.0,  57.0,  23.0,  75.0,  58.0,\n",
       "        14.0,  36.0,  18.0,  54.0,  39.0,  22.0,  11.0,  76.0,  87.0,  44.0,\n",
       "        99.0,  15.0,  33.0,  56.0,  88.0,  77.0,  96.0,  32.0,  79.0,  31.0,\n",
       "        85.0,  65.0,  93.0,  41.0,  38.0,  24.0,  63.0,  43.0,  67.0,  34.0,\n",
       "        83.0,  82.0,  47.0,  49.0,  28.0,  90.0,  71.0,  21.0,  53.0,  62.0,\n",
       "        80.0,  84.0,  69.0,  37.0,  98.0,  97.0,  95.0,  86.0,  17.0,  48.0,\n",
       "        78.0,  46.0],\n",
       "      dtype='object')"
      ]
     },
     "execution_count": 28,
     "metadata": {},
     "output_type": "execute_result"
    }
   ],
   "source": [
    "sh_crash_values.index"
   ]
  },
  {
   "cell_type": "markdown",
   "metadata": {
    "hidden": true
   },
   "source": [
    "Good, those are the only two.\n",
    "\n",
    "Would it be possible to simply drop these samples?\n",
    "\n",
    "First of all, of how many samples are we talking about?"
   ]
  },
  {
   "cell_type": "code",
   "execution_count": 29,
   "metadata": {
    "ExecuteTime": {
     "end_time": "2018-10-10T22:39:40.428175Z",
     "start_time": "2018-10-10T22:39:40.397801Z"
    },
    "hidden": true
   },
   "outputs": [
    {
     "data": {
      "text/markdown": [
       "the remaining `###` samples represent 1.45% of the whole dataset"
      ],
      "text/plain": [
       "<IPython.core.display.Markdown object>"
      ]
     },
     "metadata": {},
     "output_type": "display_data"
    }
   ],
   "source": [
    "p = sh_crashes[sh_crashes['crashRPSH'] == '###'].shape[0] / crash_data.shape[0] * 100\n",
    "printmd('the remaining `###` samples represent {:.2f}% of the whole dataset'.format(p))"
   ]
  },
  {
   "cell_type": "code",
   "execution_count": 30,
   "metadata": {
    "ExecuteTime": {
     "end_time": "2018-10-10T22:39:40.459623Z",
     "start_time": "2018-10-10T22:39:40.430525Z"
    },
    "hidden": true
   },
   "outputs": [
    {
     "data": {
      "text/markdown": [
       "the remaining `0` samples represent 0.99% of the whole dataset"
      ],
      "text/plain": [
       "<IPython.core.display.Markdown object>"
      ]
     },
     "metadata": {},
     "output_type": "display_data"
    }
   ],
   "source": [
    "p = sh_crashes[sh_crashes['crashRPSH'] == 0].shape[0] / crash_data.shape[0] * 100\n",
    "printmd('the remaining `0` samples represent {:.2f}% of the whole dataset'.format(p))"
   ]
  },
  {
   "cell_type": "markdown",
   "metadata": {
    "hidden": true
   },
   "source": [
    "If we want to remove these samples, we should first check if this action would affect the balance and distribution of our target featrure, `crashSeveriry`:"
   ]
  },
  {
   "cell_type": "code",
   "execution_count": 31,
   "metadata": {
    "ExecuteTime": {
     "end_time": "2018-10-10T22:39:40.928924Z",
     "start_time": "2018-10-10T22:39:40.461714Z"
    },
    "hidden": true
   },
   "outputs": [
    {
     "data": {
      "text/html": [
       "<div>\n",
       "<style scoped>\n",
       "    .dataframe tbody tr th:only-of-type {\n",
       "        vertical-align: middle;\n",
       "    }\n",
       "\n",
       "    .dataframe tbody tr th {\n",
       "        vertical-align: top;\n",
       "    }\n",
       "\n",
       "    .dataframe thead th {\n",
       "        text-align: right;\n",
       "    }\n",
       "</style>\n",
       "<table border=\"1\" class=\"dataframe\">\n",
       "  <thead>\n",
       "    <tr style=\"text-align: right;\">\n",
       "      <th></th>\n",
       "      <th>crashSeverity</th>\n",
       "      <th>percent</th>\n",
       "      <th>percent_total</th>\n",
       "    </tr>\n",
       "  </thead>\n",
       "  <tbody>\n",
       "    <tr>\n",
       "      <th>N</th>\n",
       "      <td>6953</td>\n",
       "      <td>73.297491</td>\n",
       "      <td>1.488451</td>\n",
       "    </tr>\n",
       "    <tr>\n",
       "      <th>M</th>\n",
       "      <td>2015</td>\n",
       "      <td>21.241830</td>\n",
       "      <td>1.378315</td>\n",
       "    </tr>\n",
       "    <tr>\n",
       "      <th>S</th>\n",
       "      <td>445</td>\n",
       "      <td>4.691124</td>\n",
       "      <td>1.224883</td>\n",
       "    </tr>\n",
       "    <tr>\n",
       "      <th>F</th>\n",
       "      <td>73</td>\n",
       "      <td>0.769555</td>\n",
       "      <td>1.210012</td>\n",
       "    </tr>\n",
       "  </tbody>\n",
       "</table>\n",
       "</div>"
      ],
      "text/plain": [
       "   crashSeverity    percent  percent_total\n",
       "N           6953  73.297491       1.488451\n",
       "M           2015  21.241830       1.378315\n",
       "S            445   4.691124       1.224883\n",
       "F             73   0.769555       1.210012"
      ]
     },
     "execution_count": 31,
     "metadata": {},
     "output_type": "execute_result"
    }
   ],
   "source": [
    "def compute_percent_total(row):\n",
    "    return row['crashSeverity'] / crash_data[crash_data['crashSeverity'] == row.name].shape[0] * 100\n",
    "\n",
    "counts = create_count_percentages(sh_crashes[sh_crashes['crashRPSH'] == '###']['crashSeverity'])\n",
    "counts['percent_total'] = counts.apply(compute_percent_total, axis=1)\n",
    "counts"
   ]
  },
  {
   "cell_type": "code",
   "execution_count": 32,
   "metadata": {
    "ExecuteTime": {
     "end_time": "2018-10-10T22:39:41.382419Z",
     "start_time": "2018-10-10T22:39:40.931328Z"
    },
    "hidden": true
   },
   "outputs": [
    {
     "data": {
      "text/html": [
       "<div>\n",
       "<style scoped>\n",
       "    .dataframe tbody tr th:only-of-type {\n",
       "        vertical-align: middle;\n",
       "    }\n",
       "\n",
       "    .dataframe tbody tr th {\n",
       "        vertical-align: top;\n",
       "    }\n",
       "\n",
       "    .dataframe thead th {\n",
       "        text-align: right;\n",
       "    }\n",
       "</style>\n",
       "<table border=\"1\" class=\"dataframe\">\n",
       "  <thead>\n",
       "    <tr style=\"text-align: right;\">\n",
       "      <th></th>\n",
       "      <th>crashSeverity</th>\n",
       "      <th>percent</th>\n",
       "      <th>percent_total</th>\n",
       "    </tr>\n",
       "  </thead>\n",
       "  <tbody>\n",
       "    <tr>\n",
       "      <th>N</th>\n",
       "      <td>5325</td>\n",
       "      <td>81.709375</td>\n",
       "      <td>1.139940</td>\n",
       "    </tr>\n",
       "    <tr>\n",
       "      <th>M</th>\n",
       "      <td>1031</td>\n",
       "      <td>15.820163</td>\n",
       "      <td>0.705232</td>\n",
       "    </tr>\n",
       "    <tr>\n",
       "      <th>S</th>\n",
       "      <td>147</td>\n",
       "      <td>2.255639</td>\n",
       "      <td>0.404624</td>\n",
       "    </tr>\n",
       "    <tr>\n",
       "      <th>F</th>\n",
       "      <td>14</td>\n",
       "      <td>0.214823</td>\n",
       "      <td>0.232057</td>\n",
       "    </tr>\n",
       "  </tbody>\n",
       "</table>\n",
       "</div>"
      ],
      "text/plain": [
       "   crashSeverity    percent  percent_total\n",
       "N           5325  81.709375       1.139940\n",
       "M           1031  15.820163       0.705232\n",
       "S            147   2.255639       0.404624\n",
       "F             14   0.214823       0.232057"
      ]
     },
     "execution_count": 32,
     "metadata": {},
     "output_type": "execute_result"
    }
   ],
   "source": [
    "counts = create_count_percentages(sh_crashes[sh_crashes['crashRPSH'] == 0]['crashSeverity'])\n",
    "counts['percent_total'] = counts.apply(compute_percent_total, axis=1)\n",
    "counts"
   ]
  },
  {
   "cell_type": "markdown",
   "metadata": {
    "hidden": true
   },
   "source": [
    "This is very good news. For both cases, the remaining samples are distributed across our target feature in the same way. Notice how, for each `crashSeverity` value, the samples represent between 1,2% and 1.5% of each class; and between 0.2% and 1.1%, respectively for each value (`###`and `0`).\n",
    "\n",
    "We conclude that dropping these remaining samples from the dataset will not alter the balance of classes of the target feature. We could call it a stratified trimming of the dataset."
   ]
  },
  {
   "cell_type": "code",
   "execution_count": 33,
   "metadata": {
    "ExecuteTime": {
     "end_time": "2018-10-10T22:39:41.824886Z",
     "start_time": "2018-10-10T22:39:41.384677Z"
    },
    "hidden": true
   },
   "outputs": [],
   "source": [
    "mask = crash_data.loc[(crash_data['crashSHDescription'] == 'Yes') & (crash_data['crashRPSH'].isin([0, '###']))]\n",
    "crash_data.drop(mask.index, inplace=True)"
   ]
  },
  {
   "cell_type": "markdown",
   "metadata": {
    "hidden": true
   },
   "source": [
    "phew!\n",
    "\n",
    "We have treated all strange and missing values by analyzing the relevant samples and their corresponding context. Now, the feature can be used in the final model... *CrashRPSH*: Done!"
   ]
  },
  {
   "cell_type": "markdown",
   "metadata": {
    "heading_collapsed": true,
    "hidden": true
   },
   "source": [
    "#### flatHill"
   ]
  },
  {
   "cell_type": "code",
   "execution_count": 34,
   "metadata": {
    "ExecuteTime": {
     "end_time": "2018-10-10T22:39:41.988089Z",
     "start_time": "2018-10-10T22:39:41.826839Z"
    },
    "hidden": true,
    "scrolled": true
   },
   "outputs": [
    {
     "data": {
      "image/png": "[encoded data removed]",
      "text/plain": [
       "<matplotlib.figure.Figure at 0x10ce10518>"
      ]
     },
     "metadata": {},
     "output_type": "display_data"
    }
   ],
   "source": [
    "plot_data = create_plot_data(crash_data, 'flatHill')\n",
    "plot_and_annotate(plot_data, color='green')"
   ]
  },
  {
   "cell_type": "markdown",
   "metadata": {
    "hidden": true
   },
   "source": [
    "Ok. How many sample are there with a value `Unknown`?"
   ]
  },
  {
   "cell_type": "code",
   "execution_count": 35,
   "metadata": {
    "ExecuteTime": {
     "end_time": "2018-10-10T22:39:41.997249Z",
     "start_time": "2018-10-10T22:39:41.990181Z"
    },
    "hidden": true
   },
   "outputs": [
    {
     "data": {
      "text/html": [
       "<div>\n",
       "<style scoped>\n",
       "    .dataframe tbody tr th:only-of-type {\n",
       "        vertical-align: middle;\n",
       "    }\n",
       "\n",
       "    .dataframe tbody tr th {\n",
       "        vertical-align: top;\n",
       "    }\n",
       "\n",
       "    .dataframe thead th {\n",
       "        text-align: right;\n",
       "    }\n",
       "</style>\n",
       "<table border=\"1\" class=\"dataframe\">\n",
       "  <thead>\n",
       "    <tr style=\"text-align: right;\">\n",
       "      <th></th>\n",
       "      <th>flatHill</th>\n",
       "      <th>percent</th>\n",
       "    </tr>\n",
       "  </thead>\n",
       "  <tbody>\n",
       "    <tr>\n",
       "      <th>Flat</th>\n",
       "      <td>514254</td>\n",
       "      <td>80.392007</td>\n",
       "    </tr>\n",
       "    <tr>\n",
       "      <th>Hill</th>\n",
       "      <td>124089</td>\n",
       "      <td>19.398515</td>\n",
       "    </tr>\n",
       "    <tr>\n",
       "      <th>Unknown</th>\n",
       "      <td>1340</td>\n",
       "      <td>0.209479</td>\n",
       "    </tr>\n",
       "  </tbody>\n",
       "</table>\n",
       "</div>"
      ],
      "text/plain": [
       "         flatHill    percent\n",
       "Flat       514254  80.392007\n",
       "Hill       124089  19.398515\n",
       "Unknown      1340   0.209479"
      ]
     },
     "execution_count": 35,
     "metadata": {},
     "output_type": "execute_result"
    }
   ],
   "source": [
    "plot_data"
   ]
  },
  {
   "cell_type": "markdown",
   "metadata": {
    "hidden": true
   },
   "source": [
    "What are the incidence of these samples across the target feature?"
   ]
  },
  {
   "cell_type": "code",
   "execution_count": 36,
   "metadata": {
    "ExecuteTime": {
     "end_time": "2018-10-10T22:39:42.047880Z",
     "start_time": "2018-10-10T22:39:41.999563Z"
    },
    "hidden": true
   },
   "outputs": [
    {
     "data": {
      "text/html": [
       "<div>\n",
       "<style scoped>\n",
       "    .dataframe tbody tr th:only-of-type {\n",
       "        vertical-align: middle;\n",
       "    }\n",
       "\n",
       "    .dataframe tbody tr th {\n",
       "        vertical-align: top;\n",
       "    }\n",
       "\n",
       "    .dataframe thead th {\n",
       "        text-align: right;\n",
       "    }\n",
       "</style>\n",
       "<table border=\"1\" class=\"dataframe\">\n",
       "  <thead>\n",
       "    <tr style=\"text-align: right;\">\n",
       "      <th></th>\n",
       "      <th>crashSeverity</th>\n",
       "      <th>percent</th>\n",
       "    </tr>\n",
       "  </thead>\n",
       "  <tbody>\n",
       "    <tr>\n",
       "      <th>N</th>\n",
       "      <td>1029</td>\n",
       "      <td>76.791045</td>\n",
       "    </tr>\n",
       "    <tr>\n",
       "      <th>M</th>\n",
       "      <td>239</td>\n",
       "      <td>17.835821</td>\n",
       "    </tr>\n",
       "    <tr>\n",
       "      <th>S</th>\n",
       "      <td>66</td>\n",
       "      <td>4.925373</td>\n",
       "    </tr>\n",
       "    <tr>\n",
       "      <th>F</th>\n",
       "      <td>6</td>\n",
       "      <td>0.447761</td>\n",
       "    </tr>\n",
       "  </tbody>\n",
       "</table>\n",
       "</div>"
      ],
      "text/plain": [
       "   crashSeverity    percent\n",
       "N           1029  76.791045\n",
       "M            239  17.835821\n",
       "S             66   4.925373\n",
       "F              6   0.447761"
      ]
     },
     "execution_count": 36,
     "metadata": {},
     "output_type": "execute_result"
    }
   ],
   "source": [
    "unknowns = crash_data[crash_data['flatHill'] == 'Unknown']\n",
    "create_count_percentages(unknowns['crashSeverity'])"
   ]
  },
  {
   "cell_type": "markdown",
   "metadata": {
    "hidden": true
   },
   "source": [
    "Again, the inconsistent samples are distributed across the target variable in such a way that removing them from the dataset wouldn't alter the balance of the classes we intend to predict. Lets remove them."
   ]
  },
  {
   "cell_type": "code",
   "execution_count": 37,
   "metadata": {
    "ExecuteTime": {
     "end_time": "2018-10-10T22:39:42.396064Z",
     "start_time": "2018-10-10T22:39:42.050357Z"
    },
    "hidden": true
   },
   "outputs": [],
   "source": [
    "crash_data.drop(unknowns.index, inplace=True)"
   ]
  },
  {
   "cell_type": "markdown",
   "metadata": {
    "heading_collapsed": true,
    "hidden": true
   },
   "source": [
    "#### roadCharacter"
   ]
  },
  {
   "cell_type": "code",
   "execution_count": 38,
   "metadata": {
    "ExecuteTime": {
     "end_time": "2018-10-10T22:39:42.563787Z",
     "start_time": "2018-10-10T22:39:42.397905Z"
    },
    "hidden": true
   },
   "outputs": [
    {
     "data": {
      "image/png": "[encoded data removed]",
      "text/plain": [
       "<matplotlib.figure.Figure at 0x10cf4c4e0>"
      ]
     },
     "metadata": {},
     "output_type": "display_data"
    }
   ],
   "source": [
    "plot_data = create_plot_data(crash_data, 'roadCharacter')\n",
    "plot_and_annotate(plot_data, color='green')"
   ]
  },
  {
   "cell_type": "markdown",
   "metadata": {
    "hidden": true
   },
   "source": [
    "In this case again, `Unknown` is a legitiamte value."
   ]
  },
  {
   "cell_type": "markdown",
   "metadata": {
    "heading_collapsed": true,
    "hidden": true
   },
   "source": [
    "#### roadCurvature"
   ]
  },
  {
   "cell_type": "code",
   "execution_count": 39,
   "metadata": {
    "ExecuteTime": {
     "end_time": "2018-10-10T22:39:42.822636Z",
     "start_time": "2018-10-10T22:39:42.566265Z"
    },
    "hidden": true
   },
   "outputs": [
    {
     "data": {
      "image/png": "[encoded data removed]",
      "text/plain": [
       "<matplotlib.figure.Figure at 0x1a0eae2908>"
      ]
     },
     "metadata": {},
     "output_type": "display_data"
    }
   ],
   "source": [
    "plot_data = create_plot_data(crash_data, 'roadCurvature')\n",
    "plot_and_annotate(plot_data, color='green')"
   ]
  },
  {
   "cell_type": "markdown",
   "metadata": {
    "hidden": true
   },
   "source": [
    "Lets repeat the process as for `flatHill`:\n",
    "* Check how many samples are there with a value `Unknown` .\n",
    "* Check for the severity of those crashes.\n",
    "* If possible, remove the samples altogether."
   ]
  },
  {
   "cell_type": "code",
   "execution_count": 40,
   "metadata": {
    "ExecuteTime": {
     "end_time": "2018-10-10T22:39:42.832185Z",
     "start_time": "2018-10-10T22:39:42.824961Z"
    },
    "hidden": true
   },
   "outputs": [
    {
     "data": {
      "text/html": [
       "<div>\n",
       "<style scoped>\n",
       "    .dataframe tbody tr th:only-of-type {\n",
       "        vertical-align: middle;\n",
       "    }\n",
       "\n",
       "    .dataframe tbody tr th {\n",
       "        vertical-align: top;\n",
       "    }\n",
       "\n",
       "    .dataframe thead th {\n",
       "        text-align: right;\n",
       "    }\n",
       "</style>\n",
       "<table border=\"1\" class=\"dataframe\">\n",
       "  <thead>\n",
       "    <tr style=\"text-align: right;\">\n",
       "      <th></th>\n",
       "      <th>roadCurvature</th>\n",
       "      <th>percent</th>\n",
       "    </tr>\n",
       "  </thead>\n",
       "  <tbody>\n",
       "    <tr>\n",
       "      <th>Straight Road</th>\n",
       "      <td>441180</td>\n",
       "      <td>69.113314</td>\n",
       "    </tr>\n",
       "    <tr>\n",
       "      <th>Easy Curve</th>\n",
       "      <td>92575</td>\n",
       "      <td>14.502391</td>\n",
       "    </tr>\n",
       "    <tr>\n",
       "      <th>Moderate Curve</th>\n",
       "      <td>85613</td>\n",
       "      <td>13.411755</td>\n",
       "    </tr>\n",
       "    <tr>\n",
       "      <th>Severe Curve</th>\n",
       "      <td>18973</td>\n",
       "      <td>2.972227</td>\n",
       "    </tr>\n",
       "    <tr>\n",
       "      <th>Unknown</th>\n",
       "      <td>2</td>\n",
       "      <td>0.000313</td>\n",
       "    </tr>\n",
       "  </tbody>\n",
       "</table>\n",
       "</div>"
      ],
      "text/plain": [
       "                roadCurvature    percent\n",
       "Straight Road          441180  69.113314\n",
       "Easy Curve              92575  14.502391\n",
       "Moderate Curve          85613  13.411755\n",
       "Severe Curve            18973   2.972227\n",
       "Unknown                     2   0.000313"
      ]
     },
     "execution_count": 40,
     "metadata": {},
     "output_type": "execute_result"
    }
   ],
   "source": [
    "plot_data"
   ]
  },
  {
   "cell_type": "code",
   "execution_count": 41,
   "metadata": {
    "ExecuteTime": {
     "end_time": "2018-10-10T22:39:42.877972Z",
     "start_time": "2018-10-10T22:39:42.834186Z"
    },
    "hidden": true
   },
   "outputs": [
    {
     "data": {
      "text/html": [
       "<div>\n",
       "<style scoped>\n",
       "    .dataframe tbody tr th:only-of-type {\n",
       "        vertical-align: middle;\n",
       "    }\n",
       "\n",
       "    .dataframe tbody tr th {\n",
       "        vertical-align: top;\n",
       "    }\n",
       "\n",
       "    .dataframe thead th {\n",
       "        text-align: right;\n",
       "    }\n",
       "</style>\n",
       "<table border=\"1\" class=\"dataframe\">\n",
       "  <thead>\n",
       "    <tr style=\"text-align: right;\">\n",
       "      <th></th>\n",
       "      <th>crashSeverity</th>\n",
       "      <th>percent</th>\n",
       "    </tr>\n",
       "  </thead>\n",
       "  <tbody>\n",
       "    <tr>\n",
       "      <th>N</th>\n",
       "      <td>2</td>\n",
       "      <td>100.0</td>\n",
       "    </tr>\n",
       "  </tbody>\n",
       "</table>\n",
       "</div>"
      ],
      "text/plain": [
       "   crashSeverity  percent\n",
       "N              2    100.0"
      ]
     },
     "execution_count": 41,
     "metadata": {},
     "output_type": "execute_result"
    }
   ],
   "source": [
    "unknowns = crash_data[crash_data['roadCurvature'] == 'Unknown']\n",
    "create_count_percentages(unknowns['crashSeverity'])"
   ]
  },
  {
   "cell_type": "code",
   "execution_count": 42,
   "metadata": {
    "ExecuteTime": {
     "end_time": "2018-10-10T22:39:43.205788Z",
     "start_time": "2018-10-10T22:39:42.880297Z"
    },
    "hidden": true
   },
   "outputs": [],
   "source": [
    "crash_data.drop(unknowns.index, inplace=True)"
   ]
  },
  {
   "cell_type": "markdown",
   "metadata": {
    "heading_collapsed": true,
    "hidden": true
   },
   "source": [
    "#### roadLane"
   ]
  },
  {
   "cell_type": "code",
   "execution_count": 43,
   "metadata": {
    "ExecuteTime": {
     "end_time": "2018-10-10T22:39:43.337148Z",
     "start_time": "2018-10-10T22:39:43.207677Z"
    },
    "hidden": true,
    "scrolled": true
   },
   "outputs": [
    {
     "data": {
      "image/png": "[encoded data removed]",
      "text/plain": [
       "<matplotlib.figure.Figure at 0x10cf64668>"
      ]
     },
     "metadata": {},
     "output_type": "display_data"
    }
   ],
   "source": [
    "plot_data = create_plot_data(crash_data, 'roadLane')\n",
    "plot_and_annotate(plot_data, color='green')"
   ]
  },
  {
   "cell_type": "markdown",
   "metadata": {
    "hidden": true
   },
   "source": [
    "At this point, we have kind of a recipe to deal with these inconsistent values. At least until we cannot remove the samples."
   ]
  },
  {
   "cell_type": "code",
   "execution_count": 44,
   "metadata": {
    "ExecuteTime": {
     "end_time": "2018-10-10T22:39:43.346420Z",
     "start_time": "2018-10-10T22:39:43.339522Z"
    },
    "hidden": true
   },
   "outputs": [
    {
     "data": {
      "text/html": [
       "<div>\n",
       "<style scoped>\n",
       "    .dataframe tbody tr th:only-of-type {\n",
       "        vertical-align: middle;\n",
       "    }\n",
       "\n",
       "    .dataframe tbody tr th {\n",
       "        vertical-align: top;\n",
       "    }\n",
       "\n",
       "    .dataframe thead th {\n",
       "        text-align: right;\n",
       "    }\n",
       "</style>\n",
       "<table border=\"1\" class=\"dataframe\">\n",
       "  <thead>\n",
       "    <tr style=\"text-align: right;\">\n",
       "      <th></th>\n",
       "      <th>roadLane</th>\n",
       "      <th>percent</th>\n",
       "    </tr>\n",
       "  </thead>\n",
       "  <tbody>\n",
       "    <tr>\n",
       "      <th>2.0</th>\n",
       "      <td>577631</td>\n",
       "      <td>90.489409</td>\n",
       "    </tr>\n",
       "    <tr>\n",
       "      <th>1.0</th>\n",
       "      <td>50391</td>\n",
       "      <td>7.894057</td>\n",
       "    </tr>\n",
       "    <tr>\n",
       "      <th>###</th>\n",
       "      <td>10319</td>\n",
       "      <td>1.616534</td>\n",
       "    </tr>\n",
       "  </tbody>\n",
       "</table>\n",
       "</div>"
      ],
      "text/plain": [
       "     roadLane    percent\n",
       "2.0    577631  90.489409\n",
       "1.0     50391   7.894057\n",
       "###     10319   1.616534"
      ]
     },
     "execution_count": 44,
     "metadata": {},
     "output_type": "execute_result"
    }
   ],
   "source": [
    "plot_data"
   ]
  },
  {
   "cell_type": "code",
   "execution_count": 45,
   "metadata": {
    "ExecuteTime": {
     "end_time": "2018-10-10T22:39:43.400306Z",
     "start_time": "2018-10-10T22:39:43.348559Z"
    },
    "hidden": true
   },
   "outputs": [
    {
     "data": {
      "text/html": [
       "<div>\n",
       "<style scoped>\n",
       "    .dataframe tbody tr th:only-of-type {\n",
       "        vertical-align: middle;\n",
       "    }\n",
       "\n",
       "    .dataframe tbody tr th {\n",
       "        vertical-align: top;\n",
       "    }\n",
       "\n",
       "    .dataframe thead th {\n",
       "        text-align: right;\n",
       "    }\n",
       "</style>\n",
       "<table border=\"1\" class=\"dataframe\">\n",
       "  <thead>\n",
       "    <tr style=\"text-align: right;\">\n",
       "      <th></th>\n",
       "      <th>crashSeverity</th>\n",
       "      <th>percent</th>\n",
       "    </tr>\n",
       "  </thead>\n",
       "  <tbody>\n",
       "    <tr>\n",
       "      <th>N</th>\n",
       "      <td>7822</td>\n",
       "      <td>75.801919</td>\n",
       "    </tr>\n",
       "    <tr>\n",
       "      <th>M</th>\n",
       "      <td>1747</td>\n",
       "      <td>16.929935</td>\n",
       "    </tr>\n",
       "    <tr>\n",
       "      <th>S</th>\n",
       "      <td>672</td>\n",
       "      <td>6.512259</td>\n",
       "    </tr>\n",
       "    <tr>\n",
       "      <th>F</th>\n",
       "      <td>78</td>\n",
       "      <td>0.755887</td>\n",
       "    </tr>\n",
       "  </tbody>\n",
       "</table>\n",
       "</div>"
      ],
      "text/plain": [
       "   crashSeverity    percent\n",
       "N           7822  75.801919\n",
       "M           1747  16.929935\n",
       "S            672   6.512259\n",
       "F             78   0.755887"
      ]
     },
     "execution_count": 45,
     "metadata": {},
     "output_type": "execute_result"
    }
   ],
   "source": [
    "missing = crash_data[crash_data['roadLane'] == '###']\n",
    "create_count_percentages(missing['crashSeverity'])"
   ]
  },
  {
   "cell_type": "code",
   "execution_count": 46,
   "metadata": {
    "ExecuteTime": {
     "end_time": "2018-10-10T22:39:43.728884Z",
     "start_time": "2018-10-10T22:39:43.402189Z"
    },
    "hidden": true
   },
   "outputs": [],
   "source": [
    "crash_data.drop(missing.index, inplace=True)"
   ]
  },
  {
   "cell_type": "markdown",
   "metadata": {
    "hidden": true
   },
   "source": [
    "At this point, we should mention that a more thorugh analysis of the dataset could allow us to fill in the blanks of all this missing values and avoid dropping their samples. However due to a time constraint, and to keep our focus on building the model, we have decided to take this route."
   ]
  },
  {
   "cell_type": "markdown",
   "metadata": {
    "heading_collapsed": true,
    "hidden": true
   },
   "source": [
    "#### roadMarkings"
   ]
  },
  {
   "cell_type": "code",
   "execution_count": 47,
   "metadata": {
    "ExecuteTime": {
     "end_time": "2018-10-10T22:39:43.916572Z",
     "start_time": "2018-10-10T22:39:43.730939Z"
    },
    "hidden": true
   },
   "outputs": [
    {
     "data": {
      "image/png": "[encoded data removed]",
      "text/plain": [
       "<matplotlib.figure.Figure at 0x10d4fb6d8>"
      ]
     },
     "metadata": {},
     "output_type": "display_data"
    }
   ],
   "source": [
    "plot_data = create_plot_data(crash_data, 'roadMarkings')\n",
    "plot_and_annotate(plot_data, color='green')"
   ]
  },
  {
   "cell_type": "code",
   "execution_count": 48,
   "metadata": {
    "ExecuteTime": {
     "end_time": "2018-10-10T22:39:43.926453Z",
     "start_time": "2018-10-10T22:39:43.918912Z"
    },
    "hidden": true,
    "scrolled": true
   },
   "outputs": [
    {
     "data": {
      "text/html": [
       "<div>\n",
       "<style scoped>\n",
       "    .dataframe tbody tr th:only-of-type {\n",
       "        vertical-align: middle;\n",
       "    }\n",
       "\n",
       "    .dataframe tbody tr th {\n",
       "        vertical-align: top;\n",
       "    }\n",
       "\n",
       "    .dataframe thead th {\n",
       "        text-align: right;\n",
       "    }\n",
       "</style>\n",
       "<table border=\"1\" class=\"dataframe\">\n",
       "  <thead>\n",
       "    <tr style=\"text-align: right;\">\n",
       "      <th></th>\n",
       "      <th>roadMarkings</th>\n",
       "      <th>percent</th>\n",
       "    </tr>\n",
       "  </thead>\n",
       "  <tbody>\n",
       "    <tr>\n",
       "      <th>Centre Line</th>\n",
       "      <td>407305</td>\n",
       "      <td>64.855212</td>\n",
       "    </tr>\n",
       "    <tr>\n",
       "      <th>Raised Island</th>\n",
       "      <td>78812</td>\n",
       "      <td>12.549242</td>\n",
       "    </tr>\n",
       "    <tr>\n",
       "      <th>No Marks</th>\n",
       "      <td>73127</td>\n",
       "      <td>11.644019</td>\n",
       "    </tr>\n",
       "    <tr>\n",
       "      <th>Painted Island</th>\n",
       "      <td>34579</td>\n",
       "      <td>5.506017</td>\n",
       "    </tr>\n",
       "    <tr>\n",
       "      <th>No Passing Lines</th>\n",
       "      <td>25977</td>\n",
       "      <td>4.136320</td>\n",
       "    </tr>\n",
       "    <tr>\n",
       "      <th>Ped Crossing</th>\n",
       "      <td>6477</td>\n",
       "      <td>1.031333</td>\n",
       "    </tr>\n",
       "    <tr>\n",
       "      <th>Unknown</th>\n",
       "      <td>1744</td>\n",
       "      <td>0.277697</td>\n",
       "    </tr>\n",
       "    <tr>\n",
       "      <th>0</th>\n",
       "      <td>1</td>\n",
       "      <td>0.000159</td>\n",
       "    </tr>\n",
       "  </tbody>\n",
       "</table>\n",
       "</div>"
      ],
      "text/plain": [
       "                  roadMarkings    percent\n",
       "Centre Line             407305  64.855212\n",
       "Raised Island            78812  12.549242\n",
       "No Marks                 73127  11.644019\n",
       "Painted Island           34579   5.506017\n",
       "No Passing Lines         25977   4.136320\n",
       "Ped Crossing              6477   1.031333\n",
       "Unknown                   1744   0.277697\n",
       "0                            1   0.000159"
      ]
     },
     "execution_count": 48,
     "metadata": {},
     "output_type": "execute_result"
    }
   ],
   "source": [
    "plot_data"
   ]
  },
  {
   "cell_type": "code",
   "execution_count": 49,
   "metadata": {
    "ExecuteTime": {
     "end_time": "2018-10-10T22:39:43.969979Z",
     "start_time": "2018-10-10T22:39:43.928750Z"
    },
    "hidden": true
   },
   "outputs": [
    {
     "data": {
      "text/html": [
       "<div>\n",
       "<style scoped>\n",
       "    .dataframe tbody tr th:only-of-type {\n",
       "        vertical-align: middle;\n",
       "    }\n",
       "\n",
       "    .dataframe tbody tr th {\n",
       "        vertical-align: top;\n",
       "    }\n",
       "\n",
       "    .dataframe thead th {\n",
       "        text-align: right;\n",
       "    }\n",
       "</style>\n",
       "<table border=\"1\" class=\"dataframe\">\n",
       "  <thead>\n",
       "    <tr style=\"text-align: right;\">\n",
       "      <th></th>\n",
       "      <th>crashSeverity</th>\n",
       "      <th>percent</th>\n",
       "    </tr>\n",
       "  </thead>\n",
       "  <tbody>\n",
       "    <tr>\n",
       "      <th>N</th>\n",
       "      <td>1</td>\n",
       "      <td>100.0</td>\n",
       "    </tr>\n",
       "  </tbody>\n",
       "</table>\n",
       "</div>"
      ],
      "text/plain": [
       "   crashSeverity  percent\n",
       "N              1    100.0"
      ]
     },
     "execution_count": 49,
     "metadata": {},
     "output_type": "execute_result"
    }
   ],
   "source": [
    "zero = crash_data[crash_data['roadMarkings'] == '0']\n",
    "create_count_percentages(zero['crashSeverity'])"
   ]
  },
  {
   "cell_type": "code",
   "execution_count": 50,
   "metadata": {
    "ExecuteTime": {
     "end_time": "2018-10-10T22:39:44.298968Z",
     "start_time": "2018-10-10T22:39:43.971852Z"
    },
    "hidden": true
   },
   "outputs": [],
   "source": [
    "crash_data.drop(zero.index, inplace=True)"
   ]
  },
  {
   "cell_type": "markdown",
   "metadata": {
    "heading_collapsed": true,
    "hidden": true
   },
   "source": [
    "#### roadSurface"
   ]
  },
  {
   "cell_type": "code",
   "execution_count": 51,
   "metadata": {
    "ExecuteTime": {
     "end_time": "2018-10-10T22:39:44.447410Z",
     "start_time": "2018-10-10T22:39:44.301019Z"
    },
    "hidden": true,
    "scrolled": true
   },
   "outputs": [
    {
     "data": {
      "image/png": "[encoded data removed]",
      "text/plain": [
       "<matplotlib.figure.Figure at 0x10bd5fda0>"
      ]
     },
     "metadata": {},
     "output_type": "display_data"
    }
   ],
   "source": [
    "plot_data = create_plot_data(crash_data, 'roadSurface')\n",
    "plot_and_annotate(plot_data, color='green')"
   ]
  },
  {
   "cell_type": "code",
   "execution_count": 52,
   "metadata": {
    "ExecuteTime": {
     "end_time": "2018-10-10T22:39:44.457144Z",
     "start_time": "2018-10-10T22:39:44.449787Z"
    },
    "hidden": true
   },
   "outputs": [
    {
     "data": {
      "text/html": [
       "<div>\n",
       "<style scoped>\n",
       "    .dataframe tbody tr th:only-of-type {\n",
       "        vertical-align: middle;\n",
       "    }\n",
       "\n",
       "    .dataframe tbody tr th {\n",
       "        vertical-align: top;\n",
       "    }\n",
       "\n",
       "    .dataframe thead th {\n",
       "        text-align: right;\n",
       "    }\n",
       "</style>\n",
       "<table border=\"1\" class=\"dataframe\">\n",
       "  <thead>\n",
       "    <tr style=\"text-align: right;\">\n",
       "      <th></th>\n",
       "      <th>roadSurface</th>\n",
       "      <th>percent</th>\n",
       "    </tr>\n",
       "  </thead>\n",
       "  <tbody>\n",
       "    <tr>\n",
       "      <th>Sealed</th>\n",
       "      <td>616468</td>\n",
       "      <td>98.160412</td>\n",
       "    </tr>\n",
       "    <tr>\n",
       "      <th>Unsealed</th>\n",
       "      <td>11552</td>\n",
       "      <td>1.839429</td>\n",
       "    </tr>\n",
       "    <tr>\n",
       "      <th>Unknown</th>\n",
       "      <td>1</td>\n",
       "      <td>0.000159</td>\n",
       "    </tr>\n",
       "  </tbody>\n",
       "</table>\n",
       "</div>"
      ],
      "text/plain": [
       "          roadSurface    percent\n",
       "Sealed         616468  98.160412\n",
       "Unsealed        11552   1.839429\n",
       "Unknown             1   0.000159"
      ]
     },
     "execution_count": 52,
     "metadata": {},
     "output_type": "execute_result"
    }
   ],
   "source": [
    "plot_data"
   ]
  },
  {
   "cell_type": "code",
   "execution_count": 53,
   "metadata": {
    "ExecuteTime": {
     "end_time": "2018-10-10T22:39:44.500345Z",
     "start_time": "2018-10-10T22:39:44.459625Z"
    },
    "hidden": true
   },
   "outputs": [
    {
     "data": {
      "text/html": [
       "<div>\n",
       "<style scoped>\n",
       "    .dataframe tbody tr th:only-of-type {\n",
       "        vertical-align: middle;\n",
       "    }\n",
       "\n",
       "    .dataframe tbody tr th {\n",
       "        vertical-align: top;\n",
       "    }\n",
       "\n",
       "    .dataframe thead th {\n",
       "        text-align: right;\n",
       "    }\n",
       "</style>\n",
       "<table border=\"1\" class=\"dataframe\">\n",
       "  <thead>\n",
       "    <tr style=\"text-align: right;\">\n",
       "      <th></th>\n",
       "      <th>crashSeverity</th>\n",
       "      <th>percent</th>\n",
       "    </tr>\n",
       "  </thead>\n",
       "  <tbody>\n",
       "    <tr>\n",
       "      <th>N</th>\n",
       "      <td>1</td>\n",
       "      <td>100.0</td>\n",
       "    </tr>\n",
       "  </tbody>\n",
       "</table>\n",
       "</div>"
      ],
      "text/plain": [
       "   crashSeverity  percent\n",
       "N              1    100.0"
      ]
     },
     "execution_count": 53,
     "metadata": {},
     "output_type": "execute_result"
    }
   ],
   "source": [
    "unknowns = crash_data[crash_data['roadSurface'] == 'Unknown']\n",
    "create_count_percentages(unknowns['crashSeverity'])"
   ]
  },
  {
   "cell_type": "code",
   "execution_count": 54,
   "metadata": {
    "ExecuteTime": {
     "end_time": "2018-10-10T22:39:44.824744Z",
     "start_time": "2018-10-10T22:39:44.501920Z"
    },
    "hidden": true
   },
   "outputs": [],
   "source": [
    "crash_data.drop(unknowns.index, inplace=True)"
   ]
  },
  {
   "cell_type": "markdown",
   "metadata": {
    "heading_collapsed": true,
    "hidden": true
   },
   "source": [
    "#### roadWet"
   ]
  },
  {
   "cell_type": "code",
   "execution_count": 55,
   "metadata": {
    "ExecuteTime": {
     "end_time": "2018-10-10T22:39:44.989546Z",
     "start_time": "2018-10-10T22:39:44.826930Z"
    },
    "hidden": true
   },
   "outputs": [
    {
     "data": {
      "image/png": "[encoded data removed]",
      "text/plain": [
       "<matplotlib.figure.Figure at 0x1a2fc9bd30>"
      ]
     },
     "metadata": {},
     "output_type": "display_data"
    }
   ],
   "source": [
    "plot_data = create_plot_data(crash_data, 'roadWet')\n",
    "plot_and_annotate(plot_data, color='green')"
   ]
  },
  {
   "cell_type": "markdown",
   "metadata": {
    "hidden": true
   },
   "source": [
    "`Unknown` is admissible. Moving along."
   ]
  },
  {
   "cell_type": "markdown",
   "metadata": {
    "heading_collapsed": true,
    "hidden": true
   },
   "source": [
    "#### numberOfLanes"
   ]
  },
  {
   "cell_type": "code",
   "execution_count": 56,
   "metadata": {
    "ExecuteTime": {
     "end_time": "2018-10-10T22:39:45.121288Z",
     "start_time": "2018-10-10T22:39:44.991830Z"
    },
    "hidden": true
   },
   "outputs": [
    {
     "data": {
      "image/png": "[encoded data removed]",
      "text/plain": [
       "<matplotlib.figure.Figure at 0x1a2fd360f0>"
      ]
     },
     "metadata": {},
     "output_type": "display_data"
    }
   ],
   "source": [
    "plot_data = create_plot_data(crash_data, 'numberOfLanes')\n",
    "plot_and_annotate(plot_data, color='green')"
   ]
  },
  {
   "cell_type": "markdown",
   "metadata": {
    "hidden": true
   },
   "source": [
    "Hm... here the only strange values would be `0`. How can a road, street or highway have zero lanes?"
   ]
  },
  {
   "cell_type": "code",
   "execution_count": 57,
   "metadata": {
    "ExecuteTime": {
     "end_time": "2018-10-10T22:39:45.130646Z",
     "start_time": "2018-10-10T22:39:45.123460Z"
    },
    "hidden": true
   },
   "outputs": [
    {
     "data": {
      "text/html": [
       "<div>\n",
       "<style scoped>\n",
       "    .dataframe tbody tr th:only-of-type {\n",
       "        vertical-align: middle;\n",
       "    }\n",
       "\n",
       "    .dataframe tbody tr th {\n",
       "        vertical-align: top;\n",
       "    }\n",
       "\n",
       "    .dataframe thead th {\n",
       "        text-align: right;\n",
       "    }\n",
       "</style>\n",
       "<table border=\"1\" class=\"dataframe\">\n",
       "  <thead>\n",
       "    <tr style=\"text-align: right;\">\n",
       "      <th></th>\n",
       "      <th>numberOfLanes</th>\n",
       "      <th>percent</th>\n",
       "    </tr>\n",
       "  </thead>\n",
       "  <tbody>\n",
       "    <tr>\n",
       "      <th>2</th>\n",
       "      <td>469081</td>\n",
       "      <td>74.692048</td>\n",
       "    </tr>\n",
       "    <tr>\n",
       "      <th>4</th>\n",
       "      <td>71681</td>\n",
       "      <td>11.413808</td>\n",
       "    </tr>\n",
       "    <tr>\n",
       "      <th>3</th>\n",
       "      <td>43768</td>\n",
       "      <td>6.969205</td>\n",
       "    </tr>\n",
       "    <tr>\n",
       "      <th>1</th>\n",
       "      <td>20605</td>\n",
       "      <td>3.280946</td>\n",
       "    </tr>\n",
       "    <tr>\n",
       "      <th>5</th>\n",
       "      <td>11004</td>\n",
       "      <td>1.752173</td>\n",
       "    </tr>\n",
       "    <tr>\n",
       "      <th>6</th>\n",
       "      <td>9423</td>\n",
       "      <td>1.500430</td>\n",
       "    </tr>\n",
       "    <tr>\n",
       "      <th>0</th>\n",
       "      <td>1434</td>\n",
       "      <td>0.228337</td>\n",
       "    </tr>\n",
       "    <tr>\n",
       "      <th>8</th>\n",
       "      <td>577</td>\n",
       "      <td>0.091876</td>\n",
       "    </tr>\n",
       "    <tr>\n",
       "      <th>7</th>\n",
       "      <td>447</td>\n",
       "      <td>0.071176</td>\n",
       "    </tr>\n",
       "  </tbody>\n",
       "</table>\n",
       "</div>"
      ],
      "text/plain": [
       "   numberOfLanes    percent\n",
       "2         469081  74.692048\n",
       "4          71681  11.413808\n",
       "3          43768   6.969205\n",
       "1          20605   3.280946\n",
       "5          11004   1.752173\n",
       "6           9423   1.500430\n",
       "0           1434   0.228337\n",
       "8            577   0.091876\n",
       "7            447   0.071176"
      ]
     },
     "execution_count": 57,
     "metadata": {},
     "output_type": "execute_result"
    }
   ],
   "source": [
    "plot_data"
   ]
  },
  {
   "cell_type": "code",
   "execution_count": 58,
   "metadata": {
    "ExecuteTime": {
     "end_time": "2018-10-10T22:39:45.149746Z",
     "start_time": "2018-10-10T22:39:45.132897Z"
    },
    "hidden": true
   },
   "outputs": [
    {
     "data": {
      "text/html": [
       "<div>\n",
       "<style scoped>\n",
       "    .dataframe tbody tr th:only-of-type {\n",
       "        vertical-align: middle;\n",
       "    }\n",
       "\n",
       "    .dataframe tbody tr th {\n",
       "        vertical-align: top;\n",
       "    }\n",
       "\n",
       "    .dataframe thead th {\n",
       "        text-align: right;\n",
       "    }\n",
       "</style>\n",
       "<table border=\"1\" class=\"dataframe\">\n",
       "  <thead>\n",
       "    <tr style=\"text-align: right;\">\n",
       "      <th></th>\n",
       "      <th>crashSeverity</th>\n",
       "      <th>percent</th>\n",
       "    </tr>\n",
       "  </thead>\n",
       "  <tbody>\n",
       "    <tr>\n",
       "      <th>N</th>\n",
       "      <td>1044</td>\n",
       "      <td>72.803347</td>\n",
       "    </tr>\n",
       "    <tr>\n",
       "      <th>M</th>\n",
       "      <td>297</td>\n",
       "      <td>20.711297</td>\n",
       "    </tr>\n",
       "    <tr>\n",
       "      <th>S</th>\n",
       "      <td>86</td>\n",
       "      <td>5.997211</td>\n",
       "    </tr>\n",
       "    <tr>\n",
       "      <th>F</th>\n",
       "      <td>7</td>\n",
       "      <td>0.488145</td>\n",
       "    </tr>\n",
       "  </tbody>\n",
       "</table>\n",
       "</div>"
      ],
      "text/plain": [
       "   crashSeverity    percent\n",
       "N           1044  72.803347\n",
       "M            297  20.711297\n",
       "S             86   5.997211\n",
       "F              7   0.488145"
      ]
     },
     "execution_count": 58,
     "metadata": {},
     "output_type": "execute_result"
    }
   ],
   "source": [
    "zeros = crash_data[crash_data['numberOfLanes'] == 0]\n",
    "create_count_percentages(zeros['crashSeverity'])"
   ]
  },
  {
   "cell_type": "code",
   "execution_count": 59,
   "metadata": {
    "ExecuteTime": {
     "end_time": "2018-10-10T22:39:45.491615Z",
     "start_time": "2018-10-10T22:39:45.152304Z"
    },
    "hidden": true,
    "scrolled": true
   },
   "outputs": [],
   "source": [
    "crash_data.drop(zeros.index, inplace=True)"
   ]
  },
  {
   "cell_type": "markdown",
   "metadata": {
    "heading_collapsed": true,
    "hidden": true
   },
   "source": [
    "#### trafficControl"
   ]
  },
  {
   "cell_type": "code",
   "execution_count": 60,
   "metadata": {
    "ExecuteTime": {
     "end_time": "2018-10-10T22:39:45.671325Z",
     "start_time": "2018-10-10T22:39:45.493902Z"
    },
    "hidden": true
   },
   "outputs": [
    {
     "data": {
      "image/png": "[encoded data removed]",
      "text/plain": [
       "<matplotlib.figure.Figure at 0x1a2fc51f28>"
      ]
     },
     "metadata": {},
     "output_type": "display_data"
    }
   ],
   "source": [
    "plot_data = create_plot_data(crash_data, 'trafficControl')\n",
    "plot_and_annotate(plot_data, color='green')"
   ]
  },
  {
   "cell_type": "markdown",
   "metadata": {
    "hidden": true
   },
   "source": [
    "For this particular feature, we should mention that the value `Nil` is very important. It indicates that place where the crash happened didn't have any traffic control signals. This could turn out to be a significat factor for the crash severity and it could be an *easy* way to reduce fatalities and crashes overall. However, a sample with no value for this feature is problematic.\n",
    "\n",
    "Lets check the severity of crashes without a value for it:"
   ]
  },
  {
   "cell_type": "code",
   "execution_count": 61,
   "metadata": {
    "ExecuteTime": {
     "end_time": "2018-10-10T22:39:45.802078Z",
     "start_time": "2018-10-10T22:39:45.673586Z"
    },
    "hidden": true
   },
   "outputs": [
    {
     "data": {
      "text/html": [
       "<div>\n",
       "<style scoped>\n",
       "    .dataframe tbody tr th:only-of-type {\n",
       "        vertical-align: middle;\n",
       "    }\n",
       "\n",
       "    .dataframe tbody tr th {\n",
       "        vertical-align: top;\n",
       "    }\n",
       "\n",
       "    .dataframe thead th {\n",
       "        text-align: right;\n",
       "    }\n",
       "</style>\n",
       "<table border=\"1\" class=\"dataframe\">\n",
       "  <thead>\n",
       "    <tr style=\"text-align: right;\">\n",
       "      <th></th>\n",
       "      <th>crashSeverity</th>\n",
       "      <th>percent</th>\n",
       "    </tr>\n",
       "  </thead>\n",
       "  <tbody>\n",
       "    <tr>\n",
       "      <th>N</th>\n",
       "      <td>95805</td>\n",
       "      <td>67.754597</td>\n",
       "    </tr>\n",
       "    <tr>\n",
       "      <th>M</th>\n",
       "      <td>33531</td>\n",
       "      <td>23.713579</td>\n",
       "    </tr>\n",
       "    <tr>\n",
       "      <th>S</th>\n",
       "      <td>10603</td>\n",
       "      <td>7.498586</td>\n",
       "    </tr>\n",
       "    <tr>\n",
       "      <th>F</th>\n",
       "      <td>1461</td>\n",
       "      <td>1.033239</td>\n",
       "    </tr>\n",
       "  </tbody>\n",
       "</table>\n",
       "</div>"
      ],
      "text/plain": [
       "   crashSeverity    percent\n",
       "N          95805  67.754597\n",
       "M          33531  23.713579\n",
       "S          10603   7.498586\n",
       "F           1461   1.033239"
      ]
     },
     "execution_count": 61,
     "metadata": {},
     "output_type": "execute_result"
    }
   ],
   "source": [
    "missing = crash_data[crash_data['trafficControl'] == '###']\n",
    "create_count_percentages(missing['crashSeverity'])"
   ]
  },
  {
   "cell_type": "markdown",
   "metadata": {
    "hidden": true
   },
   "source": [
    "In this case we cannot simply remove the samples. What's more we don't have straight way of infering a value for these samples. Therefore, we will the value N/A as it is and let the final model account for it.\n",
    "\n",
    "<u>**Note:**</u> It is important to say that were it not for the time constraint mentioned earlier, we should dig deeper into this feture in order to arrive at a better solution since the feature carries much value towards our goal."
   ]
  },
  {
   "cell_type": "code",
   "execution_count": 62,
   "metadata": {
    "ExecuteTime": {
     "end_time": "2018-10-10T22:39:55.021754Z",
     "start_time": "2018-10-10T22:39:45.803616Z"
    },
    "hidden": true
   },
   "outputs": [],
   "source": [
    "crash_data['trafficControl'] = crash_data.apply(\n",
    "    lambda row: 'N/A' if row['crashSHDescription'] == 'No' else row['trafficControl'],\n",
    "    axis=1)"
   ]
  },
  {
   "cell_type": "markdown",
   "metadata": {
    "heading_collapsed": true,
    "hidden": true
   },
   "source": [
    "#### urban"
   ]
  },
  {
   "cell_type": "code",
   "execution_count": 63,
   "metadata": {
    "ExecuteTime": {
     "end_time": "2018-10-10T22:39:55.182211Z",
     "start_time": "2018-10-10T22:39:55.023600Z"
    },
    "hidden": true
   },
   "outputs": [
    {
     "data": {
      "image/png": "[encoded data removed]",
      "text/plain": [
       "<matplotlib.figure.Figure at 0x1a0f4c0d68>"
      ]
     },
     "metadata": {},
     "output_type": "display_data"
    }
   ],
   "source": [
    "plot_data = create_plot_data(crash_data, 'urban')\n",
    "plot_and_annotate(plot_data, color='green')"
   ]
  },
  {
   "cell_type": "markdown",
   "metadata": {
    "hidden": true
   },
   "source": [
    "Nothing out of the ordinary, moving to the next one"
   ]
  },
  {
   "cell_type": "markdown",
   "metadata": {
    "heading_collapsed": true,
    "hidden": true
   },
   "source": [
    "#### Light"
   ]
  },
  {
   "cell_type": "code",
   "execution_count": 64,
   "metadata": {
    "ExecuteTime": {
     "end_time": "2018-10-10T22:39:55.356574Z",
     "start_time": "2018-10-10T22:39:55.184470Z"
    },
    "hidden": true
   },
   "outputs": [
    {
     "data": {
      "image/png": "[encoded data removed]",
      "text/plain": [
       "<matplotlib.figure.Figure at 0x10d7444e0>"
      ]
     },
     "metadata": {},
     "output_type": "display_data"
    }
   ],
   "source": [
    "plot_data = create_plot_data(crash_data, 'light')\n",
    "plot_and_annotate(plot_data, color='green')"
   ]
  },
  {
   "cell_type": "markdown",
   "metadata": {
    "heading_collapsed": true,
    "hidden": true
   },
   "source": [
    "#### streetLight"
   ]
  },
  {
   "cell_type": "code",
   "execution_count": 65,
   "metadata": {
    "ExecuteTime": {
     "end_time": "2018-10-10T22:39:55.524672Z",
     "start_time": "2018-10-10T22:39:55.358976Z"
    },
    "hidden": true
   },
   "outputs": [
    {
     "data": {
      "image/png": "[encoded data removed]",
      "text/plain": [
       "<matplotlib.figure.Figure at 0x1a2fc2d160>"
      ]
     },
     "metadata": {},
     "output_type": "display_data"
    }
   ],
   "source": [
    "plot_data = create_plot_data(crash_data, 'streetLight')\n",
    "plot_and_annotate(plot_data, color='green')"
   ]
  },
  {
   "cell_type": "markdown",
   "metadata": {
    "hidden": true
   },
   "source": [
    "Although this feautre doesn't present any inconsistent values with its definition, the high number of crashes with `Unknown` does raise questions."
   ]
  },
  {
   "cell_type": "markdown",
   "metadata": {
    "heading_collapsed": true,
    "hidden": true
   },
   "source": [
    "#### weatherA"
   ]
  },
  {
   "cell_type": "code",
   "execution_count": 66,
   "metadata": {
    "ExecuteTime": {
     "end_time": "2018-10-10T22:39:55.702307Z",
     "start_time": "2018-10-10T22:39:55.527194Z"
    },
    "hidden": true
   },
   "outputs": [
    {
     "data": {
      "image/png": "[encoded data removed]",
      "text/plain": [
       "<matplotlib.figure.Figure at 0x1a2fd12710>"
      ]
     },
     "metadata": {},
     "output_type": "display_data"
    }
   ],
   "source": [
    "plot_data = create_plot_data(crash_data, 'weatherA')\n",
    "plot_and_annotate(plot_data, color='green')"
   ]
  },
  {
   "cell_type": "markdown",
   "metadata": {
    "heading_collapsed": true,
    "hidden": true
   },
   "source": [
    "#### weatherB"
   ]
  },
  {
   "cell_type": "code",
   "execution_count": 67,
   "metadata": {
    "ExecuteTime": {
     "end_time": "2018-10-10T22:39:55.932816Z",
     "start_time": "2018-10-10T22:39:55.704669Z"
    },
    "hidden": true
   },
   "outputs": [
    {
     "data": {
      "image/png": "[encoded data removed]",
      "text/plain": [
       "<matplotlib.figure.Figure at 0x1a2fd35470>"
      ]
     },
     "metadata": {},
     "output_type": "display_data"
    }
   ],
   "source": [
    "plot_data = create_plot_data(crash_data, 'weatherB')\n",
    "plot_and_annotate(plot_data, color='green')"
   ]
  },
  {
   "cell_type": "markdown",
   "metadata": {
    "hidden": true
   },
   "source": [
    "---"
   ]
  },
  {
   "cell_type": "markdown",
   "metadata": {
    "hidden": true
   },
   "source": [
    "After reviewing all the categorical features, our dataset has changed a bit:"
   ]
  },
  {
   "cell_type": "code",
   "execution_count": 68,
   "metadata": {
    "ExecuteTime": {
     "end_time": "2018-10-10T22:39:55.938418Z",
     "start_time": "2018-10-10T22:39:55.935274Z"
    },
    "hidden": true
   },
   "outputs": [
    {
     "name": "stdout",
     "output_type": "stream",
     "text": [
      "The dataset has 626,586 samples and 68 features\n"
     ]
    }
   ],
   "source": [
    "print('The dataset has {:3,d} samples and {} features'.format(*crash_data.shape))"
   ]
  },
  {
   "cell_type": "markdown",
   "metadata": {
    "hidden": true
   },
   "source": [
    "We have dropped 4.6% of the samples due to inconsistent values and we have dropped 11 features that weren't meaning ful. The next step is to check a few numerical features."
   ]
  },
  {
   "cell_type": "markdown",
   "metadata": {
    "heading_collapsed": true,
    "hidden": true
   },
   "source": [
    "### 3.2 Numerical Feature"
   ]
  },
  {
   "cell_type": "markdown",
   "metadata": {
    "hidden": true
   },
   "source": [
    "We won't be checking all numerical features, many of them are just counters for number of different kind of object that were hit in the crash. But there are a few that we should check at least."
   ]
  },
  {
   "cell_type": "markdown",
   "metadata": {
    "heading_collapsed": true,
    "hidden": true
   },
   "source": [
    "#### speedLimit"
   ]
  },
  {
   "cell_type": "code",
   "execution_count": 69,
   "metadata": {
    "ExecuteTime": {
     "end_time": "2018-10-10T22:39:56.124538Z",
     "start_time": "2018-10-10T22:39:55.940833Z"
    },
    "hidden": true
   },
   "outputs": [
    {
     "data": {
      "image/png": "[encoded data removed]",
      "text/plain": [
       "<matplotlib.figure.Figure at 0x1a2fdc7940>"
      ]
     },
     "metadata": {},
     "output_type": "display_data"
    }
   ],
   "source": [
    "plot_data = create_plot_data(crash_data, 'speedLimit')\n",
    "plot_and_annotate(plot_data, color='green')"
   ]
  },
  {
   "cell_type": "markdown",
   "metadata": {
    "hidden": true
   },
   "source": [
    "This looks nice. Excep for the very few cases that are missing a value. Lets check the severity of those crashes to see if we can drop the samples."
   ]
  },
  {
   "cell_type": "code",
   "execution_count": 70,
   "metadata": {
    "ExecuteTime": {
     "end_time": "2018-10-10T22:39:56.175562Z",
     "start_time": "2018-10-10T22:39:56.126885Z"
    },
    "hidden": true
   },
   "outputs": [
    {
     "data": {
      "text/html": [
       "<div>\n",
       "<style scoped>\n",
       "    .dataframe tbody tr th:only-of-type {\n",
       "        vertical-align: middle;\n",
       "    }\n",
       "\n",
       "    .dataframe tbody tr th {\n",
       "        vertical-align: top;\n",
       "    }\n",
       "\n",
       "    .dataframe thead th {\n",
       "        text-align: right;\n",
       "    }\n",
       "</style>\n",
       "<table border=\"1\" class=\"dataframe\">\n",
       "  <thead>\n",
       "    <tr style=\"text-align: right;\">\n",
       "      <th></th>\n",
       "      <th>crashSeverity</th>\n",
       "      <th>percent</th>\n",
       "    </tr>\n",
       "  </thead>\n",
       "  <tbody>\n",
       "    <tr>\n",
       "      <th>N</th>\n",
       "      <td>8</td>\n",
       "      <td>80.0</td>\n",
       "    </tr>\n",
       "    <tr>\n",
       "      <th>M</th>\n",
       "      <td>1</td>\n",
       "      <td>10.0</td>\n",
       "    </tr>\n",
       "    <tr>\n",
       "      <th>S</th>\n",
       "      <td>1</td>\n",
       "      <td>10.0</td>\n",
       "    </tr>\n",
       "  </tbody>\n",
       "</table>\n",
       "</div>"
      ],
      "text/plain": [
       "   crashSeverity  percent\n",
       "N              8     80.0\n",
       "M              1     10.0\n",
       "S              1     10.0"
      ]
     },
     "execution_count": 70,
     "metadata": {},
     "output_type": "execute_result"
    }
   ],
   "source": [
    "missing = crash_data[crash_data['speedLimit'] == '###']\n",
    "create_count_percentages(missing['crashSeverity'])"
   ]
  },
  {
   "cell_type": "markdown",
   "metadata": {
    "hidden": true
   },
   "source": [
    "Given the few cases there are, we remove the samples."
   ]
  },
  {
   "cell_type": "code",
   "execution_count": 71,
   "metadata": {
    "ExecuteTime": {
     "end_time": "2018-10-10T22:39:56.491060Z",
     "start_time": "2018-10-10T22:39:56.177232Z"
    },
    "hidden": true
   },
   "outputs": [],
   "source": [
    "crash_data.drop(missing.index, inplace=True)"
   ]
  },
  {
   "cell_type": "markdown",
   "metadata": {
    "heading_collapsed": true,
    "hidden": true
   },
   "source": [
    "#### advisorySpeed"
   ]
  },
  {
   "cell_type": "code",
   "execution_count": 72,
   "metadata": {
    "ExecuteTime": {
     "end_time": "2018-10-10T22:39:56.677155Z",
     "start_time": "2018-10-10T22:39:56.493243Z"
    },
    "hidden": true
   },
   "outputs": [
    {
     "data": {
      "image/png": "[encoded data removed]",
      "text/plain": [
       "<matplotlib.figure.Figure at 0x1a2fd1a438>"
      ]
     },
     "metadata": {},
     "output_type": "display_data"
    }
   ],
   "source": [
    "plot_data = create_plot_data(crash_data, 'advisorySpeed')\n",
    "plot_and_annotate(plot_data, color='green')"
   ]
  },
  {
   "cell_type": "markdown",
   "metadata": {
    "hidden": true
   },
   "source": [
    "Here we clearly see that this features is being used properly; as it makes no sense to advise a speed of `0` (Mk/Hr) on 96% of cases.\n",
    "\n",
    "So we will simply drop the feature from the dataset."
   ]
  },
  {
   "cell_type": "code",
   "execution_count": 73,
   "metadata": {
    "ExecuteTime": {
     "end_time": "2018-10-10T22:39:56.961758Z",
     "start_time": "2018-10-10T22:39:56.679545Z"
    },
    "hidden": true
   },
   "outputs": [],
   "source": [
    "crash_data.drop('advisorySpeed', axis=1, inplace=True)"
   ]
  },
  {
   "cell_type": "markdown",
   "metadata": {
    "heading_collapsed": true,
    "hidden": true
   },
   "source": [
    "#### temporarySpeedLimit"
   ]
  },
  {
   "cell_type": "code",
   "execution_count": 74,
   "metadata": {
    "ExecuteTime": {
     "end_time": "2018-10-10T22:39:57.113586Z",
     "start_time": "2018-10-10T22:39:56.963531Z"
    },
    "hidden": true
   },
   "outputs": [
    {
     "data": {
      "image/png": "[encoded data removed]",
      "text/plain": [
       "<matplotlib.figure.Figure at 0x1a0f76e828>"
      ]
     },
     "metadata": {},
     "output_type": "display_data"
    }
   ],
   "source": [
    "plot_data = create_plot_data(crash_data, 'temporarySpeedLimit')\n",
    "plot_and_annotate(plot_data, color='green')"
   ]
  },
  {
   "cell_type": "markdown",
   "metadata": {
    "hidden": true
   },
   "source": [
    "Same thing as before. We remove the feature from the dataset."
   ]
  },
  {
   "cell_type": "code",
   "execution_count": 75,
   "metadata": {
    "ExecuteTime": {
     "end_time": "2018-10-10T22:39:57.391621Z",
     "start_time": "2018-10-10T22:39:57.115957Z"
    },
    "hidden": true
   },
   "outputs": [],
   "source": [
    "crash_data.drop('temporarySpeedLimit', axis=1, inplace=True)"
   ]
  },
  {
   "cell_type": "markdown",
   "metadata": {
    "hidden": true
   },
   "source": [
    "---"
   ]
  },
  {
   "cell_type": "markdown",
   "metadata": {
    "heading_collapsed": true,
    "hidden": true
   },
   "source": [
    "### 3.3 Wrap up"
   ]
  },
  {
   "cell_type": "markdown",
   "metadata": {
    "hidden": true
   },
   "source": [
    "Great. We have removed two more features, but we haven't dropped any further samples."
   ]
  },
  {
   "cell_type": "markdown",
   "metadata": {
    "hidden": true
   },
   "source": [
    "As we can see, althoguh the last three features are numerical, they actualy could be intepreted as categorical (ordinal) features. In fact, that's what we will do. All the remaining features are counts to describe the amount of objects/vehicles/people involved in the crash. As such, we will treat them as numerical."
   ]
  },
  {
   "cell_type": "markdown",
   "metadata": {
    "hidden": true
   },
   "source": [
    "ALso, **_crashLocation1_**, **_crashLocation2_** present such a varied array of values which are subject to the point of view of the officer that reported each crash that we simply cannot use them for our analysis or model"
   ]
  },
  {
   "cell_type": "code",
   "execution_count": 76,
   "metadata": {
    "ExecuteTime": {
     "end_time": "2018-10-10T22:39:57.661426Z",
     "start_time": "2018-10-10T22:39:57.393352Z"
    },
    "hidden": true
   },
   "outputs": [],
   "source": [
    "crash_data.drop(['crashLocation1', 'crashLocation2'], axis=1, inplace=True)"
   ]
  },
  {
   "cell_type": "code",
   "execution_count": 77,
   "metadata": {
    "ExecuteTime": {
     "end_time": "2018-10-10T22:39:58.534655Z",
     "start_time": "2018-10-10T22:39:57.663217Z"
    },
    "hidden": true,
    "scrolled": true
   },
   "outputs": [],
   "source": [
    "# Read features descriptions\n",
    "features_catalog = pd.read_table('data/features_description.tsv')\n",
    "crash_data = cast_df_features(crash_data, features_catalog)"
   ]
  },
  {
   "cell_type": "markdown",
   "metadata": {
    "hidden": true
   },
   "source": [
    "We will use a feature catalog, which is a distilled version of the PDF from above. The catalog will be useful to keep track of all the features, their meaning and type, and the data type of their values. we will use it as a reference throughout the project and it will be useful should you have any question about the dataset.\n",
    "\n",
    "The catalog is a tab-separated file named *features_description.tsv*. You ca find in the root of the project's repository."
   ]
  },
  {
   "cell_type": "markdown",
   "metadata": {
    "hidden": true
   },
   "source": [
    "This concludes our cleaning tasks and we can now start exploring the structure of the dataset and the relation between the features. But before we do that, lets save the clean dataset so we don't have to go through all this process again when feeding it to the model. This will help reduce training time and could also add to the accuracy and efficiency of the model."
   ]
  },
  {
   "cell_type": "code",
   "execution_count": 78,
   "metadata": {
    "ExecuteTime": {
     "end_time": "2018-10-10T22:40:10.741578Z",
     "start_time": "2018-10-10T22:39:58.536210Z"
    },
    "hidden": true
   },
   "outputs": [],
   "source": [
    "crash_data.to_csv('data/Crash_Analysis_System_CAS_data_clean.csv', index=False)"
   ]
  },
  {
   "cell_type": "markdown",
   "metadata": {},
   "source": [
    "## 4. Correlation of Features"
   ]
  },
  {
   "cell_type": "markdown",
   "metadata": {},
   "source": [
    "In this section we will explore the relationship between features. Specifically, we present a Chi2 test of independence for each pair of categorical features."
   ]
  },
  {
   "cell_type": "code",
   "execution_count": 80,
   "metadata": {
    "ExecuteTime": {
     "end_time": "2018-10-10T21:58:21.686541Z",
     "start_time": "2018-10-10T21:58:21.672076Z"
    },
    "scrolled": true
   },
   "outputs": [],
   "source": [
    "# available_features = [feature for feature in features_catalog['feature_name'] if feature in crash_data.columns]\n",
    "\n",
    "# chi2_matrix = []\n",
    "# index = []\n",
    "\n",
    "# for feature_a in available_features:\n",
    "#     index.append(feature_a)\n",
    "#     row = []\n",
    "#     for feature_b in available_features:\n",
    "#         contingency = pd.crosstab(crash_data[feature_a],\n",
    "#                                   crash_data[feature_b])\n",
    "#         #acceptance level is 0.05\n",
    "#         p = chi2_contingency(contingency)[1]\n",
    "#         row.append(p)\n",
    "#     chi2_matrix.append(row)\n",
    "    \n",
    "# chi2_p_values = pd.DataFrame(chi2_matrix, columns=index, index=index)\n",
    "# chi2_p_values.to_csv('chi2_independence_results.csv')\n",
    "chi2_p_values = pd.read_csv('data/chi2_independence_results.csv', index_col=0)"
   ]
  },
  {
   "cell_type": "markdown",
   "metadata": {},
   "source": [
    "next, we show the P values corresponding to the test for each pair of features. Naturally, every element in the diagonal will have a value of 0 since any given features will be totally dependent on itself."
   ]
  },
  {
   "cell_type": "markdown",
   "metadata": {},
   "source": [
    "The values should be interpreted as the probability that a Chi2 test for the complete population of crashes be greater than the one found using the (sample) dataset. In other words, how likely is it to find values different than the ones found using the provided crash samples?\n",
    "\n",
    "If the value is greated than a given treashold –in this case 0.05, or 5%– then the two features will be deemed as independent. If the P value is lower than 0.05, the two features will be considered as mutually dependant.\n",
    "\n",
    "For a better visualization of these values we include an image generated from the Tableau workbook –available on Tableau Public. Due to a time contraint, we don't include the necesary code to reproduce the viz using matplotlib."
   ]
  },
  {
   "cell_type": "code",
   "execution_count": 81,
   "metadata": {
    "ExecuteTime": {
     "end_time": "2018-10-10T21:58:24.367739Z",
     "start_time": "2018-10-10T21:58:24.300168Z"
    },
    "scrolled": true
   },
   "outputs": [
    {
     "data": {
      "text/html": [
       "<div>\n",
       "<style scoped>\n",
       "    .dataframe tbody tr th:only-of-type {\n",
       "        vertical-align: middle;\n",
       "    }\n",
       "\n",
       "    .dataframe tbody tr th {\n",
       "        vertical-align: top;\n",
       "    }\n",
       "\n",
       "    .dataframe thead th {\n",
       "        text-align: right;\n",
       "    }\n",
       "</style>\n",
       "<table border=\"1\" class=\"dataframe\">\n",
       "  <thead>\n",
       "    <tr style=\"text-align: right;\">\n",
       "      <th></th>\n",
       "      <th>cornerRoadSideRoad</th>\n",
       "      <th>crashRPSH</th>\n",
       "      <th>crashSeverity</th>\n",
       "      <th>crashSHDescription</th>\n",
       "      <th>darkLight</th>\n",
       "      <th>directionRoleDescription</th>\n",
       "      <th>flatHill</th>\n",
       "      <th>holiday</th>\n",
       "      <th>intersection</th>\n",
       "      <th>intersectionMidblock</th>\n",
       "      <th>...</th>\n",
       "      <th>moped</th>\n",
       "      <th>motorCycle</th>\n",
       "      <th>otherVehicleType</th>\n",
       "      <th>schoolBus</th>\n",
       "      <th>suv</th>\n",
       "      <th>taxi</th>\n",
       "      <th>truck</th>\n",
       "      <th>unknownVehicleType</th>\n",
       "      <th>vanOrUtility</th>\n",
       "      <th>pedestrian</th>\n",
       "    </tr>\n",
       "  </thead>\n",
       "  <tbody>\n",
       "    <tr>\n",
       "      <th>cornerRoadSideRoad</th>\n",
       "      <td>0.000000e+00</td>\n",
       "      <td>0.000000e+00</td>\n",
       "      <td>1.269356e-64</td>\n",
       "      <td>0.000000e+00</td>\n",
       "      <td>2.132818e-74</td>\n",
       "      <td>0.000000e+00</td>\n",
       "      <td>0.000000e+00</td>\n",
       "      <td>9.809611e-02</td>\n",
       "      <td>0.000000e+00</td>\n",
       "      <td>0.000000e+00</td>\n",
       "      <td>...</td>\n",
       "      <td>2.336930e-01</td>\n",
       "      <td>1.131607e-23</td>\n",
       "      <td>8.536614e-08</td>\n",
       "      <td>5.419807e-01</td>\n",
       "      <td>5.152767e-13</td>\n",
       "      <td>5.835624e-04</td>\n",
       "      <td>1.792213e-67</td>\n",
       "      <td>4.987269e-01</td>\n",
       "      <td>1.613292e-46</td>\n",
       "      <td>4.240924e-03</td>\n",
       "    </tr>\n",
       "    <tr>\n",
       "      <th>crashRPSH</th>\n",
       "      <td>0.000000e+00</td>\n",
       "      <td>0.000000e+00</td>\n",
       "      <td>0.000000e+00</td>\n",
       "      <td>0.000000e+00</td>\n",
       "      <td>1.199965e-91</td>\n",
       "      <td>0.000000e+00</td>\n",
       "      <td>0.000000e+00</td>\n",
       "      <td>3.501380e-246</td>\n",
       "      <td>0.000000e+00</td>\n",
       "      <td>0.000000e+00</td>\n",
       "      <td>...</td>\n",
       "      <td>1.070070e-49</td>\n",
       "      <td>4.223572e-284</td>\n",
       "      <td>2.942202e-175</td>\n",
       "      <td>9.943916e-01</td>\n",
       "      <td>3.841805e-130</td>\n",
       "      <td>4.487386e-75</td>\n",
       "      <td>0.000000e+00</td>\n",
       "      <td>1.000000e+00</td>\n",
       "      <td>3.438629e-189</td>\n",
       "      <td>0.000000e+00</td>\n",
       "    </tr>\n",
       "    <tr>\n",
       "      <th>crashSeverity</th>\n",
       "      <td>1.269356e-64</td>\n",
       "      <td>0.000000e+00</td>\n",
       "      <td>0.000000e+00</td>\n",
       "      <td>0.000000e+00</td>\n",
       "      <td>1.263091e-175</td>\n",
       "      <td>6.312706e-08</td>\n",
       "      <td>9.175632e-266</td>\n",
       "      <td>2.605378e-24</td>\n",
       "      <td>0.000000e+00</td>\n",
       "      <td>0.000000e+00</td>\n",
       "      <td>...</td>\n",
       "      <td>0.000000e+00</td>\n",
       "      <td>0.000000e+00</td>\n",
       "      <td>1.023684e-31</td>\n",
       "      <td>3.457405e-10</td>\n",
       "      <td>3.822733e-27</td>\n",
       "      <td>1.167200e-25</td>\n",
       "      <td>4.878985e-273</td>\n",
       "      <td>7.471039e-01</td>\n",
       "      <td>1.118210e-10</td>\n",
       "      <td>0.000000e+00</td>\n",
       "    </tr>\n",
       "    <tr>\n",
       "      <th>crashSHDescription</th>\n",
       "      <td>0.000000e+00</td>\n",
       "      <td>0.000000e+00</td>\n",
       "      <td>0.000000e+00</td>\n",
       "      <td>0.000000e+00</td>\n",
       "      <td>9.442837e-51</td>\n",
       "      <td>0.000000e+00</td>\n",
       "      <td>5.419877e-96</td>\n",
       "      <td>3.803621e-127</td>\n",
       "      <td>0.000000e+00</td>\n",
       "      <td>0.000000e+00</td>\n",
       "      <td>...</td>\n",
       "      <td>2.768988e-146</td>\n",
       "      <td>3.341325e-22</td>\n",
       "      <td>3.475834e-02</td>\n",
       "      <td>2.355626e-01</td>\n",
       "      <td>1.220247e-135</td>\n",
       "      <td>4.870168e-173</td>\n",
       "      <td>0.000000e+00</td>\n",
       "      <td>6.585585e-01</td>\n",
       "      <td>9.970478e-254</td>\n",
       "      <td>0.000000e+00</td>\n",
       "    </tr>\n",
       "    <tr>\n",
       "      <th>darkLight</th>\n",
       "      <td>2.132818e-74</td>\n",
       "      <td>1.199965e-91</td>\n",
       "      <td>1.263091e-175</td>\n",
       "      <td>9.442837e-51</td>\n",
       "      <td>0.000000e+00</td>\n",
       "      <td>1.353868e-08</td>\n",
       "      <td>2.763078e-54</td>\n",
       "      <td>0.000000e+00</td>\n",
       "      <td>1.056962e-126</td>\n",
       "      <td>6.254560e-206</td>\n",
       "      <td>...</td>\n",
       "      <td>1.764000e-11</td>\n",
       "      <td>9.071598e-218</td>\n",
       "      <td>6.684470e-15</td>\n",
       "      <td>5.540209e-28</td>\n",
       "      <td>8.338774e-138</td>\n",
       "      <td>1.411440e-79</td>\n",
       "      <td>0.000000e+00</td>\n",
       "      <td>9.958547e-01</td>\n",
       "      <td>0.000000e+00</td>\n",
       "      <td>2.910203e-56</td>\n",
       "    </tr>\n",
       "    <tr>\n",
       "      <th>directionRoleDescription</th>\n",
       "      <td>0.000000e+00</td>\n",
       "      <td>0.000000e+00</td>\n",
       "      <td>6.312706e-08</td>\n",
       "      <td>0.000000e+00</td>\n",
       "      <td>1.353868e-08</td>\n",
       "      <td>0.000000e+00</td>\n",
       "      <td>1.187480e-41</td>\n",
       "      <td>3.666823e-04</td>\n",
       "      <td>0.000000e+00</td>\n",
       "      <td>0.000000e+00</td>\n",
       "      <td>...</td>\n",
       "      <td>2.043286e-03</td>\n",
       "      <td>2.832754e-02</td>\n",
       "      <td>7.890454e-01</td>\n",
       "      <td>3.612102e-01</td>\n",
       "      <td>2.718363e-05</td>\n",
       "      <td>4.442752e-04</td>\n",
       "      <td>1.579516e-47</td>\n",
       "      <td>3.555504e-01</td>\n",
       "      <td>1.500661e-02</td>\n",
       "      <td>7.798183e-17</td>\n",
       "    </tr>\n",
       "    <tr>\n",
       "      <th>flatHill</th>\n",
       "      <td>0.000000e+00</td>\n",
       "      <td>0.000000e+00</td>\n",
       "      <td>9.175632e-266</td>\n",
       "      <td>5.419877e-96</td>\n",
       "      <td>2.763078e-54</td>\n",
       "      <td>1.187480e-41</td>\n",
       "      <td>0.000000e+00</td>\n",
       "      <td>2.094839e-40</td>\n",
       "      <td>0.000000e+00</td>\n",
       "      <td>0.000000e+00</td>\n",
       "      <td>...</td>\n",
       "      <td>9.699334e-14</td>\n",
       "      <td>1.442181e-67</td>\n",
       "      <td>3.960461e-01</td>\n",
       "      <td>1.999817e-01</td>\n",
       "      <td>2.300898e-01</td>\n",
       "      <td>1.221065e-06</td>\n",
       "      <td>1.101570e-09</td>\n",
       "      <td>1.852518e-01</td>\n",
       "      <td>1.215570e-09</td>\n",
       "      <td>2.135499e-104</td>\n",
       "    </tr>\n",
       "    <tr>\n",
       "      <th>holiday</th>\n",
       "      <td>9.809611e-02</td>\n",
       "      <td>3.501380e-246</td>\n",
       "      <td>2.605378e-24</td>\n",
       "      <td>3.803621e-127</td>\n",
       "      <td>0.000000e+00</td>\n",
       "      <td>3.666823e-04</td>\n",
       "      <td>2.094839e-40</td>\n",
       "      <td>0.000000e+00</td>\n",
       "      <td>4.860076e-46</td>\n",
       "      <td>3.522101e-68</td>\n",
       "      <td>...</td>\n",
       "      <td>3.392887e-04</td>\n",
       "      <td>1.247402e-13</td>\n",
       "      <td>5.688084e-02</td>\n",
       "      <td>1.395679e-02</td>\n",
       "      <td>5.051190e-01</td>\n",
       "      <td>1.896357e-03</td>\n",
       "      <td>1.144786e-192</td>\n",
       "      <td>2.092922e-02</td>\n",
       "      <td>3.782953e-18</td>\n",
       "      <td>7.255404e-15</td>\n",
       "    </tr>\n",
       "    <tr>\n",
       "      <th>intersection</th>\n",
       "      <td>0.000000e+00</td>\n",
       "      <td>0.000000e+00</td>\n",
       "      <td>0.000000e+00</td>\n",
       "      <td>0.000000e+00</td>\n",
       "      <td>1.056962e-126</td>\n",
       "      <td>0.000000e+00</td>\n",
       "      <td>0.000000e+00</td>\n",
       "      <td>4.860076e-46</td>\n",
       "      <td>0.000000e+00</td>\n",
       "      <td>0.000000e+00</td>\n",
       "      <td>...</td>\n",
       "      <td>5.553742e-109</td>\n",
       "      <td>3.918489e-15</td>\n",
       "      <td>4.537207e-29</td>\n",
       "      <td>9.824049e-01</td>\n",
       "      <td>2.780566e-13</td>\n",
       "      <td>3.488656e-54</td>\n",
       "      <td>5.723058e-250</td>\n",
       "      <td>4.042636e-01</td>\n",
       "      <td>2.840668e-34</td>\n",
       "      <td>1.241579e-155</td>\n",
       "    </tr>\n",
       "    <tr>\n",
       "      <th>intersectionMidblock</th>\n",
       "      <td>0.000000e+00</td>\n",
       "      <td>0.000000e+00</td>\n",
       "      <td>0.000000e+00</td>\n",
       "      <td>0.000000e+00</td>\n",
       "      <td>6.254560e-206</td>\n",
       "      <td>0.000000e+00</td>\n",
       "      <td>0.000000e+00</td>\n",
       "      <td>3.522101e-68</td>\n",
       "      <td>0.000000e+00</td>\n",
       "      <td>0.000000e+00</td>\n",
       "      <td>...</td>\n",
       "      <td>8.462826e-110</td>\n",
       "      <td>9.334115e-12</td>\n",
       "      <td>8.119074e-32</td>\n",
       "      <td>8.308599e-01</td>\n",
       "      <td>1.815835e-23</td>\n",
       "      <td>6.052290e-94</td>\n",
       "      <td>9.709531e-174</td>\n",
       "      <td>7.458134e-01</td>\n",
       "      <td>7.078494e-42</td>\n",
       "      <td>1.436592e-15</td>\n",
       "    </tr>\n",
       "    <tr>\n",
       "      <th>junctionType</th>\n",
       "      <td>0.000000e+00</td>\n",
       "      <td>0.000000e+00</td>\n",
       "      <td>0.000000e+00</td>\n",
       "      <td>0.000000e+00</td>\n",
       "      <td>0.000000e+00</td>\n",
       "      <td>0.000000e+00</td>\n",
       "      <td>0.000000e+00</td>\n",
       "      <td>2.014942e-125</td>\n",
       "      <td>0.000000e+00</td>\n",
       "      <td>0.000000e+00</td>\n",
       "      <td>...</td>\n",
       "      <td>2.920975e-201</td>\n",
       "      <td>2.229337e-134</td>\n",
       "      <td>5.263477e-58</td>\n",
       "      <td>4.014435e-01</td>\n",
       "      <td>7.977449e-46</td>\n",
       "      <td>6.287744e-165</td>\n",
       "      <td>1.657907e-244</td>\n",
       "      <td>9.767786e-01</td>\n",
       "      <td>8.653926e-116</td>\n",
       "      <td>2.904669e-60</td>\n",
       "    </tr>\n",
       "    <tr>\n",
       "      <th>light</th>\n",
       "      <td>3.975686e-81</td>\n",
       "      <td>1.482057e-303</td>\n",
       "      <td>1.291457e-239</td>\n",
       "      <td>1.141884e-195</td>\n",
       "      <td>0.000000e+00</td>\n",
       "      <td>6.188074e-23</td>\n",
       "      <td>0.000000e+00</td>\n",
       "      <td>0.000000e+00</td>\n",
       "      <td>8.050731e-195</td>\n",
       "      <td>0.000000e+00</td>\n",
       "      <td>...</td>\n",
       "      <td>1.639040e-22</td>\n",
       "      <td>0.000000e+00</td>\n",
       "      <td>5.648471e-25</td>\n",
       "      <td>1.669583e-25</td>\n",
       "      <td>1.857482e-149</td>\n",
       "      <td>1.558095e-83</td>\n",
       "      <td>0.000000e+00</td>\n",
       "      <td>9.948613e-01</td>\n",
       "      <td>0.000000e+00</td>\n",
       "      <td>1.162704e-145</td>\n",
       "    </tr>\n",
       "    <tr>\n",
       "      <th>multiVehicle</th>\n",
       "      <td>1.494880e-77</td>\n",
       "      <td>0.000000e+00</td>\n",
       "      <td>0.000000e+00</td>\n",
       "      <td>0.000000e+00</td>\n",
       "      <td>0.000000e+00</td>\n",
       "      <td>7.730089e-130</td>\n",
       "      <td>0.000000e+00</td>\n",
       "      <td>0.000000e+00</td>\n",
       "      <td>0.000000e+00</td>\n",
       "      <td>0.000000e+00</td>\n",
       "      <td>...</td>\n",
       "      <td>2.786775e-74</td>\n",
       "      <td>7.802700e-170</td>\n",
       "      <td>7.141244e-48</td>\n",
       "      <td>3.993560e-11</td>\n",
       "      <td>0.000000e+00</td>\n",
       "      <td>0.000000e+00</td>\n",
       "      <td>0.000000e+00</td>\n",
       "      <td>9.898284e-01</td>\n",
       "      <td>0.000000e+00</td>\n",
       "      <td>0.000000e+00</td>\n",
       "    </tr>\n",
       "    <tr>\n",
       "      <th>regionDesc</th>\n",
       "      <td>0.000000e+00</td>\n",
       "      <td>0.000000e+00</td>\n",
       "      <td>0.000000e+00</td>\n",
       "      <td>0.000000e+00</td>\n",
       "      <td>8.332726e-182</td>\n",
       "      <td>0.000000e+00</td>\n",
       "      <td>0.000000e+00</td>\n",
       "      <td>1.546436e-237</td>\n",
       "      <td>0.000000e+00</td>\n",
       "      <td>0.000000e+00</td>\n",
       "      <td>...</td>\n",
       "      <td>6.341704e-92</td>\n",
       "      <td>1.182502e-98</td>\n",
       "      <td>9.842928e-61</td>\n",
       "      <td>6.739735e-03</td>\n",
       "      <td>8.491019e-220</td>\n",
       "      <td>0.000000e+00</td>\n",
       "      <td>1.324228e-62</td>\n",
       "      <td>2.449798e-01</td>\n",
       "      <td>0.000000e+00</td>\n",
       "      <td>4.426612e-142</td>\n",
       "    </tr>\n",
       "    <tr>\n",
       "      <th>roadCharacter</th>\n",
       "      <td>4.767179e-107</td>\n",
       "      <td>0.000000e+00</td>\n",
       "      <td>1.772201e-92</td>\n",
       "      <td>0.000000e+00</td>\n",
       "      <td>1.263939e-01</td>\n",
       "      <td>6.270989e-40</td>\n",
       "      <td>2.507334e-186</td>\n",
       "      <td>8.948940e-05</td>\n",
       "      <td>0.000000e+00</td>\n",
       "      <td>0.000000e+00</td>\n",
       "      <td>...</td>\n",
       "      <td>7.683095e-09</td>\n",
       "      <td>1.367791e-02</td>\n",
       "      <td>4.846518e-32</td>\n",
       "      <td>6.445104e-01</td>\n",
       "      <td>1.283705e-10</td>\n",
       "      <td>4.633946e-03</td>\n",
       "      <td>8.531965e-182</td>\n",
       "      <td>9.932323e-01</td>\n",
       "      <td>1.011059e-13</td>\n",
       "      <td>3.042656e-65</td>\n",
       "    </tr>\n",
       "    <tr>\n",
       "      <th>roadCurvature</th>\n",
       "      <td>6.240485e-125</td>\n",
       "      <td>0.000000e+00</td>\n",
       "      <td>0.000000e+00</td>\n",
       "      <td>0.000000e+00</td>\n",
       "      <td>0.000000e+00</td>\n",
       "      <td>2.287939e-44</td>\n",
       "      <td>0.000000e+00</td>\n",
       "      <td>2.903939e-221</td>\n",
       "      <td>0.000000e+00</td>\n",
       "      <td>0.000000e+00</td>\n",
       "      <td>...</td>\n",
       "      <td>1.140395e-67</td>\n",
       "      <td>8.616812e-128</td>\n",
       "      <td>2.958925e-06</td>\n",
       "      <td>3.106103e-01</td>\n",
       "      <td>1.702118e-65</td>\n",
       "      <td>7.585291e-153</td>\n",
       "      <td>2.277349e-11</td>\n",
       "      <td>7.065592e-01</td>\n",
       "      <td>4.171742e-194</td>\n",
       "      <td>0.000000e+00</td>\n",
       "    </tr>\n",
       "    <tr>\n",
       "      <th>roadLane</th>\n",
       "      <td>5.351640e-133</td>\n",
       "      <td>0.000000e+00</td>\n",
       "      <td>0.000000e+00</td>\n",
       "      <td>0.000000e+00</td>\n",
       "      <td>7.957630e-18</td>\n",
       "      <td>0.000000e+00</td>\n",
       "      <td>1.126113e-63</td>\n",
       "      <td>7.616985e-38</td>\n",
       "      <td>0.000000e+00</td>\n",
       "      <td>0.000000e+00</td>\n",
       "      <td>...</td>\n",
       "      <td>1.942331e-23</td>\n",
       "      <td>7.956099e-06</td>\n",
       "      <td>3.644893e-14</td>\n",
       "      <td>6.401546e-03</td>\n",
       "      <td>1.016542e-60</td>\n",
       "      <td>4.331147e-50</td>\n",
       "      <td>1.333022e-277</td>\n",
       "      <td>5.819420e-01</td>\n",
       "      <td>5.984156e-26</td>\n",
       "      <td>5.904061e-60</td>\n",
       "    </tr>\n",
       "    <tr>\n",
       "      <th>roadMarkings</th>\n",
       "      <td>0.000000e+00</td>\n",
       "      <td>0.000000e+00</td>\n",
       "      <td>0.000000e+00</td>\n",
       "      <td>0.000000e+00</td>\n",
       "      <td>0.000000e+00</td>\n",
       "      <td>1.754388e-94</td>\n",
       "      <td>0.000000e+00</td>\n",
       "      <td>1.403757e-59</td>\n",
       "      <td>0.000000e+00</td>\n",
       "      <td>0.000000e+00</td>\n",
       "      <td>...</td>\n",
       "      <td>2.814118e-40</td>\n",
       "      <td>3.329464e-23</td>\n",
       "      <td>3.794667e-53</td>\n",
       "      <td>7.118959e-03</td>\n",
       "      <td>3.558693e-08</td>\n",
       "      <td>2.421628e-27</td>\n",
       "      <td>7.719834e-129</td>\n",
       "      <td>9.245915e-01</td>\n",
       "      <td>7.023841e-20</td>\n",
       "      <td>0.000000e+00</td>\n",
       "    </tr>\n",
       "    <tr>\n",
       "      <th>roadSurface</th>\n",
       "      <td>3.068064e-92</td>\n",
       "      <td>0.000000e+00</td>\n",
       "      <td>2.056823e-130</td>\n",
       "      <td>7.789924e-311</td>\n",
       "      <td>7.769111e-05</td>\n",
       "      <td>3.937800e-06</td>\n",
       "      <td>0.000000e+00</td>\n",
       "      <td>3.861036e-65</td>\n",
       "      <td>0.000000e+00</td>\n",
       "      <td>0.000000e+00</td>\n",
       "      <td>...</td>\n",
       "      <td>4.193050e-08</td>\n",
       "      <td>7.735402e-11</td>\n",
       "      <td>5.627046e-79</td>\n",
       "      <td>3.535405e-08</td>\n",
       "      <td>2.016780e-50</td>\n",
       "      <td>9.283255e-21</td>\n",
       "      <td>1.614362e-05</td>\n",
       "      <td>5.153474e-02</td>\n",
       "      <td>2.739286e-16</td>\n",
       "      <td>3.960354e-37</td>\n",
       "    </tr>\n",
       "    <tr>\n",
       "      <th>roadWet</th>\n",
       "      <td>3.935545e-51</td>\n",
       "      <td>0.000000e+00</td>\n",
       "      <td>9.550689e-208</td>\n",
       "      <td>0.000000e+00</td>\n",
       "      <td>0.000000e+00</td>\n",
       "      <td>3.216668e-35</td>\n",
       "      <td>0.000000e+00</td>\n",
       "      <td>2.623938e-209</td>\n",
       "      <td>0.000000e+00</td>\n",
       "      <td>0.000000e+00</td>\n",
       "      <td>...</td>\n",
       "      <td>7.371485e-14</td>\n",
       "      <td>4.600941e-277</td>\n",
       "      <td>2.195814e-20</td>\n",
       "      <td>9.577715e-01</td>\n",
       "      <td>5.964980e-61</td>\n",
       "      <td>3.760848e-04</td>\n",
       "      <td>7.872464e-117</td>\n",
       "      <td>7.810936e-01</td>\n",
       "      <td>2.490785e-70</td>\n",
       "      <td>4.608494e-214</td>\n",
       "    </tr>\n",
       "    <tr>\n",
       "      <th>streetLight</th>\n",
       "      <td>0.000000e+00</td>\n",
       "      <td>0.000000e+00</td>\n",
       "      <td>0.000000e+00</td>\n",
       "      <td>0.000000e+00</td>\n",
       "      <td>0.000000e+00</td>\n",
       "      <td>5.386067e-176</td>\n",
       "      <td>0.000000e+00</td>\n",
       "      <td>0.000000e+00</td>\n",
       "      <td>0.000000e+00</td>\n",
       "      <td>0.000000e+00</td>\n",
       "      <td>...</td>\n",
       "      <td>1.034272e-98</td>\n",
       "      <td>9.871182e-258</td>\n",
       "      <td>3.908366e-29</td>\n",
       "      <td>2.716159e-18</td>\n",
       "      <td>0.000000e+00</td>\n",
       "      <td>0.000000e+00</td>\n",
       "      <td>0.000000e+00</td>\n",
       "      <td>8.552181e-01</td>\n",
       "      <td>0.000000e+00</td>\n",
       "      <td>1.863996e-263</td>\n",
       "    </tr>\n",
       "    <tr>\n",
       "      <th>tlaName</th>\n",
       "      <td>0.000000e+00</td>\n",
       "      <td>0.000000e+00</td>\n",
       "      <td>0.000000e+00</td>\n",
       "      <td>0.000000e+00</td>\n",
       "      <td>5.115174e-304</td>\n",
       "      <td>0.000000e+00</td>\n",
       "      <td>0.000000e+00</td>\n",
       "      <td>0.000000e+00</td>\n",
       "      <td>0.000000e+00</td>\n",
       "      <td>0.000000e+00</td>\n",
       "      <td>...</td>\n",
       "      <td>5.932688e-310</td>\n",
       "      <td>2.687835e-252</td>\n",
       "      <td>1.769545e-150</td>\n",
       "      <td>2.351206e-02</td>\n",
       "      <td>0.000000e+00</td>\n",
       "      <td>0.000000e+00</td>\n",
       "      <td>0.000000e+00</td>\n",
       "      <td>2.022228e-12</td>\n",
       "      <td>0.000000e+00</td>\n",
       "      <td>0.000000e+00</td>\n",
       "    </tr>\n",
       "    <tr>\n",
       "      <th>trafficControl</th>\n",
       "      <td>0.000000e+00</td>\n",
       "      <td>0.000000e+00</td>\n",
       "      <td>0.000000e+00</td>\n",
       "      <td>0.000000e+00</td>\n",
       "      <td>8.211099e-214</td>\n",
       "      <td>0.000000e+00</td>\n",
       "      <td>0.000000e+00</td>\n",
       "      <td>5.605708e-128</td>\n",
       "      <td>0.000000e+00</td>\n",
       "      <td>0.000000e+00</td>\n",
       "      <td>...</td>\n",
       "      <td>1.020770e-144</td>\n",
       "      <td>7.073157e-36</td>\n",
       "      <td>4.544116e-05</td>\n",
       "      <td>2.568072e-02</td>\n",
       "      <td>9.570167e-194</td>\n",
       "      <td>1.678450e-176</td>\n",
       "      <td>0.000000e+00</td>\n",
       "      <td>9.914965e-01</td>\n",
       "      <td>8.488493e-248</td>\n",
       "      <td>0.000000e+00</td>\n",
       "    </tr>\n",
       "    <tr>\n",
       "      <th>urban</th>\n",
       "      <td>0.000000e+00</td>\n",
       "      <td>0.000000e+00</td>\n",
       "      <td>0.000000e+00</td>\n",
       "      <td>0.000000e+00</td>\n",
       "      <td>1.435431e-167</td>\n",
       "      <td>0.000000e+00</td>\n",
       "      <td>0.000000e+00</td>\n",
       "      <td>2.962483e-250</td>\n",
       "      <td>0.000000e+00</td>\n",
       "      <td>0.000000e+00</td>\n",
       "      <td>...</td>\n",
       "      <td>0.000000e+00</td>\n",
       "      <td>3.166210e-164</td>\n",
       "      <td>1.187217e-85</td>\n",
       "      <td>2.017291e-04</td>\n",
       "      <td>1.239829e-133</td>\n",
       "      <td>0.000000e+00</td>\n",
       "      <td>0.000000e+00</td>\n",
       "      <td>5.645710e-01</td>\n",
       "      <td>4.640241e-93</td>\n",
       "      <td>0.000000e+00</td>\n",
       "    </tr>\n",
       "    <tr>\n",
       "      <th>weatherA</th>\n",
       "      <td>1.339481e-16</td>\n",
       "      <td>0.000000e+00</td>\n",
       "      <td>2.658475e-260</td>\n",
       "      <td>0.000000e+00</td>\n",
       "      <td>0.000000e+00</td>\n",
       "      <td>3.304681e-16</td>\n",
       "      <td>0.000000e+00</td>\n",
       "      <td>2.772865e-107</td>\n",
       "      <td>5.777869e-203</td>\n",
       "      <td>2.905231e-256</td>\n",
       "      <td>...</td>\n",
       "      <td>9.137343e-29</td>\n",
       "      <td>1.109669e-206</td>\n",
       "      <td>1.008195e-12</td>\n",
       "      <td>7.004606e-01</td>\n",
       "      <td>4.514463e-20</td>\n",
       "      <td>4.561450e-05</td>\n",
       "      <td>3.264507e-77</td>\n",
       "      <td>9.729634e-01</td>\n",
       "      <td>6.192008e-06</td>\n",
       "      <td>1.096581e-142</td>\n",
       "    </tr>\n",
       "    <tr>\n",
       "      <th>weatherB</th>\n",
       "      <td>1.133729e-39</td>\n",
       "      <td>0.000000e+00</td>\n",
       "      <td>6.087496e-46</td>\n",
       "      <td>0.000000e+00</td>\n",
       "      <td>2.168751e-304</td>\n",
       "      <td>6.041329e-22</td>\n",
       "      <td>0.000000e+00</td>\n",
       "      <td>6.809939e-113</td>\n",
       "      <td>0.000000e+00</td>\n",
       "      <td>0.000000e+00</td>\n",
       "      <td>...</td>\n",
       "      <td>3.814558e-01</td>\n",
       "      <td>4.383091e-23</td>\n",
       "      <td>4.895414e-01</td>\n",
       "      <td>5.695734e-01</td>\n",
       "      <td>9.380295e-23</td>\n",
       "      <td>2.789981e-03</td>\n",
       "      <td>1.714173e-09</td>\n",
       "      <td>9.612134e-01</td>\n",
       "      <td>4.338335e-39</td>\n",
       "      <td>7.599203e-25</td>\n",
       "    </tr>\n",
       "    <tr>\n",
       "      <th>numberOfLanes</th>\n",
       "      <td>4.791577e-96</td>\n",
       "      <td>0.000000e+00</td>\n",
       "      <td>0.000000e+00</td>\n",
       "      <td>0.000000e+00</td>\n",
       "      <td>6.307913e-129</td>\n",
       "      <td>4.347571e-279</td>\n",
       "      <td>0.000000e+00</td>\n",
       "      <td>4.039922e-83</td>\n",
       "      <td>0.000000e+00</td>\n",
       "      <td>0.000000e+00</td>\n",
       "      <td>...</td>\n",
       "      <td>1.758490e-04</td>\n",
       "      <td>2.386647e-07</td>\n",
       "      <td>2.305605e-36</td>\n",
       "      <td>7.895598e-02</td>\n",
       "      <td>1.398173e-26</td>\n",
       "      <td>5.554661e-198</td>\n",
       "      <td>8.398393e-227</td>\n",
       "      <td>9.947095e-01</td>\n",
       "      <td>3.703165e-13</td>\n",
       "      <td>2.900041e-41</td>\n",
       "    </tr>\n",
       "    <tr>\n",
       "      <th>speedLimit</th>\n",
       "      <td>0.000000e+00</td>\n",
       "      <td>0.000000e+00</td>\n",
       "      <td>0.000000e+00</td>\n",
       "      <td>0.000000e+00</td>\n",
       "      <td>9.374472e-201</td>\n",
       "      <td>0.000000e+00</td>\n",
       "      <td>0.000000e+00</td>\n",
       "      <td>6.973055e-271</td>\n",
       "      <td>0.000000e+00</td>\n",
       "      <td>0.000000e+00</td>\n",
       "      <td>...</td>\n",
       "      <td>0.000000e+00</td>\n",
       "      <td>4.021983e-144</td>\n",
       "      <td>7.805121e-98</td>\n",
       "      <td>3.881536e-02</td>\n",
       "      <td>9.082477e-178</td>\n",
       "      <td>0.000000e+00</td>\n",
       "      <td>0.000000e+00</td>\n",
       "      <td>2.638172e-01</td>\n",
       "      <td>1.406772e-104</td>\n",
       "      <td>0.000000e+00</td>\n",
       "    </tr>\n",
       "    <tr>\n",
       "      <th>animals</th>\n",
       "      <td>2.360337e-02</td>\n",
       "      <td>4.488772e-02</td>\n",
       "      <td>6.210533e-01</td>\n",
       "      <td>2.021363e-02</td>\n",
       "      <td>1.147367e-03</td>\n",
       "      <td>8.482794e-01</td>\n",
       "      <td>6.755909e-01</td>\n",
       "      <td>7.709031e-01</td>\n",
       "      <td>1.519492e-09</td>\n",
       "      <td>2.137855e-10</td>\n",
       "      <td>...</td>\n",
       "      <td>9.986339e-01</td>\n",
       "      <td>9.999997e-01</td>\n",
       "      <td>9.738505e-01</td>\n",
       "      <td>9.992221e-01</td>\n",
       "      <td>9.988439e-01</td>\n",
       "      <td>9.937755e-01</td>\n",
       "      <td>2.110410e-01</td>\n",
       "      <td>9.996888e-01</td>\n",
       "      <td>5.641460e-01</td>\n",
       "      <td>8.747459e-01</td>\n",
       "    </tr>\n",
       "    <tr>\n",
       "      <th>bridge</th>\n",
       "      <td>1.546950e-29</td>\n",
       "      <td>0.000000e+00</td>\n",
       "      <td>2.537897e-146</td>\n",
       "      <td>6.130868e-211</td>\n",
       "      <td>2.775568e-38</td>\n",
       "      <td>6.061774e-05</td>\n",
       "      <td>4.798583e-01</td>\n",
       "      <td>2.136766e-03</td>\n",
       "      <td>0.000000e+00</td>\n",
       "      <td>7.888597e-307</td>\n",
       "      <td>...</td>\n",
       "      <td>1.066240e-01</td>\n",
       "      <td>3.147627e-02</td>\n",
       "      <td>1.400732e-04</td>\n",
       "      <td>9.999413e-01</td>\n",
       "      <td>2.144405e-03</td>\n",
       "      <td>9.977652e-03</td>\n",
       "      <td>1.904253e-169</td>\n",
       "      <td>9.999647e-01</td>\n",
       "      <td>5.751728e-05</td>\n",
       "      <td>1.587939e-17</td>\n",
       "    </tr>\n",
       "    <tr>\n",
       "      <th>...</th>\n",
       "      <td>...</td>\n",
       "      <td>...</td>\n",
       "      <td>...</td>\n",
       "      <td>...</td>\n",
       "      <td>...</td>\n",
       "      <td>...</td>\n",
       "      <td>...</td>\n",
       "      <td>...</td>\n",
       "      <td>...</td>\n",
       "      <td>...</td>\n",
       "      <td>...</td>\n",
       "      <td>...</td>\n",
       "      <td>...</td>\n",
       "      <td>...</td>\n",
       "      <td>...</td>\n",
       "      <td>...</td>\n",
       "      <td>...</td>\n",
       "      <td>...</td>\n",
       "      <td>...</td>\n",
       "      <td>...</td>\n",
       "      <td>...</td>\n",
       "    </tr>\n",
       "    <tr>\n",
       "      <th>houseBuilding</th>\n",
       "      <td>8.090935e-155</td>\n",
       "      <td>5.333325e-111</td>\n",
       "      <td>9.182041e-06</td>\n",
       "      <td>2.519808e-183</td>\n",
       "      <td>8.494268e-243</td>\n",
       "      <td>3.050723e-03</td>\n",
       "      <td>5.376231e-01</td>\n",
       "      <td>1.183116e-04</td>\n",
       "      <td>4.050614e-06</td>\n",
       "      <td>1.548342e-03</td>\n",
       "      <td>...</td>\n",
       "      <td>8.167793e-05</td>\n",
       "      <td>2.272648e-19</td>\n",
       "      <td>2.610762e-10</td>\n",
       "      <td>4.889539e-01</td>\n",
       "      <td>8.714332e-13</td>\n",
       "      <td>8.088111e-02</td>\n",
       "      <td>3.075625e-12</td>\n",
       "      <td>9.867421e-01</td>\n",
       "      <td>2.669178e-19</td>\n",
       "      <td>1.162234e-11</td>\n",
       "    </tr>\n",
       "    <tr>\n",
       "      <th>kerb</th>\n",
       "      <td>1.694793e-143</td>\n",
       "      <td>1.094627e-97</td>\n",
       "      <td>3.360016e-04</td>\n",
       "      <td>2.158722e-171</td>\n",
       "      <td>0.000000e+00</td>\n",
       "      <td>4.415561e-01</td>\n",
       "      <td>6.318863e-10</td>\n",
       "      <td>6.150638e-05</td>\n",
       "      <td>3.972291e-10</td>\n",
       "      <td>1.474016e-08</td>\n",
       "      <td>...</td>\n",
       "      <td>6.885515e-01</td>\n",
       "      <td>8.463045e-01</td>\n",
       "      <td>9.494126e-01</td>\n",
       "      <td>9.273113e-01</td>\n",
       "      <td>7.915969e-36</td>\n",
       "      <td>2.374835e-06</td>\n",
       "      <td>2.571564e-55</td>\n",
       "      <td>9.978782e-01</td>\n",
       "      <td>1.213101e-71</td>\n",
       "      <td>6.619534e-19</td>\n",
       "    </tr>\n",
       "    <tr>\n",
       "      <th>objectThrownOrDropped</th>\n",
       "      <td>3.480381e-05</td>\n",
       "      <td>5.994728e-46</td>\n",
       "      <td>2.677868e-08</td>\n",
       "      <td>4.365671e-66</td>\n",
       "      <td>5.658111e-01</td>\n",
       "      <td>4.027116e-02</td>\n",
       "      <td>3.534018e-01</td>\n",
       "      <td>9.963465e-01</td>\n",
       "      <td>5.537166e-61</td>\n",
       "      <td>8.127892e-27</td>\n",
       "      <td>...</td>\n",
       "      <td>9.998785e-01</td>\n",
       "      <td>9.765707e-01</td>\n",
       "      <td>1.887758e-13</td>\n",
       "      <td>9.996314e-01</td>\n",
       "      <td>1.701669e-01</td>\n",
       "      <td>9.999936e-01</td>\n",
       "      <td>3.206400e-38</td>\n",
       "      <td>9.999744e-01</td>\n",
       "      <td>4.836048e-02</td>\n",
       "      <td>8.689049e-01</td>\n",
       "    </tr>\n",
       "    <tr>\n",
       "      <th>other</th>\n",
       "      <td>6.363035e-01</td>\n",
       "      <td>5.039270e-56</td>\n",
       "      <td>8.416467e-11</td>\n",
       "      <td>6.250660e-20</td>\n",
       "      <td>7.328928e-138</td>\n",
       "      <td>8.473470e-04</td>\n",
       "      <td>5.744060e-08</td>\n",
       "      <td>1.815801e-04</td>\n",
       "      <td>6.036113e-113</td>\n",
       "      <td>2.062139e-142</td>\n",
       "      <td>...</td>\n",
       "      <td>9.972590e-01</td>\n",
       "      <td>8.908367e-01</td>\n",
       "      <td>9.415509e-01</td>\n",
       "      <td>1.000000e+00</td>\n",
       "      <td>4.662449e-02</td>\n",
       "      <td>1.013970e-02</td>\n",
       "      <td>2.817657e-13</td>\n",
       "      <td>9.999935e-01</td>\n",
       "      <td>7.515122e-24</td>\n",
       "      <td>2.113841e-13</td>\n",
       "    </tr>\n",
       "    <tr>\n",
       "      <th>overBank</th>\n",
       "      <td>2.662979e-81</td>\n",
       "      <td>0.000000e+00</td>\n",
       "      <td>0.000000e+00</td>\n",
       "      <td>0.000000e+00</td>\n",
       "      <td>1.319289e-109</td>\n",
       "      <td>4.077779e-18</td>\n",
       "      <td>0.000000e+00</td>\n",
       "      <td>2.084202e-34</td>\n",
       "      <td>0.000000e+00</td>\n",
       "      <td>0.000000e+00</td>\n",
       "      <td>...</td>\n",
       "      <td>4.433633e-10</td>\n",
       "      <td>6.598716e-09</td>\n",
       "      <td>2.602055e-02</td>\n",
       "      <td>9.999496e-01</td>\n",
       "      <td>3.692273e-06</td>\n",
       "      <td>1.195087e-17</td>\n",
       "      <td>2.414438e-21</td>\n",
       "      <td>9.967103e-01</td>\n",
       "      <td>5.391294e-16</td>\n",
       "      <td>3.150192e-60</td>\n",
       "    </tr>\n",
       "    <tr>\n",
       "      <th>parkedVehicle</th>\n",
       "      <td>1.200750e-149</td>\n",
       "      <td>0.000000e+00</td>\n",
       "      <td>0.000000e+00</td>\n",
       "      <td>0.000000e+00</td>\n",
       "      <td>0.000000e+00</td>\n",
       "      <td>1.512899e-50</td>\n",
       "      <td>1.213655e-06</td>\n",
       "      <td>1.779022e-02</td>\n",
       "      <td>0.000000e+00</td>\n",
       "      <td>0.000000e+00</td>\n",
       "      <td>...</td>\n",
       "      <td>0.000000e+00</td>\n",
       "      <td>3.914870e-273</td>\n",
       "      <td>1.634408e-67</td>\n",
       "      <td>5.906604e-01</td>\n",
       "      <td>9.983755e-74</td>\n",
       "      <td>0.000000e+00</td>\n",
       "      <td>0.000000e+00</td>\n",
       "      <td>2.770103e-02</td>\n",
       "      <td>4.676276e-109</td>\n",
       "      <td>3.205211e-258</td>\n",
       "    </tr>\n",
       "    <tr>\n",
       "      <th>phoneBoxEtc</th>\n",
       "      <td>3.509520e-29</td>\n",
       "      <td>4.140783e-23</td>\n",
       "      <td>2.905975e-05</td>\n",
       "      <td>1.035469e-77</td>\n",
       "      <td>1.083956e-168</td>\n",
       "      <td>4.072506e-01</td>\n",
       "      <td>2.552259e-01</td>\n",
       "      <td>1.335080e-01</td>\n",
       "      <td>3.881121e-01</td>\n",
       "      <td>2.534063e-01</td>\n",
       "      <td>...</td>\n",
       "      <td>2.088949e-02</td>\n",
       "      <td>4.843918e-07</td>\n",
       "      <td>6.056352e-01</td>\n",
       "      <td>7.586116e-01</td>\n",
       "      <td>7.843773e-10</td>\n",
       "      <td>1.150508e-01</td>\n",
       "      <td>1.729177e-30</td>\n",
       "      <td>9.927232e-01</td>\n",
       "      <td>3.605952e-19</td>\n",
       "      <td>1.385165e-05</td>\n",
       "    </tr>\n",
       "    <tr>\n",
       "      <th>postOrPole</th>\n",
       "      <td>8.202438e-38</td>\n",
       "      <td>6.059443e-154</td>\n",
       "      <td>7.253386e-169</td>\n",
       "      <td>1.423590e-148</td>\n",
       "      <td>0.000000e+00</td>\n",
       "      <td>3.207348e-01</td>\n",
       "      <td>9.168716e-04</td>\n",
       "      <td>3.725637e-28</td>\n",
       "      <td>2.111444e-147</td>\n",
       "      <td>4.319602e-168</td>\n",
       "      <td>...</td>\n",
       "      <td>5.578045e-29</td>\n",
       "      <td>1.168520e-122</td>\n",
       "      <td>2.074850e-01</td>\n",
       "      <td>5.823776e-01</td>\n",
       "      <td>5.093349e-98</td>\n",
       "      <td>5.037337e-29</td>\n",
       "      <td>5.431834e-64</td>\n",
       "      <td>9.971732e-01</td>\n",
       "      <td>5.229234e-190</td>\n",
       "      <td>1.114959e-171</td>\n",
       "    </tr>\n",
       "    <tr>\n",
       "      <th>roadworks</th>\n",
       "      <td>4.280713e-02</td>\n",
       "      <td>5.651908e-02</td>\n",
       "      <td>1.762758e-01</td>\n",
       "      <td>1.348517e-13</td>\n",
       "      <td>9.825982e-27</td>\n",
       "      <td>8.076753e-01</td>\n",
       "      <td>7.260654e-01</td>\n",
       "      <td>5.265924e-02</td>\n",
       "      <td>1.710397e-10</td>\n",
       "      <td>8.355227e-14</td>\n",
       "      <td>...</td>\n",
       "      <td>9.996037e-01</td>\n",
       "      <td>9.701343e-01</td>\n",
       "      <td>8.390415e-06</td>\n",
       "      <td>9.897572e-01</td>\n",
       "      <td>2.172045e-01</td>\n",
       "      <td>9.998811e-01</td>\n",
       "      <td>9.996485e-01</td>\n",
       "      <td>9.988291e-01</td>\n",
       "      <td>2.217503e-02</td>\n",
       "      <td>7.871040e-01</td>\n",
       "    </tr>\n",
       "    <tr>\n",
       "      <th>slipFlood</th>\n",
       "      <td>4.700703e-07</td>\n",
       "      <td>2.378409e-102</td>\n",
       "      <td>8.742355e-01</td>\n",
       "      <td>6.966726e-93</td>\n",
       "      <td>3.758522e-26</td>\n",
       "      <td>2.890896e-01</td>\n",
       "      <td>1.486754e-09</td>\n",
       "      <td>1.201723e-01</td>\n",
       "      <td>5.467392e-46</td>\n",
       "      <td>1.303566e-55</td>\n",
       "      <td>...</td>\n",
       "      <td>9.806382e-01</td>\n",
       "      <td>1.067005e-57</td>\n",
       "      <td>8.999300e-01</td>\n",
       "      <td>9.991831e-01</td>\n",
       "      <td>8.913849e-05</td>\n",
       "      <td>9.725038e-01</td>\n",
       "      <td>9.995574e-01</td>\n",
       "      <td>9.999614e-01</td>\n",
       "      <td>9.982218e-01</td>\n",
       "      <td>6.374854e-03</td>\n",
       "    </tr>\n",
       "    <tr>\n",
       "      <th>strayAnimal</th>\n",
       "      <td>8.526479e-92</td>\n",
       "      <td>0.000000e+00</td>\n",
       "      <td>9.491474e-75</td>\n",
       "      <td>0.000000e+00</td>\n",
       "      <td>0.000000e+00</td>\n",
       "      <td>2.173991e-12</td>\n",
       "      <td>1.587574e-08</td>\n",
       "      <td>2.010693e-09</td>\n",
       "      <td>0.000000e+00</td>\n",
       "      <td>0.000000e+00</td>\n",
       "      <td>...</td>\n",
       "      <td>2.144721e-01</td>\n",
       "      <td>9.998704e-01</td>\n",
       "      <td>3.567042e-02</td>\n",
       "      <td>9.999962e-01</td>\n",
       "      <td>3.740742e-05</td>\n",
       "      <td>1.080484e-04</td>\n",
       "      <td>3.626470e-63</td>\n",
       "      <td>9.998940e-01</td>\n",
       "      <td>2.952646e-09</td>\n",
       "      <td>2.290516e-33</td>\n",
       "    </tr>\n",
       "    <tr>\n",
       "      <th>trafficIsland</th>\n",
       "      <td>2.374100e-116</td>\n",
       "      <td>1.906011e-16</td>\n",
       "      <td>2.475637e-07</td>\n",
       "      <td>5.204199e-02</td>\n",
       "      <td>0.000000e+00</td>\n",
       "      <td>4.228862e-01</td>\n",
       "      <td>1.661765e-49</td>\n",
       "      <td>2.355648e-04</td>\n",
       "      <td>0.000000e+00</td>\n",
       "      <td>0.000000e+00</td>\n",
       "      <td>...</td>\n",
       "      <td>9.964904e-01</td>\n",
       "      <td>9.999853e-01</td>\n",
       "      <td>2.374744e-01</td>\n",
       "      <td>8.659181e-01</td>\n",
       "      <td>2.627107e-30</td>\n",
       "      <td>9.961665e-01</td>\n",
       "      <td>7.385582e-21</td>\n",
       "      <td>9.983833e-01</td>\n",
       "      <td>3.243096e-61</td>\n",
       "      <td>2.280581e-30</td>\n",
       "    </tr>\n",
       "    <tr>\n",
       "      <th>trafficSign</th>\n",
       "      <td>1.255637e-52</td>\n",
       "      <td>4.151235e-124</td>\n",
       "      <td>4.249954e-08</td>\n",
       "      <td>2.279338e-90</td>\n",
       "      <td>0.000000e+00</td>\n",
       "      <td>7.833940e-01</td>\n",
       "      <td>1.422144e-02</td>\n",
       "      <td>1.010805e-18</td>\n",
       "      <td>2.404606e-139</td>\n",
       "      <td>2.046075e-98</td>\n",
       "      <td>...</td>\n",
       "      <td>3.975863e-10</td>\n",
       "      <td>6.702105e-14</td>\n",
       "      <td>2.011936e-03</td>\n",
       "      <td>4.582600e-01</td>\n",
       "      <td>9.580301e-27</td>\n",
       "      <td>3.420510e-12</td>\n",
       "      <td>2.434052e-12</td>\n",
       "      <td>9.726635e-01</td>\n",
       "      <td>5.117036e-49</td>\n",
       "      <td>1.622474e-59</td>\n",
       "    </tr>\n",
       "    <tr>\n",
       "      <th>train</th>\n",
       "      <td>3.874291e-06</td>\n",
       "      <td>9.843832e-09</td>\n",
       "      <td>2.337342e-144</td>\n",
       "      <td>4.010521e-11</td>\n",
       "      <td>4.816745e-04</td>\n",
       "      <td>6.652620e-07</td>\n",
       "      <td>2.740033e-09</td>\n",
       "      <td>3.441379e-01</td>\n",
       "      <td>0.000000e+00</td>\n",
       "      <td>9.453164e-26</td>\n",
       "      <td>...</td>\n",
       "      <td>8.892206e-01</td>\n",
       "      <td>3.766950e-01</td>\n",
       "      <td>3.949770e-114</td>\n",
       "      <td>8.877715e-01</td>\n",
       "      <td>7.141325e-01</td>\n",
       "      <td>6.466030e-01</td>\n",
       "      <td>1.375547e-03</td>\n",
       "      <td>5.438741e-31</td>\n",
       "      <td>4.453990e-01</td>\n",
       "      <td>1.609487e-02</td>\n",
       "    </tr>\n",
       "    <tr>\n",
       "      <th>tree</th>\n",
       "      <td>6.341730e-01</td>\n",
       "      <td>1.471506e-212</td>\n",
       "      <td>0.000000e+00</td>\n",
       "      <td>1.917428e-01</td>\n",
       "      <td>0.000000e+00</td>\n",
       "      <td>6.373215e-04</td>\n",
       "      <td>0.000000e+00</td>\n",
       "      <td>3.213492e-37</td>\n",
       "      <td>0.000000e+00</td>\n",
       "      <td>0.000000e+00</td>\n",
       "      <td>...</td>\n",
       "      <td>1.191244e-23</td>\n",
       "      <td>2.621114e-76</td>\n",
       "      <td>4.398568e-07</td>\n",
       "      <td>6.201175e-01</td>\n",
       "      <td>4.032547e-56</td>\n",
       "      <td>7.202989e-33</td>\n",
       "      <td>1.034768e-125</td>\n",
       "      <td>9.891840e-01</td>\n",
       "      <td>0.000000e+00</td>\n",
       "      <td>1.257011e-136</td>\n",
       "    </tr>\n",
       "    <tr>\n",
       "      <th>vehicle</th>\n",
       "      <td>1.090878e-02</td>\n",
       "      <td>6.942691e-25</td>\n",
       "      <td>3.292618e-10</td>\n",
       "      <td>3.172104e-107</td>\n",
       "      <td>6.543413e-13</td>\n",
       "      <td>3.181124e-09</td>\n",
       "      <td>5.612238e-05</td>\n",
       "      <td>1.422266e-04</td>\n",
       "      <td>1.633920e-97</td>\n",
       "      <td>4.297780e-35</td>\n",
       "      <td>...</td>\n",
       "      <td>4.985155e-01</td>\n",
       "      <td>7.531512e-04</td>\n",
       "      <td>2.406804e-16</td>\n",
       "      <td>6.320565e-12</td>\n",
       "      <td>9.990190e-01</td>\n",
       "      <td>4.662918e-275</td>\n",
       "      <td>1.004638e-122</td>\n",
       "      <td>9.998627e-01</td>\n",
       "      <td>2.539313e-04</td>\n",
       "      <td>9.745327e-07</td>\n",
       "    </tr>\n",
       "    <tr>\n",
       "      <th>waterRiver</th>\n",
       "      <td>7.040985e-10</td>\n",
       "      <td>8.448550e-240</td>\n",
       "      <td>0.000000e+00</td>\n",
       "      <td>1.684301e-41</td>\n",
       "      <td>2.809319e-45</td>\n",
       "      <td>2.613910e-01</td>\n",
       "      <td>3.641313e-02</td>\n",
       "      <td>8.560937e-03</td>\n",
       "      <td>8.974615e-190</td>\n",
       "      <td>5.125285e-205</td>\n",
       "      <td>...</td>\n",
       "      <td>3.605586e-02</td>\n",
       "      <td>3.866481e-03</td>\n",
       "      <td>8.295437e-01</td>\n",
       "      <td>8.125341e-01</td>\n",
       "      <td>4.924887e-01</td>\n",
       "      <td>7.776088e-03</td>\n",
       "      <td>1.698048e-12</td>\n",
       "      <td>9.938701e-01</td>\n",
       "      <td>2.435919e-08</td>\n",
       "      <td>9.765842e-15</td>\n",
       "    </tr>\n",
       "    <tr>\n",
       "      <th>bicycle</th>\n",
       "      <td>1.521609e-31</td>\n",
       "      <td>0.000000e+00</td>\n",
       "      <td>0.000000e+00</td>\n",
       "      <td>0.000000e+00</td>\n",
       "      <td>0.000000e+00</td>\n",
       "      <td>6.867779e-18</td>\n",
       "      <td>2.538755e-43</td>\n",
       "      <td>2.392630e-38</td>\n",
       "      <td>0.000000e+00</td>\n",
       "      <td>0.000000e+00</td>\n",
       "      <td>...</td>\n",
       "      <td>1.829895e-07</td>\n",
       "      <td>1.441580e-79</td>\n",
       "      <td>1.174173e-04</td>\n",
       "      <td>9.977676e-01</td>\n",
       "      <td>4.520306e-43</td>\n",
       "      <td>9.958570e-01</td>\n",
       "      <td>3.518347e-82</td>\n",
       "      <td>9.998770e-01</td>\n",
       "      <td>5.315951e-94</td>\n",
       "      <td>6.475334e-54</td>\n",
       "    </tr>\n",
       "    <tr>\n",
       "      <th>bus</th>\n",
       "      <td>3.934235e-03</td>\n",
       "      <td>7.430789e-123</td>\n",
       "      <td>2.981337e-10</td>\n",
       "      <td>4.733260e-141</td>\n",
       "      <td>1.613810e-185</td>\n",
       "      <td>1.419192e-03</td>\n",
       "      <td>1.179344e-04</td>\n",
       "      <td>7.455906e-12</td>\n",
       "      <td>4.604283e-56</td>\n",
       "      <td>1.067959e-88</td>\n",
       "      <td>...</td>\n",
       "      <td>1.805821e-02</td>\n",
       "      <td>5.094253e-22</td>\n",
       "      <td>2.172065e-01</td>\n",
       "      <td>6.716165e-01</td>\n",
       "      <td>1.146727e-27</td>\n",
       "      <td>4.250143e-07</td>\n",
       "      <td>7.945575e-27</td>\n",
       "      <td>9.974221e-01</td>\n",
       "      <td>1.525747e-48</td>\n",
       "      <td>7.108328e-60</td>\n",
       "    </tr>\n",
       "    <tr>\n",
       "      <th>carStationWagon</th>\n",
       "      <td>6.409749e-266</td>\n",
       "      <td>0.000000e+00</td>\n",
       "      <td>0.000000e+00</td>\n",
       "      <td>0.000000e+00</td>\n",
       "      <td>0.000000e+00</td>\n",
       "      <td>6.802404e-101</td>\n",
       "      <td>0.000000e+00</td>\n",
       "      <td>4.296658e-23</td>\n",
       "      <td>0.000000e+00</td>\n",
       "      <td>0.000000e+00</td>\n",
       "      <td>...</td>\n",
       "      <td>0.000000e+00</td>\n",
       "      <td>0.000000e+00</td>\n",
       "      <td>0.000000e+00</td>\n",
       "      <td>6.596948e-84</td>\n",
       "      <td>0.000000e+00</td>\n",
       "      <td>0.000000e+00</td>\n",
       "      <td>0.000000e+00</td>\n",
       "      <td>9.999868e-01</td>\n",
       "      <td>0.000000e+00</td>\n",
       "      <td>0.000000e+00</td>\n",
       "    </tr>\n",
       "    <tr>\n",
       "      <th>moped</th>\n",
       "      <td>2.336930e-01</td>\n",
       "      <td>1.070070e-49</td>\n",
       "      <td>0.000000e+00</td>\n",
       "      <td>2.768988e-146</td>\n",
       "      <td>1.764000e-11</td>\n",
       "      <td>2.043286e-03</td>\n",
       "      <td>9.699334e-14</td>\n",
       "      <td>3.392887e-04</td>\n",
       "      <td>5.553742e-109</td>\n",
       "      <td>8.462826e-110</td>\n",
       "      <td>...</td>\n",
       "      <td>0.000000e+00</td>\n",
       "      <td>5.361339e-39</td>\n",
       "      <td>9.964430e-02</td>\n",
       "      <td>9.481670e-01</td>\n",
       "      <td>1.832839e-07</td>\n",
       "      <td>9.999270e-01</td>\n",
       "      <td>1.822616e-32</td>\n",
       "      <td>9.999424e-01</td>\n",
       "      <td>1.420379e-43</td>\n",
       "      <td>7.427490e-02</td>\n",
       "    </tr>\n",
       "    <tr>\n",
       "      <th>motorCycle</th>\n",
       "      <td>1.131607e-23</td>\n",
       "      <td>4.223572e-284</td>\n",
       "      <td>0.000000e+00</td>\n",
       "      <td>3.341325e-22</td>\n",
       "      <td>9.071598e-218</td>\n",
       "      <td>2.832754e-02</td>\n",
       "      <td>1.442181e-67</td>\n",
       "      <td>1.247402e-13</td>\n",
       "      <td>3.918489e-15</td>\n",
       "      <td>9.334115e-12</td>\n",
       "      <td>...</td>\n",
       "      <td>5.361339e-39</td>\n",
       "      <td>0.000000e+00</td>\n",
       "      <td>4.650423e-01</td>\n",
       "      <td>8.960029e-01</td>\n",
       "      <td>3.714012e-79</td>\n",
       "      <td>8.840235e-05</td>\n",
       "      <td>5.610672e-147</td>\n",
       "      <td>9.999775e-01</td>\n",
       "      <td>5.174406e-197</td>\n",
       "      <td>2.261667e-51</td>\n",
       "    </tr>\n",
       "    <tr>\n",
       "      <th>otherVehicleType</th>\n",
       "      <td>8.536614e-08</td>\n",
       "      <td>2.942202e-175</td>\n",
       "      <td>1.023684e-31</td>\n",
       "      <td>3.475834e-02</td>\n",
       "      <td>6.684470e-15</td>\n",
       "      <td>7.890454e-01</td>\n",
       "      <td>3.960461e-01</td>\n",
       "      <td>5.688084e-02</td>\n",
       "      <td>4.537207e-29</td>\n",
       "      <td>8.119074e-32</td>\n",
       "      <td>...</td>\n",
       "      <td>9.964430e-02</td>\n",
       "      <td>4.650423e-01</td>\n",
       "      <td>0.000000e+00</td>\n",
       "      <td>6.580535e-02</td>\n",
       "      <td>6.060003e-07</td>\n",
       "      <td>1.818018e-01</td>\n",
       "      <td>7.389958e-01</td>\n",
       "      <td>9.942898e-01</td>\n",
       "      <td>2.045720e-07</td>\n",
       "      <td>1.445813e-03</td>\n",
       "    </tr>\n",
       "    <tr>\n",
       "      <th>schoolBus</th>\n",
       "      <td>5.419807e-01</td>\n",
       "      <td>9.943916e-01</td>\n",
       "      <td>3.457405e-10</td>\n",
       "      <td>2.355626e-01</td>\n",
       "      <td>5.540209e-28</td>\n",
       "      <td>3.612102e-01</td>\n",
       "      <td>1.999817e-01</td>\n",
       "      <td>1.395679e-02</td>\n",
       "      <td>9.824049e-01</td>\n",
       "      <td>8.308599e-01</td>\n",
       "      <td>...</td>\n",
       "      <td>9.481670e-01</td>\n",
       "      <td>8.960029e-01</td>\n",
       "      <td>6.580535e-02</td>\n",
       "      <td>0.000000e+00</td>\n",
       "      <td>8.570982e-01</td>\n",
       "      <td>9.999335e-01</td>\n",
       "      <td>9.949038e-01</td>\n",
       "      <td>9.990782e-01</td>\n",
       "      <td>7.017142e-01</td>\n",
       "      <td>6.906487e-05</td>\n",
       "    </tr>\n",
       "    <tr>\n",
       "      <th>suv</th>\n",
       "      <td>5.152767e-13</td>\n",
       "      <td>3.841805e-130</td>\n",
       "      <td>3.822733e-27</td>\n",
       "      <td>1.220247e-135</td>\n",
       "      <td>8.338774e-138</td>\n",
       "      <td>2.718363e-05</td>\n",
       "      <td>2.300898e-01</td>\n",
       "      <td>5.051190e-01</td>\n",
       "      <td>2.780566e-13</td>\n",
       "      <td>1.815835e-23</td>\n",
       "      <td>...</td>\n",
       "      <td>1.832839e-07</td>\n",
       "      <td>3.714012e-79</td>\n",
       "      <td>6.060003e-07</td>\n",
       "      <td>8.570982e-01</td>\n",
       "      <td>0.000000e+00</td>\n",
       "      <td>1.166175e-36</td>\n",
       "      <td>5.893201e-211</td>\n",
       "      <td>9.976311e-01</td>\n",
       "      <td>0.000000e+00</td>\n",
       "      <td>9.951893e-62</td>\n",
       "    </tr>\n",
       "    <tr>\n",
       "      <th>taxi</th>\n",
       "      <td>5.835624e-04</td>\n",
       "      <td>4.487386e-75</td>\n",
       "      <td>1.167200e-25</td>\n",
       "      <td>4.870168e-173</td>\n",
       "      <td>1.411440e-79</td>\n",
       "      <td>4.442752e-04</td>\n",
       "      <td>1.221065e-06</td>\n",
       "      <td>1.896357e-03</td>\n",
       "      <td>3.488656e-54</td>\n",
       "      <td>6.052290e-94</td>\n",
       "      <td>...</td>\n",
       "      <td>9.999270e-01</td>\n",
       "      <td>8.840235e-05</td>\n",
       "      <td>1.818018e-01</td>\n",
       "      <td>9.999335e-01</td>\n",
       "      <td>1.166175e-36</td>\n",
       "      <td>0.000000e+00</td>\n",
       "      <td>4.814487e-22</td>\n",
       "      <td>9.998650e-01</td>\n",
       "      <td>2.527103e-51</td>\n",
       "      <td>1.320727e-30</td>\n",
       "    </tr>\n",
       "    <tr>\n",
       "      <th>truck</th>\n",
       "      <td>1.792213e-67</td>\n",
       "      <td>0.000000e+00</td>\n",
       "      <td>4.878985e-273</td>\n",
       "      <td>0.000000e+00</td>\n",
       "      <td>0.000000e+00</td>\n",
       "      <td>1.579516e-47</td>\n",
       "      <td>1.101570e-09</td>\n",
       "      <td>1.144786e-192</td>\n",
       "      <td>5.723058e-250</td>\n",
       "      <td>9.709531e-174</td>\n",
       "      <td>...</td>\n",
       "      <td>1.822616e-32</td>\n",
       "      <td>5.610672e-147</td>\n",
       "      <td>7.389958e-01</td>\n",
       "      <td>9.949038e-01</td>\n",
       "      <td>5.893201e-211</td>\n",
       "      <td>4.814487e-22</td>\n",
       "      <td>0.000000e+00</td>\n",
       "      <td>9.983705e-01</td>\n",
       "      <td>1.658897e-271</td>\n",
       "      <td>6.055845e-101</td>\n",
       "    </tr>\n",
       "    <tr>\n",
       "      <th>unknownVehicleType</th>\n",
       "      <td>4.987269e-01</td>\n",
       "      <td>1.000000e+00</td>\n",
       "      <td>7.471039e-01</td>\n",
       "      <td>6.585585e-01</td>\n",
       "      <td>9.958547e-01</td>\n",
       "      <td>3.555504e-01</td>\n",
       "      <td>1.852518e-01</td>\n",
       "      <td>2.092922e-02</td>\n",
       "      <td>4.042636e-01</td>\n",
       "      <td>7.458134e-01</td>\n",
       "      <td>...</td>\n",
       "      <td>9.999424e-01</td>\n",
       "      <td>9.999775e-01</td>\n",
       "      <td>9.942898e-01</td>\n",
       "      <td>9.990782e-01</td>\n",
       "      <td>9.976311e-01</td>\n",
       "      <td>9.998650e-01</td>\n",
       "      <td>9.983705e-01</td>\n",
       "      <td>0.000000e+00</td>\n",
       "      <td>9.900738e-01</td>\n",
       "      <td>9.544651e-01</td>\n",
       "    </tr>\n",
       "    <tr>\n",
       "      <th>vanOrUtility</th>\n",
       "      <td>1.613292e-46</td>\n",
       "      <td>3.438629e-189</td>\n",
       "      <td>1.118210e-10</td>\n",
       "      <td>9.970478e-254</td>\n",
       "      <td>0.000000e+00</td>\n",
       "      <td>1.500661e-02</td>\n",
       "      <td>1.215570e-09</td>\n",
       "      <td>3.782953e-18</td>\n",
       "      <td>2.840668e-34</td>\n",
       "      <td>7.078494e-42</td>\n",
       "      <td>...</td>\n",
       "      <td>1.420379e-43</td>\n",
       "      <td>5.174406e-197</td>\n",
       "      <td>2.045720e-07</td>\n",
       "      <td>7.017142e-01</td>\n",
       "      <td>0.000000e+00</td>\n",
       "      <td>2.527103e-51</td>\n",
       "      <td>1.658897e-271</td>\n",
       "      <td>9.900738e-01</td>\n",
       "      <td>0.000000e+00</td>\n",
       "      <td>7.620142e-84</td>\n",
       "    </tr>\n",
       "    <tr>\n",
       "      <th>pedestrian</th>\n",
       "      <td>4.240924e-03</td>\n",
       "      <td>0.000000e+00</td>\n",
       "      <td>0.000000e+00</td>\n",
       "      <td>0.000000e+00</td>\n",
       "      <td>2.910203e-56</td>\n",
       "      <td>7.798183e-17</td>\n",
       "      <td>2.135499e-104</td>\n",
       "      <td>7.255404e-15</td>\n",
       "      <td>1.241579e-155</td>\n",
       "      <td>1.436592e-15</td>\n",
       "      <td>...</td>\n",
       "      <td>7.427490e-02</td>\n",
       "      <td>2.261667e-51</td>\n",
       "      <td>1.445813e-03</td>\n",
       "      <td>6.906487e-05</td>\n",
       "      <td>9.951893e-62</td>\n",
       "      <td>1.320727e-30</td>\n",
       "      <td>6.055845e-101</td>\n",
       "      <td>9.544651e-01</td>\n",
       "      <td>7.620142e-84</td>\n",
       "      <td>0.000000e+00</td>\n",
       "    </tr>\n",
       "  </tbody>\n",
       "</table>\n",
       "<p>65 rows × 65 columns</p>\n",
       "</div>"
      ],
      "text/plain": [
       "                          cornerRoadSideRoad      crashRPSH  crashSeverity  \\\n",
       "cornerRoadSideRoad              0.000000e+00   0.000000e+00   1.269356e-64   \n",
       "crashRPSH                       0.000000e+00   0.000000e+00   0.000000e+00   \n",
       "crashSeverity                   1.269356e-64   0.000000e+00   0.000000e+00   \n",
       "crashSHDescription              0.000000e+00   0.000000e+00   0.000000e+00   \n",
       "darkLight                       2.132818e-74   1.199965e-91  1.263091e-175   \n",
       "directionRoleDescription        0.000000e+00   0.000000e+00   6.312706e-08   \n",
       "flatHill                        0.000000e+00   0.000000e+00  9.175632e-266   \n",
       "holiday                         9.809611e-02  3.501380e-246   2.605378e-24   \n",
       "intersection                    0.000000e+00   0.000000e+00   0.000000e+00   \n",
       "intersectionMidblock            0.000000e+00   0.000000e+00   0.000000e+00   \n",
       "junctionType                    0.000000e+00   0.000000e+00   0.000000e+00   \n",
       "light                           3.975686e-81  1.482057e-303  1.291457e-239   \n",
       "multiVehicle                    1.494880e-77   0.000000e+00   0.000000e+00   \n",
       "regionDesc                      0.000000e+00   0.000000e+00   0.000000e+00   \n",
       "roadCharacter                  4.767179e-107   0.000000e+00   1.772201e-92   \n",
       "roadCurvature                  6.240485e-125   0.000000e+00   0.000000e+00   \n",
       "roadLane                       5.351640e-133   0.000000e+00   0.000000e+00   \n",
       "roadMarkings                    0.000000e+00   0.000000e+00   0.000000e+00   \n",
       "roadSurface                     3.068064e-92   0.000000e+00  2.056823e-130   \n",
       "roadWet                         3.935545e-51   0.000000e+00  9.550689e-208   \n",
       "streetLight                     0.000000e+00   0.000000e+00   0.000000e+00   \n",
       "tlaName                         0.000000e+00   0.000000e+00   0.000000e+00   \n",
       "trafficControl                  0.000000e+00   0.000000e+00   0.000000e+00   \n",
       "urban                           0.000000e+00   0.000000e+00   0.000000e+00   \n",
       "weatherA                        1.339481e-16   0.000000e+00  2.658475e-260   \n",
       "weatherB                        1.133729e-39   0.000000e+00   6.087496e-46   \n",
       "numberOfLanes                   4.791577e-96   0.000000e+00   0.000000e+00   \n",
       "speedLimit                      0.000000e+00   0.000000e+00   0.000000e+00   \n",
       "animals                         2.360337e-02   4.488772e-02   6.210533e-01   \n",
       "bridge                          1.546950e-29   0.000000e+00  2.537897e-146   \n",
       "...                                      ...            ...            ...   \n",
       "houseBuilding                  8.090935e-155  5.333325e-111   9.182041e-06   \n",
       "kerb                           1.694793e-143   1.094627e-97   3.360016e-04   \n",
       "objectThrownOrDropped           3.480381e-05   5.994728e-46   2.677868e-08   \n",
       "other                           6.363035e-01   5.039270e-56   8.416467e-11   \n",
       "overBank                        2.662979e-81   0.000000e+00   0.000000e+00   \n",
       "parkedVehicle                  1.200750e-149   0.000000e+00   0.000000e+00   \n",
       "phoneBoxEtc                     3.509520e-29   4.140783e-23   2.905975e-05   \n",
       "postOrPole                      8.202438e-38  6.059443e-154  7.253386e-169   \n",
       "roadworks                       4.280713e-02   5.651908e-02   1.762758e-01   \n",
       "slipFlood                       4.700703e-07  2.378409e-102   8.742355e-01   \n",
       "strayAnimal                     8.526479e-92   0.000000e+00   9.491474e-75   \n",
       "trafficIsland                  2.374100e-116   1.906011e-16   2.475637e-07   \n",
       "trafficSign                     1.255637e-52  4.151235e-124   4.249954e-08   \n",
       "train                           3.874291e-06   9.843832e-09  2.337342e-144   \n",
       "tree                            6.341730e-01  1.471506e-212   0.000000e+00   \n",
       "vehicle                         1.090878e-02   6.942691e-25   3.292618e-10   \n",
       "waterRiver                      7.040985e-10  8.448550e-240   0.000000e+00   \n",
       "bicycle                         1.521609e-31   0.000000e+00   0.000000e+00   \n",
       "bus                             3.934235e-03  7.430789e-123   2.981337e-10   \n",
       "carStationWagon                6.409749e-266   0.000000e+00   0.000000e+00   \n",
       "moped                           2.336930e-01   1.070070e-49   0.000000e+00   \n",
       "motorCycle                      1.131607e-23  4.223572e-284   0.000000e+00   \n",
       "otherVehicleType                8.536614e-08  2.942202e-175   1.023684e-31   \n",
       "schoolBus                       5.419807e-01   9.943916e-01   3.457405e-10   \n",
       "suv                             5.152767e-13  3.841805e-130   3.822733e-27   \n",
       "taxi                            5.835624e-04   4.487386e-75   1.167200e-25   \n",
       "truck                           1.792213e-67   0.000000e+00  4.878985e-273   \n",
       "unknownVehicleType              4.987269e-01   1.000000e+00   7.471039e-01   \n",
       "vanOrUtility                    1.613292e-46  3.438629e-189   1.118210e-10   \n",
       "pedestrian                      4.240924e-03   0.000000e+00   0.000000e+00   \n",
       "\n",
       "                          crashSHDescription      darkLight  \\\n",
       "cornerRoadSideRoad              0.000000e+00   2.132818e-74   \n",
       "crashRPSH                       0.000000e+00   1.199965e-91   \n",
       "crashSeverity                   0.000000e+00  1.263091e-175   \n",
       "crashSHDescription              0.000000e+00   9.442837e-51   \n",
       "darkLight                       9.442837e-51   0.000000e+00   \n",
       "directionRoleDescription        0.000000e+00   1.353868e-08   \n",
       "flatHill                        5.419877e-96   2.763078e-54   \n",
       "holiday                        3.803621e-127   0.000000e+00   \n",
       "intersection                    0.000000e+00  1.056962e-126   \n",
       "intersectionMidblock            0.000000e+00  6.254560e-206   \n",
       "junctionType                    0.000000e+00   0.000000e+00   \n",
       "light                          1.141884e-195   0.000000e+00   \n",
       "multiVehicle                    0.000000e+00   0.000000e+00   \n",
       "regionDesc                      0.000000e+00  8.332726e-182   \n",
       "roadCharacter                   0.000000e+00   1.263939e-01   \n",
       "roadCurvature                   0.000000e+00   0.000000e+00   \n",
       "roadLane                        0.000000e+00   7.957630e-18   \n",
       "roadMarkings                    0.000000e+00   0.000000e+00   \n",
       "roadSurface                    7.789924e-311   7.769111e-05   \n",
       "roadWet                         0.000000e+00   0.000000e+00   \n",
       "streetLight                     0.000000e+00   0.000000e+00   \n",
       "tlaName                         0.000000e+00  5.115174e-304   \n",
       "trafficControl                  0.000000e+00  8.211099e-214   \n",
       "urban                           0.000000e+00  1.435431e-167   \n",
       "weatherA                        0.000000e+00   0.000000e+00   \n",
       "weatherB                        0.000000e+00  2.168751e-304   \n",
       "numberOfLanes                   0.000000e+00  6.307913e-129   \n",
       "speedLimit                      0.000000e+00  9.374472e-201   \n",
       "animals                         2.021363e-02   1.147367e-03   \n",
       "bridge                         6.130868e-211   2.775568e-38   \n",
       "...                                      ...            ...   \n",
       "houseBuilding                  2.519808e-183  8.494268e-243   \n",
       "kerb                           2.158722e-171   0.000000e+00   \n",
       "objectThrownOrDropped           4.365671e-66   5.658111e-01   \n",
       "other                           6.250660e-20  7.328928e-138   \n",
       "overBank                        0.000000e+00  1.319289e-109   \n",
       "parkedVehicle                   0.000000e+00   0.000000e+00   \n",
       "phoneBoxEtc                     1.035469e-77  1.083956e-168   \n",
       "postOrPole                     1.423590e-148   0.000000e+00   \n",
       "roadworks                       1.348517e-13   9.825982e-27   \n",
       "slipFlood                       6.966726e-93   3.758522e-26   \n",
       "strayAnimal                     0.000000e+00   0.000000e+00   \n",
       "trafficIsland                   5.204199e-02   0.000000e+00   \n",
       "trafficSign                     2.279338e-90   0.000000e+00   \n",
       "train                           4.010521e-11   4.816745e-04   \n",
       "tree                            1.917428e-01   0.000000e+00   \n",
       "vehicle                        3.172104e-107   6.543413e-13   \n",
       "waterRiver                      1.684301e-41   2.809319e-45   \n",
       "bicycle                         0.000000e+00   0.000000e+00   \n",
       "bus                            4.733260e-141  1.613810e-185   \n",
       "carStationWagon                 0.000000e+00   0.000000e+00   \n",
       "moped                          2.768988e-146   1.764000e-11   \n",
       "motorCycle                      3.341325e-22  9.071598e-218   \n",
       "otherVehicleType                3.475834e-02   6.684470e-15   \n",
       "schoolBus                       2.355626e-01   5.540209e-28   \n",
       "suv                            1.220247e-135  8.338774e-138   \n",
       "taxi                           4.870168e-173   1.411440e-79   \n",
       "truck                           0.000000e+00   0.000000e+00   \n",
       "unknownVehicleType              6.585585e-01   9.958547e-01   \n",
       "vanOrUtility                   9.970478e-254   0.000000e+00   \n",
       "pedestrian                      0.000000e+00   2.910203e-56   \n",
       "\n",
       "                          directionRoleDescription       flatHill  \\\n",
       "cornerRoadSideRoad                    0.000000e+00   0.000000e+00   \n",
       "crashRPSH                             0.000000e+00   0.000000e+00   \n",
       "crashSeverity                         6.312706e-08  9.175632e-266   \n",
       "crashSHDescription                    0.000000e+00   5.419877e-96   \n",
       "darkLight                             1.353868e-08   2.763078e-54   \n",
       "directionRoleDescription              0.000000e+00   1.187480e-41   \n",
       "flatHill                              1.187480e-41   0.000000e+00   \n",
       "holiday                               3.666823e-04   2.094839e-40   \n",
       "intersection                          0.000000e+00   0.000000e+00   \n",
       "intersectionMidblock                  0.000000e+00   0.000000e+00   \n",
       "junctionType                          0.000000e+00   0.000000e+00   \n",
       "light                                 6.188074e-23   0.000000e+00   \n",
       "multiVehicle                         7.730089e-130   0.000000e+00   \n",
       "regionDesc                            0.000000e+00   0.000000e+00   \n",
       "roadCharacter                         6.270989e-40  2.507334e-186   \n",
       "roadCurvature                         2.287939e-44   0.000000e+00   \n",
       "roadLane                              0.000000e+00   1.126113e-63   \n",
       "roadMarkings                          1.754388e-94   0.000000e+00   \n",
       "roadSurface                           3.937800e-06   0.000000e+00   \n",
       "roadWet                               3.216668e-35   0.000000e+00   \n",
       "streetLight                          5.386067e-176   0.000000e+00   \n",
       "tlaName                               0.000000e+00   0.000000e+00   \n",
       "trafficControl                        0.000000e+00   0.000000e+00   \n",
       "urban                                 0.000000e+00   0.000000e+00   \n",
       "weatherA                              3.304681e-16   0.000000e+00   \n",
       "weatherB                              6.041329e-22   0.000000e+00   \n",
       "numberOfLanes                        4.347571e-279   0.000000e+00   \n",
       "speedLimit                            0.000000e+00   0.000000e+00   \n",
       "animals                               8.482794e-01   6.755909e-01   \n",
       "bridge                                6.061774e-05   4.798583e-01   \n",
       "...                                            ...            ...   \n",
       "houseBuilding                         3.050723e-03   5.376231e-01   \n",
       "kerb                                  4.415561e-01   6.318863e-10   \n",
       "objectThrownOrDropped                 4.027116e-02   3.534018e-01   \n",
       "other                                 8.473470e-04   5.744060e-08   \n",
       "overBank                              4.077779e-18   0.000000e+00   \n",
       "parkedVehicle                         1.512899e-50   1.213655e-06   \n",
       "phoneBoxEtc                           4.072506e-01   2.552259e-01   \n",
       "postOrPole                            3.207348e-01   9.168716e-04   \n",
       "roadworks                             8.076753e-01   7.260654e-01   \n",
       "slipFlood                             2.890896e-01   1.486754e-09   \n",
       "strayAnimal                           2.173991e-12   1.587574e-08   \n",
       "trafficIsland                         4.228862e-01   1.661765e-49   \n",
       "trafficSign                           7.833940e-01   1.422144e-02   \n",
       "train                                 6.652620e-07   2.740033e-09   \n",
       "tree                                  6.373215e-04   0.000000e+00   \n",
       "vehicle                               3.181124e-09   5.612238e-05   \n",
       "waterRiver                            2.613910e-01   3.641313e-02   \n",
       "bicycle                               6.867779e-18   2.538755e-43   \n",
       "bus                                   1.419192e-03   1.179344e-04   \n",
       "carStationWagon                      6.802404e-101   0.000000e+00   \n",
       "moped                                 2.043286e-03   9.699334e-14   \n",
       "motorCycle                            2.832754e-02   1.442181e-67   \n",
       "otherVehicleType                      7.890454e-01   3.960461e-01   \n",
       "schoolBus                             3.612102e-01   1.999817e-01   \n",
       "suv                                   2.718363e-05   2.300898e-01   \n",
       "taxi                                  4.442752e-04   1.221065e-06   \n",
       "truck                                 1.579516e-47   1.101570e-09   \n",
       "unknownVehicleType                    3.555504e-01   1.852518e-01   \n",
       "vanOrUtility                          1.500661e-02   1.215570e-09   \n",
       "pedestrian                            7.798183e-17  2.135499e-104   \n",
       "\n",
       "                                holiday   intersection  intersectionMidblock  \\\n",
       "cornerRoadSideRoad         9.809611e-02   0.000000e+00          0.000000e+00   \n",
       "crashRPSH                 3.501380e-246   0.000000e+00          0.000000e+00   \n",
       "crashSeverity              2.605378e-24   0.000000e+00          0.000000e+00   \n",
       "crashSHDescription        3.803621e-127   0.000000e+00          0.000000e+00   \n",
       "darkLight                  0.000000e+00  1.056962e-126         6.254560e-206   \n",
       "directionRoleDescription   3.666823e-04   0.000000e+00          0.000000e+00   \n",
       "flatHill                   2.094839e-40   0.000000e+00          0.000000e+00   \n",
       "holiday                    0.000000e+00   4.860076e-46          3.522101e-68   \n",
       "intersection               4.860076e-46   0.000000e+00          0.000000e+00   \n",
       "intersectionMidblock       3.522101e-68   0.000000e+00          0.000000e+00   \n",
       "junctionType              2.014942e-125   0.000000e+00          0.000000e+00   \n",
       "light                      0.000000e+00  8.050731e-195          0.000000e+00   \n",
       "multiVehicle               0.000000e+00   0.000000e+00          0.000000e+00   \n",
       "regionDesc                1.546436e-237   0.000000e+00          0.000000e+00   \n",
       "roadCharacter              8.948940e-05   0.000000e+00          0.000000e+00   \n",
       "roadCurvature             2.903939e-221   0.000000e+00          0.000000e+00   \n",
       "roadLane                   7.616985e-38   0.000000e+00          0.000000e+00   \n",
       "roadMarkings               1.403757e-59   0.000000e+00          0.000000e+00   \n",
       "roadSurface                3.861036e-65   0.000000e+00          0.000000e+00   \n",
       "roadWet                   2.623938e-209   0.000000e+00          0.000000e+00   \n",
       "streetLight                0.000000e+00   0.000000e+00          0.000000e+00   \n",
       "tlaName                    0.000000e+00   0.000000e+00          0.000000e+00   \n",
       "trafficControl            5.605708e-128   0.000000e+00          0.000000e+00   \n",
       "urban                     2.962483e-250   0.000000e+00          0.000000e+00   \n",
       "weatherA                  2.772865e-107  5.777869e-203         2.905231e-256   \n",
       "weatherB                  6.809939e-113   0.000000e+00          0.000000e+00   \n",
       "numberOfLanes              4.039922e-83   0.000000e+00          0.000000e+00   \n",
       "speedLimit                6.973055e-271   0.000000e+00          0.000000e+00   \n",
       "animals                    7.709031e-01   1.519492e-09          2.137855e-10   \n",
       "bridge                     2.136766e-03   0.000000e+00         7.888597e-307   \n",
       "...                                 ...            ...                   ...   \n",
       "houseBuilding              1.183116e-04   4.050614e-06          1.548342e-03   \n",
       "kerb                       6.150638e-05   3.972291e-10          1.474016e-08   \n",
       "objectThrownOrDropped      9.963465e-01   5.537166e-61          8.127892e-27   \n",
       "other                      1.815801e-04  6.036113e-113         2.062139e-142   \n",
       "overBank                   2.084202e-34   0.000000e+00          0.000000e+00   \n",
       "parkedVehicle              1.779022e-02   0.000000e+00          0.000000e+00   \n",
       "phoneBoxEtc                1.335080e-01   3.881121e-01          2.534063e-01   \n",
       "postOrPole                 3.725637e-28  2.111444e-147         4.319602e-168   \n",
       "roadworks                  5.265924e-02   1.710397e-10          8.355227e-14   \n",
       "slipFlood                  1.201723e-01   5.467392e-46          1.303566e-55   \n",
       "strayAnimal                2.010693e-09   0.000000e+00          0.000000e+00   \n",
       "trafficIsland              2.355648e-04   0.000000e+00          0.000000e+00   \n",
       "trafficSign                1.010805e-18  2.404606e-139          2.046075e-98   \n",
       "train                      3.441379e-01   0.000000e+00          9.453164e-26   \n",
       "tree                       3.213492e-37   0.000000e+00          0.000000e+00   \n",
       "vehicle                    1.422266e-04   1.633920e-97          4.297780e-35   \n",
       "waterRiver                 8.560937e-03  8.974615e-190         5.125285e-205   \n",
       "bicycle                    2.392630e-38   0.000000e+00          0.000000e+00   \n",
       "bus                        7.455906e-12   4.604283e-56          1.067959e-88   \n",
       "carStationWagon            4.296658e-23   0.000000e+00          0.000000e+00   \n",
       "moped                      3.392887e-04  5.553742e-109         8.462826e-110   \n",
       "motorCycle                 1.247402e-13   3.918489e-15          9.334115e-12   \n",
       "otherVehicleType           5.688084e-02   4.537207e-29          8.119074e-32   \n",
       "schoolBus                  1.395679e-02   9.824049e-01          8.308599e-01   \n",
       "suv                        5.051190e-01   2.780566e-13          1.815835e-23   \n",
       "taxi                       1.896357e-03   3.488656e-54          6.052290e-94   \n",
       "truck                     1.144786e-192  5.723058e-250         9.709531e-174   \n",
       "unknownVehicleType         2.092922e-02   4.042636e-01          7.458134e-01   \n",
       "vanOrUtility               3.782953e-18   2.840668e-34          7.078494e-42   \n",
       "pedestrian                 7.255404e-15  1.241579e-155          1.436592e-15   \n",
       "\n",
       "                              ...                moped     motorCycle  \\\n",
       "cornerRoadSideRoad            ...         2.336930e-01   1.131607e-23   \n",
       "crashRPSH                     ...         1.070070e-49  4.223572e-284   \n",
       "crashSeverity                 ...         0.000000e+00   0.000000e+00   \n",
       "crashSHDescription            ...        2.768988e-146   3.341325e-22   \n",
       "darkLight                     ...         1.764000e-11  9.071598e-218   \n",
       "directionRoleDescription      ...         2.043286e-03   2.832754e-02   \n",
       "flatHill                      ...         9.699334e-14   1.442181e-67   \n",
       "holiday                       ...         3.392887e-04   1.247402e-13   \n",
       "intersection                  ...        5.553742e-109   3.918489e-15   \n",
       "intersectionMidblock          ...        8.462826e-110   9.334115e-12   \n",
       "junctionType                  ...        2.920975e-201  2.229337e-134   \n",
       "light                         ...         1.639040e-22   0.000000e+00   \n",
       "multiVehicle                  ...         2.786775e-74  7.802700e-170   \n",
       "regionDesc                    ...         6.341704e-92   1.182502e-98   \n",
       "roadCharacter                 ...         7.683095e-09   1.367791e-02   \n",
       "roadCurvature                 ...         1.140395e-67  8.616812e-128   \n",
       "roadLane                      ...         1.942331e-23   7.956099e-06   \n",
       "roadMarkings                  ...         2.814118e-40   3.329464e-23   \n",
       "roadSurface                   ...         4.193050e-08   7.735402e-11   \n",
       "roadWet                       ...         7.371485e-14  4.600941e-277   \n",
       "streetLight                   ...         1.034272e-98  9.871182e-258   \n",
       "tlaName                       ...        5.932688e-310  2.687835e-252   \n",
       "trafficControl                ...        1.020770e-144   7.073157e-36   \n",
       "urban                         ...         0.000000e+00  3.166210e-164   \n",
       "weatherA                      ...         9.137343e-29  1.109669e-206   \n",
       "weatherB                      ...         3.814558e-01   4.383091e-23   \n",
       "numberOfLanes                 ...         1.758490e-04   2.386647e-07   \n",
       "speedLimit                    ...         0.000000e+00  4.021983e-144   \n",
       "animals                       ...         9.986339e-01   9.999997e-01   \n",
       "bridge                        ...         1.066240e-01   3.147627e-02   \n",
       "...                           ...                  ...            ...   \n",
       "houseBuilding                 ...         8.167793e-05   2.272648e-19   \n",
       "kerb                          ...         6.885515e-01   8.463045e-01   \n",
       "objectThrownOrDropped         ...         9.998785e-01   9.765707e-01   \n",
       "other                         ...         9.972590e-01   8.908367e-01   \n",
       "overBank                      ...         4.433633e-10   6.598716e-09   \n",
       "parkedVehicle                 ...         0.000000e+00  3.914870e-273   \n",
       "phoneBoxEtc                   ...         2.088949e-02   4.843918e-07   \n",
       "postOrPole                    ...         5.578045e-29  1.168520e-122   \n",
       "roadworks                     ...         9.996037e-01   9.701343e-01   \n",
       "slipFlood                     ...         9.806382e-01   1.067005e-57   \n",
       "strayAnimal                   ...         2.144721e-01   9.998704e-01   \n",
       "trafficIsland                 ...         9.964904e-01   9.999853e-01   \n",
       "trafficSign                   ...         3.975863e-10   6.702105e-14   \n",
       "train                         ...         8.892206e-01   3.766950e-01   \n",
       "tree                          ...         1.191244e-23   2.621114e-76   \n",
       "vehicle                       ...         4.985155e-01   7.531512e-04   \n",
       "waterRiver                    ...         3.605586e-02   3.866481e-03   \n",
       "bicycle                       ...         1.829895e-07   1.441580e-79   \n",
       "bus                           ...         1.805821e-02   5.094253e-22   \n",
       "carStationWagon               ...         0.000000e+00   0.000000e+00   \n",
       "moped                         ...         0.000000e+00   5.361339e-39   \n",
       "motorCycle                    ...         5.361339e-39   0.000000e+00   \n",
       "otherVehicleType              ...         9.964430e-02   4.650423e-01   \n",
       "schoolBus                     ...         9.481670e-01   8.960029e-01   \n",
       "suv                           ...         1.832839e-07   3.714012e-79   \n",
       "taxi                          ...         9.999270e-01   8.840235e-05   \n",
       "truck                         ...         1.822616e-32  5.610672e-147   \n",
       "unknownVehicleType            ...         9.999424e-01   9.999775e-01   \n",
       "vanOrUtility                  ...         1.420379e-43  5.174406e-197   \n",
       "pedestrian                    ...         7.427490e-02   2.261667e-51   \n",
       "\n",
       "                          otherVehicleType     schoolBus            suv  \\\n",
       "cornerRoadSideRoad            8.536614e-08  5.419807e-01   5.152767e-13   \n",
       "crashRPSH                    2.942202e-175  9.943916e-01  3.841805e-130   \n",
       "crashSeverity                 1.023684e-31  3.457405e-10   3.822733e-27   \n",
       "crashSHDescription            3.475834e-02  2.355626e-01  1.220247e-135   \n",
       "darkLight                     6.684470e-15  5.540209e-28  8.338774e-138   \n",
       "directionRoleDescription      7.890454e-01  3.612102e-01   2.718363e-05   \n",
       "flatHill                      3.960461e-01  1.999817e-01   2.300898e-01   \n",
       "holiday                       5.688084e-02  1.395679e-02   5.051190e-01   \n",
       "intersection                  4.537207e-29  9.824049e-01   2.780566e-13   \n",
       "intersectionMidblock          8.119074e-32  8.308599e-01   1.815835e-23   \n",
       "junctionType                  5.263477e-58  4.014435e-01   7.977449e-46   \n",
       "light                         5.648471e-25  1.669583e-25  1.857482e-149   \n",
       "multiVehicle                  7.141244e-48  3.993560e-11   0.000000e+00   \n",
       "regionDesc                    9.842928e-61  6.739735e-03  8.491019e-220   \n",
       "roadCharacter                 4.846518e-32  6.445104e-01   1.283705e-10   \n",
       "roadCurvature                 2.958925e-06  3.106103e-01   1.702118e-65   \n",
       "roadLane                      3.644893e-14  6.401546e-03   1.016542e-60   \n",
       "roadMarkings                  3.794667e-53  7.118959e-03   3.558693e-08   \n",
       "roadSurface                   5.627046e-79  3.535405e-08   2.016780e-50   \n",
       "roadWet                       2.195814e-20  9.577715e-01   5.964980e-61   \n",
       "streetLight                   3.908366e-29  2.716159e-18   0.000000e+00   \n",
       "tlaName                      1.769545e-150  2.351206e-02   0.000000e+00   \n",
       "trafficControl                4.544116e-05  2.568072e-02  9.570167e-194   \n",
       "urban                         1.187217e-85  2.017291e-04  1.239829e-133   \n",
       "weatherA                      1.008195e-12  7.004606e-01   4.514463e-20   \n",
       "weatherB                      4.895414e-01  5.695734e-01   9.380295e-23   \n",
       "numberOfLanes                 2.305605e-36  7.895598e-02   1.398173e-26   \n",
       "speedLimit                    7.805121e-98  3.881536e-02  9.082477e-178   \n",
       "animals                       9.738505e-01  9.992221e-01   9.988439e-01   \n",
       "bridge                        1.400732e-04  9.999413e-01   2.144405e-03   \n",
       "...                                    ...           ...            ...   \n",
       "houseBuilding                 2.610762e-10  4.889539e-01   8.714332e-13   \n",
       "kerb                          9.494126e-01  9.273113e-01   7.915969e-36   \n",
       "objectThrownOrDropped         1.887758e-13  9.996314e-01   1.701669e-01   \n",
       "other                         9.415509e-01  1.000000e+00   4.662449e-02   \n",
       "overBank                      2.602055e-02  9.999496e-01   3.692273e-06   \n",
       "parkedVehicle                 1.634408e-67  5.906604e-01   9.983755e-74   \n",
       "phoneBoxEtc                   6.056352e-01  7.586116e-01   7.843773e-10   \n",
       "postOrPole                    2.074850e-01  5.823776e-01   5.093349e-98   \n",
       "roadworks                     8.390415e-06  9.897572e-01   2.172045e-01   \n",
       "slipFlood                     8.999300e-01  9.991831e-01   8.913849e-05   \n",
       "strayAnimal                   3.567042e-02  9.999962e-01   3.740742e-05   \n",
       "trafficIsland                 2.374744e-01  8.659181e-01   2.627107e-30   \n",
       "trafficSign                   2.011936e-03  4.582600e-01   9.580301e-27   \n",
       "train                        3.949770e-114  8.877715e-01   7.141325e-01   \n",
       "tree                          4.398568e-07  6.201175e-01   4.032547e-56   \n",
       "vehicle                       2.406804e-16  6.320565e-12   9.990190e-01   \n",
       "waterRiver                    8.295437e-01  8.125341e-01   4.924887e-01   \n",
       "bicycle                       1.174173e-04  9.977676e-01   4.520306e-43   \n",
       "bus                           2.172065e-01  6.716165e-01   1.146727e-27   \n",
       "carStationWagon               0.000000e+00  6.596948e-84   0.000000e+00   \n",
       "moped                         9.964430e-02  9.481670e-01   1.832839e-07   \n",
       "motorCycle                    4.650423e-01  8.960029e-01   3.714012e-79   \n",
       "otherVehicleType              0.000000e+00  6.580535e-02   6.060003e-07   \n",
       "schoolBus                     6.580535e-02  0.000000e+00   8.570982e-01   \n",
       "suv                           6.060003e-07  8.570982e-01   0.000000e+00   \n",
       "taxi                          1.818018e-01  9.999335e-01   1.166175e-36   \n",
       "truck                         7.389958e-01  9.949038e-01  5.893201e-211   \n",
       "unknownVehicleType            9.942898e-01  9.990782e-01   9.976311e-01   \n",
       "vanOrUtility                  2.045720e-07  7.017142e-01   0.000000e+00   \n",
       "pedestrian                    1.445813e-03  6.906487e-05   9.951893e-62   \n",
       "\n",
       "                                   taxi          truck  unknownVehicleType  \\\n",
       "cornerRoadSideRoad         5.835624e-04   1.792213e-67        4.987269e-01   \n",
       "crashRPSH                  4.487386e-75   0.000000e+00        1.000000e+00   \n",
       "crashSeverity              1.167200e-25  4.878985e-273        7.471039e-01   \n",
       "crashSHDescription        4.870168e-173   0.000000e+00        6.585585e-01   \n",
       "darkLight                  1.411440e-79   0.000000e+00        9.958547e-01   \n",
       "directionRoleDescription   4.442752e-04   1.579516e-47        3.555504e-01   \n",
       "flatHill                   1.221065e-06   1.101570e-09        1.852518e-01   \n",
       "holiday                    1.896357e-03  1.144786e-192        2.092922e-02   \n",
       "intersection               3.488656e-54  5.723058e-250        4.042636e-01   \n",
       "intersectionMidblock       6.052290e-94  9.709531e-174        7.458134e-01   \n",
       "junctionType              6.287744e-165  1.657907e-244        9.767786e-01   \n",
       "light                      1.558095e-83   0.000000e+00        9.948613e-01   \n",
       "multiVehicle               0.000000e+00   0.000000e+00        9.898284e-01   \n",
       "regionDesc                 0.000000e+00   1.324228e-62        2.449798e-01   \n",
       "roadCharacter              4.633946e-03  8.531965e-182        9.932323e-01   \n",
       "roadCurvature             7.585291e-153   2.277349e-11        7.065592e-01   \n",
       "roadLane                   4.331147e-50  1.333022e-277        5.819420e-01   \n",
       "roadMarkings               2.421628e-27  7.719834e-129        9.245915e-01   \n",
       "roadSurface                9.283255e-21   1.614362e-05        5.153474e-02   \n",
       "roadWet                    3.760848e-04  7.872464e-117        7.810936e-01   \n",
       "streetLight                0.000000e+00   0.000000e+00        8.552181e-01   \n",
       "tlaName                    0.000000e+00   0.000000e+00        2.022228e-12   \n",
       "trafficControl            1.678450e-176   0.000000e+00        9.914965e-01   \n",
       "urban                      0.000000e+00   0.000000e+00        5.645710e-01   \n",
       "weatherA                   4.561450e-05   3.264507e-77        9.729634e-01   \n",
       "weatherB                   2.789981e-03   1.714173e-09        9.612134e-01   \n",
       "numberOfLanes             5.554661e-198  8.398393e-227        9.947095e-01   \n",
       "speedLimit                 0.000000e+00   0.000000e+00        2.638172e-01   \n",
       "animals                    9.937755e-01   2.110410e-01        9.996888e-01   \n",
       "bridge                     9.977652e-03  1.904253e-169        9.999647e-01   \n",
       "...                                 ...            ...                 ...   \n",
       "houseBuilding              8.088111e-02   3.075625e-12        9.867421e-01   \n",
       "kerb                       2.374835e-06   2.571564e-55        9.978782e-01   \n",
       "objectThrownOrDropped      9.999936e-01   3.206400e-38        9.999744e-01   \n",
       "other                      1.013970e-02   2.817657e-13        9.999935e-01   \n",
       "overBank                   1.195087e-17   2.414438e-21        9.967103e-01   \n",
       "parkedVehicle              0.000000e+00   0.000000e+00        2.770103e-02   \n",
       "phoneBoxEtc                1.150508e-01   1.729177e-30        9.927232e-01   \n",
       "postOrPole                 5.037337e-29   5.431834e-64        9.971732e-01   \n",
       "roadworks                  9.998811e-01   9.996485e-01        9.988291e-01   \n",
       "slipFlood                  9.725038e-01   9.995574e-01        9.999614e-01   \n",
       "strayAnimal                1.080484e-04   3.626470e-63        9.998940e-01   \n",
       "trafficIsland              9.961665e-01   7.385582e-21        9.983833e-01   \n",
       "trafficSign                3.420510e-12   2.434052e-12        9.726635e-01   \n",
       "train                      6.466030e-01   1.375547e-03        5.438741e-31   \n",
       "tree                       7.202989e-33  1.034768e-125        9.891840e-01   \n",
       "vehicle                   4.662918e-275  1.004638e-122        9.998627e-01   \n",
       "waterRiver                 7.776088e-03   1.698048e-12        9.938701e-01   \n",
       "bicycle                    9.958570e-01   3.518347e-82        9.998770e-01   \n",
       "bus                        4.250143e-07   7.945575e-27        9.974221e-01   \n",
       "carStationWagon            0.000000e+00   0.000000e+00        9.999868e-01   \n",
       "moped                      9.999270e-01   1.822616e-32        9.999424e-01   \n",
       "motorCycle                 8.840235e-05  5.610672e-147        9.999775e-01   \n",
       "otherVehicleType           1.818018e-01   7.389958e-01        9.942898e-01   \n",
       "schoolBus                  9.999335e-01   9.949038e-01        9.990782e-01   \n",
       "suv                        1.166175e-36  5.893201e-211        9.976311e-01   \n",
       "taxi                       0.000000e+00   4.814487e-22        9.998650e-01   \n",
       "truck                      4.814487e-22   0.000000e+00        9.983705e-01   \n",
       "unknownVehicleType         9.998650e-01   9.983705e-01        0.000000e+00   \n",
       "vanOrUtility               2.527103e-51  1.658897e-271        9.900738e-01   \n",
       "pedestrian                 1.320727e-30  6.055845e-101        9.544651e-01   \n",
       "\n",
       "                           vanOrUtility     pedestrian  \n",
       "cornerRoadSideRoad         1.613292e-46   4.240924e-03  \n",
       "crashRPSH                 3.438629e-189   0.000000e+00  \n",
       "crashSeverity              1.118210e-10   0.000000e+00  \n",
       "crashSHDescription        9.970478e-254   0.000000e+00  \n",
       "darkLight                  0.000000e+00   2.910203e-56  \n",
       "directionRoleDescription   1.500661e-02   7.798183e-17  \n",
       "flatHill                   1.215570e-09  2.135499e-104  \n",
       "holiday                    3.782953e-18   7.255404e-15  \n",
       "intersection               2.840668e-34  1.241579e-155  \n",
       "intersectionMidblock       7.078494e-42   1.436592e-15  \n",
       "junctionType              8.653926e-116   2.904669e-60  \n",
       "light                      0.000000e+00  1.162704e-145  \n",
       "multiVehicle               0.000000e+00   0.000000e+00  \n",
       "regionDesc                 0.000000e+00  4.426612e-142  \n",
       "roadCharacter              1.011059e-13   3.042656e-65  \n",
       "roadCurvature             4.171742e-194   0.000000e+00  \n",
       "roadLane                   5.984156e-26   5.904061e-60  \n",
       "roadMarkings               7.023841e-20   0.000000e+00  \n",
       "roadSurface                2.739286e-16   3.960354e-37  \n",
       "roadWet                    2.490785e-70  4.608494e-214  \n",
       "streetLight                0.000000e+00  1.863996e-263  \n",
       "tlaName                    0.000000e+00   0.000000e+00  \n",
       "trafficControl            8.488493e-248   0.000000e+00  \n",
       "urban                      4.640241e-93   0.000000e+00  \n",
       "weatherA                   6.192008e-06  1.096581e-142  \n",
       "weatherB                   4.338335e-39   7.599203e-25  \n",
       "numberOfLanes              3.703165e-13   2.900041e-41  \n",
       "speedLimit                1.406772e-104   0.000000e+00  \n",
       "animals                    5.641460e-01   8.747459e-01  \n",
       "bridge                     5.751728e-05   1.587939e-17  \n",
       "...                                 ...            ...  \n",
       "houseBuilding              2.669178e-19   1.162234e-11  \n",
       "kerb                       1.213101e-71   6.619534e-19  \n",
       "objectThrownOrDropped      4.836048e-02   8.689049e-01  \n",
       "other                      7.515122e-24   2.113841e-13  \n",
       "overBank                   5.391294e-16   3.150192e-60  \n",
       "parkedVehicle             4.676276e-109  3.205211e-258  \n",
       "phoneBoxEtc                3.605952e-19   1.385165e-05  \n",
       "postOrPole                5.229234e-190  1.114959e-171  \n",
       "roadworks                  2.217503e-02   7.871040e-01  \n",
       "slipFlood                  9.982218e-01   6.374854e-03  \n",
       "strayAnimal                2.952646e-09   2.290516e-33  \n",
       "trafficIsland              3.243096e-61   2.280581e-30  \n",
       "trafficSign                5.117036e-49   1.622474e-59  \n",
       "train                      4.453990e-01   1.609487e-02  \n",
       "tree                       0.000000e+00  1.257011e-136  \n",
       "vehicle                    2.539313e-04   9.745327e-07  \n",
       "waterRiver                 2.435919e-08   9.765842e-15  \n",
       "bicycle                    5.315951e-94   6.475334e-54  \n",
       "bus                        1.525747e-48   7.108328e-60  \n",
       "carStationWagon            0.000000e+00   0.000000e+00  \n",
       "moped                      1.420379e-43   7.427490e-02  \n",
       "motorCycle                5.174406e-197   2.261667e-51  \n",
       "otherVehicleType           2.045720e-07   1.445813e-03  \n",
       "schoolBus                  7.017142e-01   6.906487e-05  \n",
       "suv                        0.000000e+00   9.951893e-62  \n",
       "taxi                       2.527103e-51   1.320727e-30  \n",
       "truck                     1.658897e-271  6.055845e-101  \n",
       "unknownVehicleType         9.900738e-01   9.544651e-01  \n",
       "vanOrUtility               0.000000e+00   7.620142e-84  \n",
       "pedestrian                 7.620142e-84   0.000000e+00  \n",
       "\n",
       "[65 rows x 65 columns]"
      ]
     },
     "execution_count": 81,
     "metadata": {},
     "output_type": "execute_result"
    }
   ],
   "source": [
    "chi2_p_values"
   ]
  },
  {
   "cell_type": "markdown",
   "metadata": {},
   "source": [
    "<img src=\"images/chi2_p_values.png\" />"
   ]
  },
  {
   "cell_type": "markdown",
   "metadata": {},
   "source": [
    "Next, we present the same view as above buy with a treashold of 0.05 filter in order to be able to quickly identify the indpendent pair of features"
   ]
  },
  {
   "cell_type": "markdown",
   "metadata": {},
   "source": [
    "<img src=\"images/chi2_p_values_mask.png\" />"
   ]
  },
  {
   "cell_type": "markdown",
   "metadata": {},
   "source": [
    "As we can see, there is no single feature that is independant from every other feature, except for `otherVehicleType` and maybe `animals`. However, the most important detail to note here, is the fact that crashSeverity is dependant on almost every feature.\n",
    "\n",
    "This means that if we choose to remove any additional feature we would be removing information somewhat valuable for our model to use.\n",
    "\n",
    "At this point we can start to guess what sort of algorithms might turn out to be a good fit for this problem. Specifically, we will first implement a Naive Bayes Algorithms to be used as a benchmark; then we will try different ensemble methods based on tree classifiers as we suspect they could yield good precision and recall."
   ]
  },
  {
   "cell_type": "markdown",
   "metadata": {},
   "source": [
    "## 5. Exploratory Visualization"
   ]
  },
  {
   "cell_type": "markdown",
   "metadata": {},
   "source": [
    "We defer the visual exploration of the dataset to a Tableau workbook published on Tableau Public and available for download here:\n",
    "\n",
    "https://public.tableau.com/views/NZCrashAnalysisSystem2000-2018Q2/CrashesperRegion?:embed=y&:display_count=yes\n",
    "\n",
    "The workbook has some navigation controls that will allow for a deeper exploration of the data."
   ]
  },
  {
   "cell_type": "markdown",
   "metadata": {},
   "source": [
    "The workbook offers three dashboards. The first one called *Crashe per Region* presents the total number of crashes per region.\n",
    "\n",
    "Interestingly, Waikato has the most fatal crashes, closely followed by Auckland and Canterbury.\n",
    "All other severity levels show similar distribution with Auckland, Waikato, Canterbury and Wellington showing the highest concentrations, in that order."
   ]
  },
  {
   "cell_type": "markdown",
   "metadata": {},
   "source": [
    "<img src=\"images/crashes_per_region.png\" />"
   ]
  },
  {
   "cell_type": "markdown",
   "metadata": {},
   "source": [
    "The second dashboard marks each crash in a map, colored by its severity and also presents –for each region– the top 5 locations with the most number of crashes. The map and the list are linked to offered a more interactive exploration."
   ]
  },
  {
   "cell_type": "markdown",
   "metadata": {},
   "source": [
    "<img src=\"images/crash_locations_by_region_and_severity.png\" />"
   ]
  },
  {
   "cell_type": "markdown",
   "metadata": {},
   "source": [
    "The third dashboard shows the distribution of 8 different feature with regard to Crash Severity. Showing that–for each of these features– the distribution is very similar across crash Severity levels. This can be visualized by noting how similar are the 4 color bars (one for each crash severity level), in each feature's chart. Additionally, there's a region filters that allows to look at a specific region. This filter can be used to also see that all regions behave more or less the same."
   ]
  },
  {
   "cell_type": "markdown",
   "metadata": {
    "ExecuteTime": {
     "end_time": "2018-09-11T16:04:44.919235Z",
     "start_time": "2018-09-11T16:04:44.902521Z"
    }
   },
   "source": [
    "<img src=\"images/single_feature_distribution.png\" />"
   ]
  },
  {
   "cell_type": "markdown",
   "metadata": {},
   "source": [
    "These three dashbaord provide a great overview on the behavior of the dataset. Although we were note able to identify a specific characteristic that could help us understand what drives a given crash severity level; we do notice that there's a common trend both across crash severity levels and regions.\n",
    "\n",
    "This trend motivates us to explore the data with more powerful techniques. Specifically, our next step will be to try to reduce the dimensionality by applying PCA –after applying One Hot Enconding to our categorical features."
   ]
  },
  {
   "cell_type": "markdown",
   "metadata": {},
   "source": [
    "---"
   ]
  },
  {
   "cell_type": "markdown",
   "metadata": {
    "heading_collapsed": true
   },
   "source": [
    "## 6. Dimensionality Reduction"
   ]
  },
  {
   "cell_type": "markdown",
   "metadata": {
    "hidden": true
   },
   "source": [
    "First lets encode the data so that we can feed it to PCA."
   ]
  },
  {
   "cell_type": "code",
   "execution_count": 82,
   "metadata": {
    "ExecuteTime": {
     "end_time": "2018-10-10T21:58:42.898635Z",
     "start_time": "2018-10-10T21:58:41.893914Z"
    },
    "hidden": true
   },
   "outputs": [],
   "source": [
    "crash_data_ohe = create_one_hot_encoding(crash_data, features_catalog)"
   ]
  },
  {
   "cell_type": "code",
   "execution_count": 83,
   "metadata": {
    "ExecuteTime": {
     "end_time": "2018-10-10T21:58:45.474881Z",
     "start_time": "2018-10-10T21:58:44.920693Z"
    },
    "hidden": true
   },
   "outputs": [],
   "source": [
    "y = crash_data_ohe['crashSeverity']\n",
    "X = crash_data_ohe.drop('crashSeverity', axis=1)"
   ]
  },
  {
   "cell_type": "markdown",
   "metadata": {
    "heading_collapsed": true,
    "hidden": true
   },
   "source": [
    "### PCA"
   ]
  },
  {
   "cell_type": "code",
   "execution_count": 84,
   "metadata": {
    "ExecuteTime": {
     "end_time": "2018-10-10T21:59:05.990256Z",
     "start_time": "2018-10-10T21:58:50.373655Z"
    },
    "hidden": true,
    "scrolled": true
   },
   "outputs": [
    {
     "name": "stdout",
     "output_type": "stream",
     "text": [
      "[  9.77813916e-01   2.20478728e-03   1.52877400e-03   1.31933932e-03\n",
      "   1.29653141e-03   1.28370611e-03   9.83559794e-04   8.82282658e-04\n",
      "   6.95118783e-04   5.89259685e-04]\n"
     ]
    }
   ],
   "source": [
    "pca = PCA(n_components=10, random_state=42)\n",
    "reduced = pca.fit_transform(X)\n",
    "print(pca.explained_variance_ratio_)"
   ]
  },
  {
   "cell_type": "code",
   "execution_count": 85,
   "metadata": {
    "ExecuteTime": {
     "end_time": "2018-10-10T21:59:23.641046Z",
     "start_time": "2018-10-10T21:59:23.593284Z"
    },
    "hidden": true,
    "scrolled": true
   },
   "outputs": [],
   "source": [
    "reduced_df = pd.DataFrame(reduced)\n",
    "column_map = {i: 'PC{}'.format(i + 1) for i in reduced_df.columns}\n",
    "reduced_df.rename(mapper=column_map, copy=False, inplace=True, axis=1)\n",
    "reduced_df['target'] = y"
   ]
  },
  {
   "cell_type": "markdown",
   "metadata": {
    "hidden": true
   },
   "source": [
    "As we mentioned above, high correlation between features can throw PCA off. But in this case, we should also account for scaling values in our data. Since we have run our data through One Hot Encoding, our data now has a lot of boolean features plus some numerical ones.\n",
    "\n",
    "These reasons combined can be responsible for having the first principal component explaining 97.7% of total variance in the data.\n",
    "\n",
    "Regardless, if we see the first two component we get the the same image for all classes.\n",
    "\n",
    "**plotting them all at once will end up showing only the *Non Injury* due to class imbalance.**"
   ]
  },
  {
   "cell_type": "markdown",
   "metadata": {
    "hidden": true
   },
   "source": [
    "<img src=\"images/pca_1_pca2_dashboard.png\" />"
   ]
  },
  {
   "cell_type": "markdown",
   "metadata": {
    "hidden": true
   },
   "source": [
    "Next we see if by scaling all the features we can get a better results at uncovering latent features."
   ]
  },
  {
   "cell_type": "code",
   "execution_count": 86,
   "metadata": {
    "ExecuteTime": {
     "end_time": "2018-10-10T21:59:54.156549Z",
     "start_time": "2018-10-10T21:59:28.282794Z"
    },
    "hidden": true
   },
   "outputs": [
    {
     "name": "stdout",
     "output_type": "stream",
     "text": [
      "[ 0.14209255  0.07816058  0.06734782  0.06223127  0.05095299  0.04131367\n",
      "  0.03082423  0.02989217  0.02818863  0.02408065]\n"
     ]
    }
   ],
   "source": [
    "scaler = MinMaxScaler()\n",
    "X_scaled = scaler.fit_transform(X)\n",
    "\n",
    "reduced_scaled = pca.fit_transform(X_scaled)\n",
    "print(pca.explained_variance_ratio_)"
   ]
  },
  {
   "cell_type": "code",
   "execution_count": 87,
   "metadata": {
    "ExecuteTime": {
     "end_time": "2018-10-10T21:59:55.072083Z",
     "start_time": "2018-10-10T21:59:55.044930Z"
    },
    "hidden": true
   },
   "outputs": [],
   "source": [
    "reduced_scaled_df = pd.DataFrame(reduced_scaled)\n",
    "column_map = {i: 'PC{}'.format(i + 1) for i in reduced_scaled_df.columns}\n",
    "reduced_scaled_df.rename(mapper=column_map, copy=False, inplace=True, axis=1)\n",
    "reduced_scaled_df['target'] = y"
   ]
  },
  {
   "cell_type": "markdown",
   "metadata": {
    "hidden": true
   },
   "source": [
    "Unfortunately now, our first two PCs account only for 23% of total variance in the data. Thus, they might not be as predictable of the target variable as we hoped they would be. In fact, when we see the same scatter plot but for the sclaed features, we see a picture that is less interpretable than the previous one:"
   ]
  },
  {
   "cell_type": "markdown",
   "metadata": {
    "hidden": true
   },
   "source": [
    "<img src=\"images/pca_1_pca2_scaled_dashboard.png\" />"
   ]
  },
  {
   "cell_type": "markdown",
   "metadata": {
    "hidden": true
   },
   "source": [
    "Unfortunately, PCA has not given us usefull features for our classification goal. This could be due to the available features not being good predictor for the target variable. We will keep this option in mind as we implement the different classification algorithms on our second notebook."
   ]
  }
 ],
 "metadata": {
  "kernelspec": {
   "display_name": "Python [conda env:anaconda3]",
   "language": "python",
   "name": "conda-env-anaconda3-py"
  },
  "language_info": {
   "codemirror_mode": {
    "name": "ipython",
    "version": 3
   },
   "file_extension": ".py",
   "mimetype": "text/x-python",
   "name": "python",
   "nbconvert_exporter": "python",
   "pygments_lexer": "ipython3",
   "version": "3.6.5"
  }
 },
 "nbformat": 4,
 "nbformat_minor": 2
}
